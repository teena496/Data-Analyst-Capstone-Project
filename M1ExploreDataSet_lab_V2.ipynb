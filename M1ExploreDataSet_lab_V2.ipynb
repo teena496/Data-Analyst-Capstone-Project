{
  "metadata": {
    "kernelspec": {
      "name": "python",
      "display_name": "Python (Pyodide)",
      "language": "python"
    },
    "language_info": {
      "codemirror_mode": {
        "name": "python",
        "version": 3
      },
      "file_extension": ".py",
      "mimetype": "text/x-python",
      "name": "python",
      "nbconvert_exporter": "python",
      "pygments_lexer": "ipython3",
      "version": "3.8"
    },
    "prev_pub_hash": "75f9cbe799d7bcd81dfecdbcf1653c6ad01ca54b63272be450af5e5346a76987",
    "colab": {
      "provenance": [],
      "include_colab_link": true
    }
  },
  "nbformat_minor": 0,
  "nbformat": 4,
  "cells": [
    {
      "cell_type": "markdown",
      "metadata": {
        "id": "view-in-github",
        "colab_type": "text"
      },
      "source": [
        "<a href=\"https://colab.research.google.com/github/teena496/Data-Analyst-Capstone-Project/blob/main/M1ExploreDataSet_lab_V2.ipynb\" target=\"_parent\"><img src=\"https://colab.research.google.com/assets/colab-badge.svg\" alt=\"Open In Colab\"/></a>"
      ]
    },
    {
      "cell_type": "markdown",
      "source": [
        "<p style=\"text-align:center\">\n",
        "    <a href=\"https://skills.network\" target=\"_blank\">\n",
        "    <img src=\"https://cf-courses-data.s3.us.cloud-object-storage.appdomain.cloud/assets/logos/SN_web_lightmode.png\" width=\"200\" alt=\"Skills Network Logo\"  />\n",
        "    </a>\n",
        "</p>\n"
      ],
      "metadata": {
        "id": "m2aWNJ514TK5"
      }
    },
    {
      "cell_type": "markdown",
      "source": [
        "# **Lab: Exploring the Dataset**\n"
      ],
      "metadata": {
        "id": "-LZzFSCp4TK8"
      }
    },
    {
      "cell_type": "markdown",
      "source": [
        "Estimated time needed: **30** minutes\n"
      ],
      "metadata": {
        "id": "sSTwMSEm4TK8"
      }
    },
    {
      "cell_type": "markdown",
      "source": [
        "## Introduction\n"
      ],
      "metadata": {
        "id": "jb1ZH0t54TK8"
      }
    },
    {
      "cell_type": "markdown",
      "source": [
        "Data exploration is the initial phase of data analysis where we aim to understand the data's characteristics, identify patterns, and uncover potential insights. It is a crucial step that helps us make informed decisions about subsequent analysis.\n"
      ],
      "metadata": {
        "id": "OsxRvDAH4TK8"
      }
    },
    {
      "cell_type": "markdown",
      "source": [
        "## Objectives\n"
      ],
      "metadata": {
        "id": "kpxrGHiz4TK8"
      }
    },
    {
      "cell_type": "markdown",
      "source": [
        "After completing this lab, you will be able to:\n"
      ],
      "metadata": {
        "id": "WeYCV8mZ4TK8"
      }
    },
    {
      "cell_type": "markdown",
      "source": [
        "-   Summarize the key characteristics of a dataset.\n",
        "-   Identify different data types commonly used in data analysis.\n"
      ],
      "metadata": {
        "id": "yJyh7PrB4TK9"
      }
    },
    {
      "cell_type": "markdown",
      "source": [
        "### Install the required library\n"
      ],
      "metadata": {
        "id": "LjcmoMWo4TK9"
      }
    },
    {
      "cell_type": "code",
      "source": [
        "import micropip\n",
        "\n",
        "await micropip.install('pandas')\n",
        "\n",
        "# Import pandas after installation\n",
        "import pandas as pd\n",
        "import numpy as np\n",
        "print(pd.__version__)\n"
      ],
      "metadata": {
        "trusted": true,
        "id": "ctaE10mh4TK9",
        "outputId": "fe17561c-65e9-4a18-c150-d1faec3578b8"
      },
      "outputs": [
        {
          "name": "stdout",
          "text": "2.2.0\n",
          "output_type": "stream"
        }
      ],
      "execution_count": null
    },
    {
      "cell_type": "markdown",
      "source": [
        "## Load the dataset\n"
      ],
      "metadata": {
        "id": "dSVwGvxm4TK-"
      }
    },
    {
      "cell_type": "markdown",
      "source": [
        "<h3>Read Data</h3>\n",
        "<p>\n",
        "We utilize the <code>pandas.read_csv()</code> function for reading CSV files. However, in this version of the lab, which operates on JupyterLite, the dataset needs to be downloaded to the interface using the provided code below.\n",
        "</p>\n"
      ],
      "metadata": {
        "id": "vzTxk_k24TK_"
      }
    },
    {
      "cell_type": "markdown",
      "source": [
        "The functions below will download the dataset into your browser:\n"
      ],
      "metadata": {
        "id": "ga3U-bkP4TK_"
      }
    },
    {
      "cell_type": "code",
      "source": [
        "from pyodide.http import pyfetch\n",
        "\n",
        "async def download(url, filename):\n",
        "    response = await pyfetch(url)\n",
        "    if response.status == 200:\n",
        "        with open(filename, \"wb\") as f:\n",
        "            f.write(await response.bytes())"
      ],
      "metadata": {
        "trusted": true,
        "id": "bEmDoyd44TLA"
      },
      "outputs": [],
      "execution_count": null
    },
    {
      "cell_type": "code",
      "source": [
        "file_path = \"https://cf-courses-data.s3.us.cloud-object-storage.appdomain.cloud/n01PQ9pSmiRX6520flujwQ/survey-data.csv\""
      ],
      "metadata": {
        "trusted": true,
        "id": "YjcRh-L34TLA"
      },
      "outputs": [],
      "execution_count": null
    },
    {
      "cell_type": "markdown",
      "source": [
        "To obtain the dataset, utilize the download() function as defined above:  \n"
      ],
      "metadata": {
        "id": "6aIh3GUN4TLA"
      }
    },
    {
      "cell_type": "code",
      "source": [
        "await download(file_path, \"survey_data.csv\")\n",
        "file_name=\"survey_data.csv\""
      ],
      "metadata": {
        "trusted": true,
        "id": "D2i9dkJC4TLA"
      },
      "outputs": [],
      "execution_count": null
    },
    {
      "cell_type": "markdown",
      "source": [
        "Utilize the Pandas method read_csv() to load the data into a dataframe.\n"
      ],
      "metadata": {
        "id": "Pd4T-xu14TLB"
      }
    },
    {
      "cell_type": "code",
      "source": [
        "df = pd.read_csv(file_name)"
      ],
      "metadata": {
        "trusted": true,
        "id": "WgIr6p9u4TLB"
      },
      "outputs": [],
      "execution_count": null
    },
    {
      "cell_type": "markdown",
      "source": [
        "> Note: This version of the lab is working on JupyterLite, which requires the dataset to be downloaded to the interface.While working on the downloaded version of this notebook on their local machines(Jupyter Anaconda), the learners can simply **skip the steps above,** and simply use the URL directly in the `pandas.read_csv()` function. You can uncomment and run the statements in the cell below.\n"
      ],
      "metadata": {
        "id": "vWDqhSxr4TLB"
      }
    },
    {
      "cell_type": "markdown",
      "source": [
        "# Hands on Lab\n"
      ],
      "metadata": {
        "id": "h-1UJkcU4TLB"
      }
    },
    {
      "cell_type": "markdown",
      "source": [
        "## Explore the dataset\n"
      ],
      "metadata": {
        "id": "lvh-8wy14TLB"
      }
    },
    {
      "cell_type": "markdown",
      "source": [
        "It is a good idea to print the top 5 rows of the dataset to get a feel of how the dataset will look.\n"
      ],
      "metadata": {
        "id": "tLYG3qa74TLB"
      }
    },
    {
      "cell_type": "markdown",
      "source": [
        "Display the top 5 rows and columns from your dataset.\n"
      ],
      "metadata": {
        "id": "8y0b74jE4TLB"
      }
    },
    {
      "cell_type": "code",
      "source": [
        "## Write your code here\n",
        "df.head()"
      ],
      "metadata": {
        "trusted": true,
        "id": "AZiejVJZ4TLB",
        "outputId": "ce6f5851-acf8-4133-b636-6fde6dc71a94"
      },
      "outputs": [
        {
          "execution_count": 7,
          "output_type": "execute_result",
          "data": {
            "text/plain": "   ResponseId                      MainBranch                 Age  \\\n0           1  I am a developer by profession  Under 18 years old   \n1           2  I am a developer by profession     35-44 years old   \n2           3  I am a developer by profession     45-54 years old   \n3           4           I am learning to code     18-24 years old   \n4           5  I am a developer by profession     18-24 years old   \n\n            Employment RemoteWork   Check  \\\n0  Employed, full-time     Remote  Apples   \n1  Employed, full-time     Remote  Apples   \n2  Employed, full-time     Remote  Apples   \n3   Student, full-time        NaN  Apples   \n4   Student, full-time        NaN  Apples   \n\n                                    CodingActivities  \\\n0                                              Hobby   \n1  Hobby;Contribute to open-source projects;Other...   \n2  Hobby;Contribute to open-source projects;Other...   \n3                                                NaN   \n4                                                NaN   \n\n                                             EdLevel  \\\n0                          Primary/elementary school   \n1       Bachelor’s degree (B.A., B.S., B.Eng., etc.)   \n2    Master’s degree (M.A., M.S., M.Eng., MBA, etc.)   \n3  Some college/university study without earning ...   \n4  Secondary school (e.g. American high school, G...   \n\n                                           LearnCode  \\\n0                             Books / Physical media   \n1  Books / Physical media;Colleague;On the job tr...   \n2  Books / Physical media;Colleague;On the job tr...   \n3  Other online resources (e.g., videos, blogs, f...   \n4  Other online resources (e.g., videos, blogs, f...   \n\n                                     LearnCodeOnline  ... JobSatPoints_6  \\\n0                                                NaN  ...            NaN   \n1  Technical documentation;Blogs;Books;Written Tu...  ...            0.0   \n2  Technical documentation;Blogs;Books;Written Tu...  ...            NaN   \n3  Stack Overflow;How-to videos;Interactive tutorial  ...            NaN   \n4  Technical documentation;Blogs;Written Tutorial...  ...            NaN   \n\n  JobSatPoints_7 JobSatPoints_8 JobSatPoints_9 JobSatPoints_10  \\\n0            NaN            NaN            NaN             NaN   \n1            0.0            0.0            0.0             0.0   \n2            NaN            NaN            NaN             NaN   \n3            NaN            NaN            NaN             NaN   \n4            NaN            NaN            NaN             NaN   \n\n  JobSatPoints_11           SurveyLength SurveyEase ConvertedCompYearly JobSat  \n0             NaN                    NaN        NaN                 NaN    NaN  \n1             0.0                    NaN        NaN                 NaN    NaN  \n2             NaN  Appropriate in length       Easy                 NaN    NaN  \n3             NaN               Too long       Easy                 NaN    NaN  \n4             NaN              Too short       Easy                 NaN    NaN  \n\n[5 rows x 114 columns]",
            "text/html": "<div>\n<style scoped>\n    .dataframe tbody tr th:only-of-type {\n        vertical-align: middle;\n    }\n\n    .dataframe tbody tr th {\n        vertical-align: top;\n    }\n\n    .dataframe thead th {\n        text-align: right;\n    }\n</style>\n<table border=\"1\" class=\"dataframe\">\n  <thead>\n    <tr style=\"text-align: right;\">\n      <th></th>\n      <th>ResponseId</th>\n      <th>MainBranch</th>\n      <th>Age</th>\n      <th>Employment</th>\n      <th>RemoteWork</th>\n      <th>Check</th>\n      <th>CodingActivities</th>\n      <th>EdLevel</th>\n      <th>LearnCode</th>\n      <th>LearnCodeOnline</th>\n      <th>...</th>\n      <th>JobSatPoints_6</th>\n      <th>JobSatPoints_7</th>\n      <th>JobSatPoints_8</th>\n      <th>JobSatPoints_9</th>\n      <th>JobSatPoints_10</th>\n      <th>JobSatPoints_11</th>\n      <th>SurveyLength</th>\n      <th>SurveyEase</th>\n      <th>ConvertedCompYearly</th>\n      <th>JobSat</th>\n    </tr>\n  </thead>\n  <tbody>\n    <tr>\n      <th>0</th>\n      <td>1</td>\n      <td>I am a developer by profession</td>\n      <td>Under 18 years old</td>\n      <td>Employed, full-time</td>\n      <td>Remote</td>\n      <td>Apples</td>\n      <td>Hobby</td>\n      <td>Primary/elementary school</td>\n      <td>Books / Physical media</td>\n      <td>NaN</td>\n      <td>...</td>\n      <td>NaN</td>\n      <td>NaN</td>\n      <td>NaN</td>\n      <td>NaN</td>\n      <td>NaN</td>\n      <td>NaN</td>\n      <td>NaN</td>\n      <td>NaN</td>\n      <td>NaN</td>\n      <td>NaN</td>\n    </tr>\n    <tr>\n      <th>1</th>\n      <td>2</td>\n      <td>I am a developer by profession</td>\n      <td>35-44 years old</td>\n      <td>Employed, full-time</td>\n      <td>Remote</td>\n      <td>Apples</td>\n      <td>Hobby;Contribute to open-source projects;Other...</td>\n      <td>Bachelor’s degree (B.A., B.S., B.Eng., etc.)</td>\n      <td>Books / Physical media;Colleague;On the job tr...</td>\n      <td>Technical documentation;Blogs;Books;Written Tu...</td>\n      <td>...</td>\n      <td>0.0</td>\n      <td>0.0</td>\n      <td>0.0</td>\n      <td>0.0</td>\n      <td>0.0</td>\n      <td>0.0</td>\n      <td>NaN</td>\n      <td>NaN</td>\n      <td>NaN</td>\n      <td>NaN</td>\n    </tr>\n    <tr>\n      <th>2</th>\n      <td>3</td>\n      <td>I am a developer by profession</td>\n      <td>45-54 years old</td>\n      <td>Employed, full-time</td>\n      <td>Remote</td>\n      <td>Apples</td>\n      <td>Hobby;Contribute to open-source projects;Other...</td>\n      <td>Master’s degree (M.A., M.S., M.Eng., MBA, etc.)</td>\n      <td>Books / Physical media;Colleague;On the job tr...</td>\n      <td>Technical documentation;Blogs;Books;Written Tu...</td>\n      <td>...</td>\n      <td>NaN</td>\n      <td>NaN</td>\n      <td>NaN</td>\n      <td>NaN</td>\n      <td>NaN</td>\n      <td>NaN</td>\n      <td>Appropriate in length</td>\n      <td>Easy</td>\n      <td>NaN</td>\n      <td>NaN</td>\n    </tr>\n    <tr>\n      <th>3</th>\n      <td>4</td>\n      <td>I am learning to code</td>\n      <td>18-24 years old</td>\n      <td>Student, full-time</td>\n      <td>NaN</td>\n      <td>Apples</td>\n      <td>NaN</td>\n      <td>Some college/university study without earning ...</td>\n      <td>Other online resources (e.g., videos, blogs, f...</td>\n      <td>Stack Overflow;How-to videos;Interactive tutorial</td>\n      <td>...</td>\n      <td>NaN</td>\n      <td>NaN</td>\n      <td>NaN</td>\n      <td>NaN</td>\n      <td>NaN</td>\n      <td>NaN</td>\n      <td>Too long</td>\n      <td>Easy</td>\n      <td>NaN</td>\n      <td>NaN</td>\n    </tr>\n    <tr>\n      <th>4</th>\n      <td>5</td>\n      <td>I am a developer by profession</td>\n      <td>18-24 years old</td>\n      <td>Student, full-time</td>\n      <td>NaN</td>\n      <td>Apples</td>\n      <td>NaN</td>\n      <td>Secondary school (e.g. American high school, G...</td>\n      <td>Other online resources (e.g., videos, blogs, f...</td>\n      <td>Technical documentation;Blogs;Written Tutorial...</td>\n      <td>...</td>\n      <td>NaN</td>\n      <td>NaN</td>\n      <td>NaN</td>\n      <td>NaN</td>\n      <td>NaN</td>\n      <td>NaN</td>\n      <td>Too short</td>\n      <td>Easy</td>\n      <td>NaN</td>\n      <td>NaN</td>\n    </tr>\n  </tbody>\n</table>\n<p>5 rows × 114 columns</p>\n</div>"
          },
          "metadata": {}
        }
      ],
      "execution_count": null
    },
    {
      "cell_type": "markdown",
      "source": [
        "## Find out the number of rows and columns\n"
      ],
      "metadata": {
        "id": "ZFeNtHfZ4TLB"
      }
    },
    {
      "cell_type": "markdown",
      "source": [
        "Start by exploring the numbers of rows and columns of data in the dataset.\n"
      ],
      "metadata": {
        "id": "8Kupkzsp4TLC"
      }
    },
    {
      "cell_type": "markdown",
      "source": [
        "Print the number of rows in the dataset.\n"
      ],
      "metadata": {
        "id": "Py-F25tu4TLC"
      }
    },
    {
      "cell_type": "code",
      "source": [
        "## Write your code here\n",
        "df.shape[0]"
      ],
      "metadata": {
        "trusted": true,
        "id": "NCkSo1Au4TLC",
        "outputId": "34973177-4dd8-45ec-cb30-d9eaffd887af"
      },
      "outputs": [
        {
          "execution_count": 8,
          "output_type": "execute_result",
          "data": {
            "text/plain": "65437"
          },
          "metadata": {}
        }
      ],
      "execution_count": null
    },
    {
      "cell_type": "markdown",
      "source": [
        "Print the number of columns in the dataset.\n"
      ],
      "metadata": {
        "id": "LYXgXham4TLC"
      }
    },
    {
      "cell_type": "code",
      "source": [
        "## Write your code here\n",
        "df.shape[1]"
      ],
      "metadata": {
        "trusted": true,
        "id": "4Jd9VhCi4TLC",
        "outputId": "4716e9f4-35d3-451b-f03e-62e51d19d042"
      },
      "outputs": [
        {
          "execution_count": 9,
          "output_type": "execute_result",
          "data": {
            "text/plain": "114"
          },
          "metadata": {}
        }
      ],
      "execution_count": null
    },
    {
      "cell_type": "markdown",
      "source": [
        "## Identify the data types of each column\n"
      ],
      "metadata": {
        "id": "pfBWAgL64TLD"
      }
    },
    {
      "cell_type": "markdown",
      "source": [
        "Explore the dataset and identify the data types of each column.\n"
      ],
      "metadata": {
        "id": "paUOTfq34TLD"
      }
    },
    {
      "cell_type": "markdown",
      "source": [
        "Print the datatype of all columns.\n"
      ],
      "metadata": {
        "id": "bCdXA_lW4TLE"
      }
    },
    {
      "cell_type": "code",
      "source": [
        "## Write your code here\n",
        "types = df.dtypes\n",
        "typesDataFrame = pd.DataFrame(types)\n",
        "typesDataFrame"
      ],
      "metadata": {
        "trusted": true,
        "id": "UlGYrch-4TLE",
        "outputId": "5dbac7d9-9fac-42cc-f133-dd08f19d1ae1"
      },
      "outputs": [
        {
          "execution_count": 10,
          "output_type": "execute_result",
          "data": {
            "text/plain": "                           0\nResponseId             int64\nMainBranch            object\nAge                   object\nEmployment            object\nRemoteWork            object\n...                      ...\nJobSatPoints_11      float64\nSurveyLength          object\nSurveyEase            object\nConvertedCompYearly  float64\nJobSat               float64\n\n[114 rows x 1 columns]",
            "text/html": "<div>\n<style scoped>\n    .dataframe tbody tr th:only-of-type {\n        vertical-align: middle;\n    }\n\n    .dataframe tbody tr th {\n        vertical-align: top;\n    }\n\n    .dataframe thead th {\n        text-align: right;\n    }\n</style>\n<table border=\"1\" class=\"dataframe\">\n  <thead>\n    <tr style=\"text-align: right;\">\n      <th></th>\n      <th>0</th>\n    </tr>\n  </thead>\n  <tbody>\n    <tr>\n      <th>ResponseId</th>\n      <td>int64</td>\n    </tr>\n    <tr>\n      <th>MainBranch</th>\n      <td>object</td>\n    </tr>\n    <tr>\n      <th>Age</th>\n      <td>object</td>\n    </tr>\n    <tr>\n      <th>Employment</th>\n      <td>object</td>\n    </tr>\n    <tr>\n      <th>RemoteWork</th>\n      <td>object</td>\n    </tr>\n    <tr>\n      <th>...</th>\n      <td>...</td>\n    </tr>\n    <tr>\n      <th>JobSatPoints_11</th>\n      <td>float64</td>\n    </tr>\n    <tr>\n      <th>SurveyLength</th>\n      <td>object</td>\n    </tr>\n    <tr>\n      <th>SurveyEase</th>\n      <td>object</td>\n    </tr>\n    <tr>\n      <th>ConvertedCompYearly</th>\n      <td>float64</td>\n    </tr>\n    <tr>\n      <th>JobSat</th>\n      <td>float64</td>\n    </tr>\n  </tbody>\n</table>\n<p>114 rows × 1 columns</p>\n</div>"
          },
          "metadata": {}
        }
      ],
      "execution_count": null
    },
    {
      "cell_type": "markdown",
      "source": [
        "Print the mean age of the survey participants.\n"
      ],
      "metadata": {
        "id": "V2uzpxKt4TLE"
      }
    },
    {
      "cell_type": "code",
      "source": [
        "## Write your code here\n",
        "df.head()\n",
        "def mid_age(age):\n",
        "    if age == 'Under 18 years old':\n",
        "        return 17\n",
        "    elif age == '18-24 years old':\n",
        "        return 21\n",
        "    elif age == '25-34 years old':\n",
        "        return 29.5\n",
        "    elif age == '35-44 years old':\n",
        "        return 39.5\n",
        "    elif age == '45-54 years old':\n",
        "        return 49.5\n",
        "    elif age == '55-64 years old':\n",
        "        return 59.5\n",
        "    elif age == '65 years or older':\n",
        "        return 66\n",
        "    else:\n",
        "        return np.nan\n",
        "\n",
        "# df['Age']\n",
        "# mid_age()\n",
        "# Under 18 years old', '35-44 years old', '45-54 years old',\n",
        "# '18-24 years old', '25-34 years old', '55-64 years old',\n",
        "#  'Prefer not to say', '65 years or older'\n",
        "age_list = []\n",
        "for age in df['Age']:\n",
        "    age_list.append(mid_age(age))\n",
        "\n",
        "df['Age_Num'] = age_list\n",
        "\n",
        "df['Age_Num'].mean()\n",
        "\n",
        "df.isnull().sum()\n",
        "df['Age_Num'].dropna()\n",
        "df_cleaned = df.dropna(subset=['Age_Num'])\n",
        "df_cleaned['Age_Num'].mean()\n"
      ],
      "metadata": {
        "trusted": true,
        "id": "-io1ptwQ4TLE",
        "outputId": "a15f9f99-837b-4e3d-a2ec-0f7eadd43a7d"
      },
      "outputs": [
        {
          "execution_count": 22,
          "output_type": "execute_result",
          "data": {
            "text/plain": "32.99988481916609"
          },
          "metadata": {}
        }
      ],
      "execution_count": null
    },
    {
      "cell_type": "markdown",
      "source": [
        "The dataset is the result of a world wide survey. Print how many unique countries are there in the Country column.\n"
      ],
      "metadata": {
        "id": "rvM5SXyq4TLG"
      }
    },
    {
      "cell_type": "code",
      "source": [
        "## Write your code here\n",
        "df.dropna()\n",
        "\n",
        "df['Country'].unique()"
      ],
      "metadata": {
        "trusted": true,
        "id": "C7dz0Xm44TLH",
        "outputId": "431d0547-a4d4-4a46-e9b1-ab047bbee43c"
      },
      "outputs": [
        {
          "execution_count": 32,
          "output_type": "execute_result",
          "data": {
            "text/plain": "array(['United States of America',\n       'United Kingdom of Great Britain and Northern Ireland', 'Canada',\n       'Norway', 'Uzbekistan', 'Serbia', 'Poland', 'Philippines',\n       'Bulgaria', 'Switzerland', 'India', 'Germany', 'Ireland', 'Italy',\n       'Ukraine', 'Australia', 'Brazil', 'Japan', 'Austria',\n       'Iran, Islamic Republic of...', 'France', 'Saudi Arabia',\n       'Romania', 'Turkey', 'Nepal', 'Algeria', 'Sweden', 'Netherlands',\n       'Croatia', 'Pakistan', 'Czech Republic',\n       'Republic of North Macedonia', 'Finland', 'Slovakia',\n       'Russian Federation', 'Greece', 'Israel', 'Belgium', 'Mexico',\n       'United Republic of Tanzania', 'Hungary', 'Argentina', 'Portugal',\n       'Sri Lanka', 'Latvia', 'China', 'Singapore', 'Lebanon', 'Spain',\n       'South Africa', 'Lithuania', 'Viet Nam', 'Dominican Republic',\n       'Indonesia', 'Kosovo', 'Morocco', 'Taiwan', 'Georgia',\n       'San Marino', 'Tunisia', 'Bangladesh', 'Nigeria', 'Liechtenstein',\n       'Denmark', 'Ecuador', 'Malaysia', 'Albania', 'Azerbaijan', 'Chile',\n       'Ghana', 'Peru', 'Bolivia', 'Egypt', 'Luxembourg', 'Montenegro',\n       'Cyprus', 'Paraguay', 'Kazakhstan', 'Slovenia', 'Jordan',\n       'Venezuela, Bolivarian Republic of...', 'Costa Rica', 'Jamaica',\n       'Thailand', 'Nicaragua', 'Myanmar', 'Republic of Korea', 'Rwanda',\n       'Bosnia and Herzegovina', 'Benin', 'El Salvador', 'Zimbabwe',\n       'Afghanistan', 'Estonia', 'Malta', 'Uruguay', 'Belarus',\n       'Colombia', 'Republic of Moldova', 'Isle of Man', 'Nomadic',\n       'New Zealand', 'Palestine', 'Armenia', 'United Arab Emirates',\n       'Maldives', 'Ethiopia', 'Fiji', 'Guatemala', 'Uganda',\n       'Turkmenistan', 'Mauritius', 'Kenya', 'Cuba', 'Gabon', 'Bahamas',\n       'South Korea', 'Iceland', 'Honduras', 'Hong Kong (S.A.R.)',\n       \"Lao People's Democratic Republic\", 'Mongolia', 'Cambodia',\n       'Madagascar', 'Angola', 'Democratic Republic of the Congo',\n       'Syrian Arab Republic', 'Iraq', 'Namibia', 'Senegal', 'Kyrgyzstan',\n       'Zambia', 'Swaziland', \"Côte d'Ivoire\", 'Kuwait', 'Tajikistan',\n       'Burundi', 'Trinidad and Tobago', 'Mauritania', 'Sierra Leone',\n       'Panama', 'Somalia', 'North Korea', 'Dominica', 'Guyana', 'Togo',\n       'Oman', 'Barbados', 'Andorra',\n       \"Democratic People's Republic of Korea\", 'Qatar', 'Sudan',\n       'Cameroon', 'Papua New Guinea', 'Bahrain', 'Yemen', 'Malawi',\n       'Burkina Faso', 'Congo, Republic of the...', 'Botswana',\n       'Guinea-Bissau', 'Mozambique', 'Central African Republic',\n       'Equatorial Guinea', 'Suriname', 'Belize',\n       'Libyan Arab Jamahiriya', 'Cape Verde', 'Brunei Darussalam',\n       'Bhutan', 'Guinea', 'Niger', 'Antigua and Barbuda', 'Mali',\n       'Samoa', 'Lesotho', 'Saint Kitts and Nevis', 'Monaco',\n       'Micronesia, Federated States of...', 'Haiti', nan, 'Nauru',\n       'Liberia', 'Chad', 'Djibouti', 'Solomon Islands'], dtype=object)"
          },
          "metadata": {}
        }
      ],
      "execution_count": null
    },
    {
      "cell_type": "code",
      "source": [],
      "metadata": {
        "trusted": true,
        "id": "Vjzq4zIZ4TLJ"
      },
      "outputs": [],
      "execution_count": null
    },
    {
      "cell_type": "markdown",
      "source": [
        "Copyright ©  IBM Corporation. All rights reserved.\n"
      ],
      "metadata": {
        "id": "3LsJzwQ94TLK"
      }
    }
  ]
}