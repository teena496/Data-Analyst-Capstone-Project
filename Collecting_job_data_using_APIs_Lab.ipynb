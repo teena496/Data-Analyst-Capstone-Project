{
  "cells": [
    {
      "cell_type": "markdown",
      "metadata": {
        "id": "view-in-github",
        "colab_type": "text"
      },
      "source": [
        "<a href=\"https://colab.research.google.com/github/teena496/Data-Analyst-Capstone-Project/blob/main/Collecting_job_data_using_APIs_Lab.ipynb\" target=\"_parent\"><img src=\"https://colab.research.google.com/assets/colab-badge.svg\" alt=\"Open In Colab\"/></a>"
      ]
    },
    {
      "cell_type": "markdown",
      "metadata": {
        "id": "uAGYFh9qQFI5"
      },
      "source": [
        "<p style=\"text-align:center\">\n",
        "    <a href=\"https://skills.network\" target=\"_blank\">\n",
        "    <img src=\"https://cf-courses-data.s3.us.cloud-object-storage.appdomain.cloud/assets/logos/SN_web_lightmode.png\" width=\"200\" alt=\"Skills Network Logo\">\n",
        "    </a>\n",
        "</p>\n"
      ]
    },
    {
      "cell_type": "markdown",
      "metadata": {
        "id": "nzW75wh-QFI8"
      },
      "source": [
        "# **Collecting Job Data Using APIs**\n"
      ]
    },
    {
      "cell_type": "markdown",
      "metadata": {
        "id": "1S9z_-JrQFI8"
      },
      "source": [
        "Estimated time needed: **30** minutes\n"
      ]
    },
    {
      "cell_type": "markdown",
      "metadata": {
        "id": "tN89ZHdgQFJC"
      },
      "source": [
        "## Objectives\n"
      ]
    },
    {
      "cell_type": "markdown",
      "metadata": {
        "id": "FNhVFQutQFJC"
      },
      "source": [
        "After completing this lab, you will be able to:\n"
      ]
    },
    {
      "cell_type": "markdown",
      "metadata": {
        "id": "CjbLRAaQQFJC"
      },
      "source": [
        "*   Collect job data using Jobs API\n",
        "*   Store the collected data into an excel spreadsheet.\n"
      ]
    },
    {
      "cell_type": "markdown",
      "metadata": {
        "id": "lOXAWcDCQFJC"
      },
      "source": [
        "><strong>Note: Before starting with the assignment make sure to read all the instructions and then move ahead with the coding part.</strong>\n"
      ]
    },
    {
      "cell_type": "markdown",
      "metadata": {
        "id": "WDQoO7FCQFJI"
      },
      "source": [
        "#### Instructions\n"
      ]
    },
    {
      "cell_type": "markdown",
      "metadata": {
        "id": "sUQb6lXhQFJI"
      },
      "source": [
        "To run the actual lab, firstly you need to click on the [Jobs_API](https://cf-courses-data.s3.us.cloud-object-storage.appdomain.cloud/IBM-DA0321EN-SkillsNetwork/labs/module%201/Accessing%20Data%20Using%20APIs/Jobs_API.ipynb) notebook link. The file contains flask code which is required to run the Jobs API data.\n",
        "\n",
        "Now, to run the code in the file that opens up follow the below steps.\n",
        "\n",
        "Step1: Download the file.\n",
        "\n",
        "Step2: Upload the file into your current Jupyter environment using the upload button in your Jupyter interface. Ensure that the file is in the same folder as your working .ipynb file.\n",
        "\n",
        "Step 2: If working in a local Jupyter environment, use the \"Upload\" button in your Jupyter interface to upload the Jobs_API notebook into the same folder as your current .ipynb file.\n",
        "\n",
        "<img src=\"https://cf-courses-data.s3.us.cloud-object-storage.appdomain.cloud/IBM-DA0321EN-SkillsNetwork/labs/module%201/Accessing%20Data%20Using%20APIs/Upload.PNG\">\n",
        "\n",
        "Step3:  Open the Jobs_API notebook, and run all the cells to start the Flask application. Once the server is running, you can access the API from the URL provided in the notebook.\n",
        "\n",
        "If you want to learn more about flask, which is optional, you can click on this link [here](https://cf-courses-data.s3.us.cloud-object-storage.appdomain.cloud/IBM-DA0321EN-SkillsNetwork/labs/module%201/Accessing%20Data%20Using%20APIs/FLASK_API.md.html).\n",
        "\n",
        "Once you run the flask code, you can start with your assignment.\n"
      ]
    },
    {
      "cell_type": "markdown",
      "metadata": {
        "id": "ZzDD8ZJ1QFJI"
      },
      "source": [
        "## Dataset Used in this Assignment\n",
        "\n",
        "The dataset used in this lab comes from the following source: https://www.kaggle.com/promptcloud/jobs-on-naukricom under the under a **Public Domain license**.\n",
        "\n",
        "> Note: We are using a modified subset of that dataset for the lab, so to follow the lab instructions successfully please use the dataset provided with the lab, rather than the dataset from the original source.\n",
        "\n",
        "The original dataset is a csv. We have converted the csv to json as per the requirement of the lab.\n"
      ]
    },
    {
      "cell_type": "markdown",
      "metadata": {
        "id": "AuY5nahrQFJI"
      },
      "source": [
        "## Warm-Up Exercise\n"
      ]
    },
    {
      "cell_type": "markdown",
      "metadata": {
        "id": "JwpoQOLDQFJO"
      },
      "source": [
        "Before you attempt the actual lab, here is a fully solved warmup exercise that will help you to learn how to access an API.\n"
      ]
    },
    {
      "cell_type": "markdown",
      "metadata": {
        "id": "QuhDnCS_QFJO"
      },
      "source": [
        "Using an API, let us find out who currently are on the International Space Station (ISS).<br> The API at [http://api.open-notify.org/astros.json](http://api.open-notify.org/astros.json?utm_medium=Exinfluencer&utm_source=Exinfluencer&utm_content=000026UJ&utm_term=10006555&utm_id=NA-SkillsNetwork-Channel-SkillsNetworkCoursesIBMDA0321ENSkillsNetwork21426264-2021-01-01&cm_mmc=Email_Newsletter-_-Developer_Ed%2BTech-_-WW_WW-_-SkillsNetwork-Courses-IBM-DA0321EN-SkillsNetwork-21426264&cm_mmca1=000026UJ&cm_mmca2=10006555&cm_mmca3=M12345678&cvosrc=email.Newsletter.M12345678&cvo_campaign=000026UJ) gives us the information of astronauts currently on ISS in json format.<br>\n",
        "You can read more about this API at [http://open-notify.org/Open-Notify-API/People-In-Space/](http://open-notify.org/Open-Notify-API/People-In-Space?utm_medium=Exinfluencer&utm_source=Exinfluencer&utm_content=000026UJ&utm_term=10006555&utm_id=NA-SkillsNetwork-Channel-SkillsNetworkCoursesIBMDA0321ENSkillsNetwork21426264-2021-01-01&cm_mmc=Email_Newsletter-_-Developer_Ed%2BTech-_-WW_WW-_-SkillsNetwork-Courses-IBM-DA0321EN-SkillsNetwork-21426264&cm_mmca1=000026UJ&cm_mmca2=10006555&cm_mmca3=M12345678&cvosrc=email.Newsletter.M12345678&cvo_campaign=000026UJ)\n"
      ]
    },
    {
      "cell_type": "code",
      "execution_count": null,
      "metadata": {
        "tags": [],
        "id": "3eAOoGy8QFJP"
      },
      "outputs": [],
      "source": [
        "import requests # you need this module to make an API call\n",
        "import pandas as pd"
      ]
    },
    {
      "cell_type": "code",
      "execution_count": null,
      "metadata": {
        "tags": [],
        "id": "7zhousB3QFJP"
      },
      "outputs": [],
      "source": [
        "api_url = \"http://api.open-notify.org/astros.json\" # this url gives use the astronaut data"
      ]
    },
    {
      "cell_type": "code",
      "execution_count": null,
      "metadata": {
        "tags": [],
        "id": "F0cpvh_9QFJU"
      },
      "outputs": [],
      "source": [
        "response = requests.get(api_url) # Call the API using the get method and store the\n",
        "                                # output of the API call in a variable called response."
      ]
    },
    {
      "cell_type": "code",
      "execution_count": null,
      "metadata": {
        "tags": [],
        "id": "bv8ODCzLQFJU"
      },
      "outputs": [],
      "source": [
        "if response.ok:             # if all is well() no errors, no network timeouts)\n",
        "    data = response.json()  # store the result in json format in a variable called data\n",
        "                            # the variable data is of type dictionary."
      ]
    },
    {
      "cell_type": "code",
      "execution_count": null,
      "metadata": {
        "id": "9rS7jmCoQFJV",
        "outputId": "11cafce0-1691-436c-bd30-29aae24d4293"
      },
      "outputs": [
        {
          "name": "stdout",
          "output_type": "stream",
          "text": [
            "{'people': [{'craft': 'ISS', 'name': 'Oleg Kononenko'}, {'craft': 'ISS', 'name': 'Nikolai Chub'}, {'craft': 'ISS', 'name': 'Tracy Caldwell Dyson'}, {'craft': 'ISS', 'name': 'Matthew Dominick'}, {'craft': 'ISS', 'name': 'Michael Barratt'}, {'craft': 'ISS', 'name': 'Jeanette Epps'}, {'craft': 'ISS', 'name': 'Alexander Grebenkin'}, {'craft': 'ISS', 'name': 'Butch Wilmore'}, {'craft': 'ISS', 'name': 'Sunita Williams'}, {'craft': 'Tiangong', 'name': 'Li Guangsu'}, {'craft': 'Tiangong', 'name': 'Li Cong'}, {'craft': 'Tiangong', 'name': 'Ye Guangfu'}], 'number': 12, 'message': 'success'}\n"
          ]
        }
      ],
      "source": [
        "print(data)   # print the data just to check the output or for debugging"
      ]
    },
    {
      "cell_type": "markdown",
      "metadata": {
        "id": "Ksop1luWQFJa"
      },
      "source": [
        "Print the number of astronauts currently on ISS.\n"
      ]
    },
    {
      "cell_type": "code",
      "execution_count": null,
      "metadata": {
        "id": "G_vWlBMbQFJb",
        "outputId": "93ef6bf4-7e08-4a30-a973-46377facda48"
      },
      "outputs": [
        {
          "name": "stdout",
          "output_type": "stream",
          "text": [
            "12\n"
          ]
        }
      ],
      "source": [
        "print(data.get('number'))"
      ]
    },
    {
      "cell_type": "markdown",
      "metadata": {
        "id": "GTyPZd0pQFJb"
      },
      "source": [
        "Print the names of the astronauts currently on ISS.\n"
      ]
    },
    {
      "cell_type": "code",
      "execution_count": null,
      "metadata": {
        "id": "T0cH9pp2QFJb",
        "outputId": "7b0d8d14-cdcf-4e1d-f593-47dd89a98ee9"
      },
      "outputs": [
        {
          "name": "stdout",
          "output_type": "stream",
          "text": [
            "There are 12 astronauts on ISS\n",
            "And their names are :\n",
            "Oleg Kononenko\n",
            "Nikolai Chub\n",
            "Tracy Caldwell Dyson\n",
            "Matthew Dominick\n",
            "Michael Barratt\n",
            "Jeanette Epps\n",
            "Alexander Grebenkin\n",
            "Butch Wilmore\n",
            "Sunita Williams\n",
            "Li Guangsu\n",
            "Li Cong\n",
            "Ye Guangfu\n"
          ]
        }
      ],
      "source": [
        "astronauts = data.get('people')\n",
        "print(\"There are {} astronauts on ISS\".format(len(astronauts)))\n",
        "print(\"And their names are :\")\n",
        "for astronaut in astronauts:\n",
        "    print(astronaut.get('name'))"
      ]
    },
    {
      "cell_type": "markdown",
      "metadata": {
        "id": "K53yoIB-QFJh"
      },
      "source": [
        "Hope the warmup was helpful. Good luck with your next lab!\n"
      ]
    },
    {
      "cell_type": "markdown",
      "metadata": {
        "id": "eaVWWPr8QFJh"
      },
      "source": [
        "## Lab: Collect Jobs Data using Jobs API\n"
      ]
    },
    {
      "cell_type": "markdown",
      "metadata": {
        "id": "ojjLDCQZQFJh"
      },
      "source": [
        "### Objective: Determine the number of jobs currently open for various technologies  and for various locations\n"
      ]
    },
    {
      "cell_type": "markdown",
      "metadata": {
        "id": "-fQRk9HXQFJh"
      },
      "source": [
        "Collect the number of job postings for the following locations using the API:\n",
        "\n",
        "* Los Angeles\n",
        "* New York\n",
        "* San Francisco\n",
        "* Washington DC\n",
        "* Seattle\n",
        "* Austin\n",
        "* Detroit\n"
      ]
    },
    {
      "cell_type": "code",
      "execution_count": null,
      "metadata": {
        "id": "e5mP211tQFJn"
      },
      "outputs": [],
      "source": [
        "#Import required libraries\n",
        "import pandas as pd\n",
        "import json\n"
      ]
    },
    {
      "cell_type": "markdown",
      "metadata": {
        "id": "M0DPqS6-QFJn"
      },
      "source": [
        "https://cf-courses-data.s3.us.cloud-object-storage.appdomain.cloud/IBM-DA0321EN-SkillsNetwork/labs/module%201/Accessing%20Data%20Using%20APIs/jobs.json#### Write a function to get the number of jobs for the Python technology.<br>\n",
        "> Note: While using the lab you need to pass the **payload** information for the **params** attribute in the form of **key** **value** pairs.\n",
        "  Refer the ungraded **rest api lab** in the course **Python for Data Science, AI & Development**  <a href=\"https://www.coursera.org/learn/python-for-applied-data-science-ai/ungradedLti/P6sW8/hands-on-lab-access-rest-apis-request-http?utm_medium=Exinfluencer&utm_source=Exinfluencer&utm_content=000026UJ&utm_term=10006555&utm_id=NA-SkillsNetwork-Channel-SkillsNetworkCoursesIBMDA0321ENSkillsNetwork928-2022-01-01\">link</a>\n",
        "  \n",
        " ##### The keys in the json are\n",
        " * Job Title\n",
        "\n",
        " * Job Experience Required\n",
        "\n",
        " * Key Skills\n",
        "\n",
        " * Role Category\n",
        "\n",
        " * Location\n",
        "\n",
        " * Functional Area\n",
        "\n",
        " * Industry\n",
        "\n",
        " * Role\n",
        "\n",
        "You can also view  the json file contents  from the following <a href = \"https://cf-courses-data.s3.us.cloud-object-storage.appdomain.cloud/IBM-DA0321EN-SkillsNetwork/labs/module%201/Accessing%20Data%20Using%20APIs/jobs.json\">json</a> URL.\n",
        "\n"
      ]
    },
    {
      "cell_type": "code",
      "execution_count": null,
      "metadata": {
        "id": "p3hEhAN0QFJn"
      },
      "outputs": [],
      "source": [
        "import re  # Add this import\n",
        "\n",
        "api_url=\"https://cf-courses-data.s3.us.cloud-object-storage.appdomain.cloud/IBM-DA0321EN-SkillsNetwork/labs/module%201/Accessing%20Data%20Using%20APIs/jobs.json\"\n",
        "\n",
        "df = pd.read_json(api_url)\n",
        "df\n",
        "\n",
        "\n",
        "def get_number_of_jobs_T(technology):\n",
        "    escaped_tech = re.escape(technology)  # escape special characters like +\n",
        "    #your code goes here\n",
        "    skill_data = df[df['Key Skills'].str.contains(escaped_tech, case=False, na=False)]\n",
        "    number_of_jobs = len(skill_data)\n",
        "    return technology, number_of_jobs\n"
      ]
    },
    {
      "cell_type": "markdown",
      "metadata": {
        "id": "6AVQeQAQQFJn"
      },
      "source": [
        "Calling the function for Python and checking if it works.\n"
      ]
    },
    {
      "cell_type": "code",
      "execution_count": null,
      "metadata": {
        "id": "V9OoMIKpQFJt",
        "outputId": "7b471ca7-1346-480f-b226-21bc030bfef8"
      },
      "outputs": [
        {
          "data": {
            "text/plain": [
              "('Python', 1173)"
            ]
          },
          "execution_count": 37,
          "metadata": {},
          "output_type": "execute_result"
        }
      ],
      "source": [
        "get_number_of_jobs_T(\"Python\")"
      ]
    },
    {
      "cell_type": "markdown",
      "metadata": {
        "id": "0i8uPuu1QFJu"
      },
      "source": [
        "#### Write a function to find number of jobs in US for a location of your choice\n"
      ]
    },
    {
      "cell_type": "code",
      "execution_count": null,
      "metadata": {
        "tags": [],
        "id": "Jqi1-CaoQFJu",
        "outputId": "6fba2739-d204-4e20-9ae1-ec8bfef45cbf"
      },
      "outputs": [
        {
          "data": {
            "text/html": [
              "<div>\n",
              "<style scoped>\n",
              "    .dataframe tbody tr th:only-of-type {\n",
              "        vertical-align: middle;\n",
              "    }\n",
              "\n",
              "    .dataframe tbody tr th {\n",
              "        vertical-align: top;\n",
              "    }\n",
              "\n",
              "    .dataframe thead th {\n",
              "        text-align: right;\n",
              "    }\n",
              "</style>\n",
              "<table border=\"1\" class=\"dataframe\">\n",
              "  <thead>\n",
              "    <tr style=\"text-align: right;\">\n",
              "      <th></th>\n",
              "      <th>Id</th>\n",
              "      <th>Job Title</th>\n",
              "      <th>Job Experience Required</th>\n",
              "      <th>Key Skills</th>\n",
              "      <th>Role Category</th>\n",
              "      <th>Location</th>\n",
              "      <th>Functional Area</th>\n",
              "      <th>Industry</th>\n",
              "      <th>Role</th>\n",
              "    </tr>\n",
              "  </thead>\n",
              "  <tbody>\n",
              "    <tr>\n",
              "      <th>0</th>\n",
              "      <td>0</td>\n",
              "      <td>Digital Media Planner</td>\n",
              "      <td>5 - 10 yrs</td>\n",
              "      <td>Media Planning| Digital Media</td>\n",
              "      <td>Advertising</td>\n",
              "      <td>Los Angeles</td>\n",
              "      <td>Marketing , Advertising , MR , PR , Media Plan...</td>\n",
              "      <td>Advertising, PR, MR, Event Management</td>\n",
              "      <td>Media Planning Executive/Manager</td>\n",
              "    </tr>\n",
              "    <tr>\n",
              "      <th>1</th>\n",
              "      <td>1</td>\n",
              "      <td>Online Bidding Executive</td>\n",
              "      <td>2 - 5 yrs</td>\n",
              "      <td>pre sales| closing| software knowledge| client...</td>\n",
              "      <td>Retail Sales</td>\n",
              "      <td>New York</td>\n",
              "      <td>Sales , Retail , Business Development</td>\n",
              "      <td>IT-Software, Software Services</td>\n",
              "      <td>Sales Executive/Officer</td>\n",
              "    </tr>\n",
              "    <tr>\n",
              "      <th>2</th>\n",
              "      <td>2</td>\n",
              "      <td>Trainee Research/ Research Executive- Hi- Tech...</td>\n",
              "      <td>0 - 1 yrs</td>\n",
              "      <td>Computer science| Fabrication| Quality check| ...</td>\n",
              "      <td>R&amp;D</td>\n",
              "      <td>San Francisco</td>\n",
              "      <td>Engineering Design , R&amp;D</td>\n",
              "      <td>Recruitment, Staffing</td>\n",
              "      <td>R&amp;D Executive</td>\n",
              "    </tr>\n",
              "    <tr>\n",
              "      <th>3</th>\n",
              "      <td>3</td>\n",
              "      <td>Technical Support</td>\n",
              "      <td>0 - 5 yrs</td>\n",
              "      <td>Technical Support</td>\n",
              "      <td>Admin/Maintenance/Security/Datawarehousing</td>\n",
              "      <td>Washington DC</td>\n",
              "      <td>IT Software - Application Programming , Mainte...</td>\n",
              "      <td>IT-Software, Software Services</td>\n",
              "      <td>Technical Support Engineer</td>\n",
              "    </tr>\n",
              "    <tr>\n",
              "      <th>4</th>\n",
              "      <td>4</td>\n",
              "      <td>Software Test Engineer -hyderabad</td>\n",
              "      <td>2 - 5 yrs</td>\n",
              "      <td>manual testing| test engineering| test cases| ...</td>\n",
              "      <td>Programming &amp; Design</td>\n",
              "      <td>Boston</td>\n",
              "      <td>IT Software - QA &amp; Testing</td>\n",
              "      <td>IT-Software, Software Services</td>\n",
              "      <td>Testing Engineer</td>\n",
              "    </tr>\n",
              "  </tbody>\n",
              "</table>\n",
              "</div>"
            ],
            "text/plain": [
              "   Id                                          Job Title  \\\n",
              "0   0                              Digital Media Planner   \n",
              "1   1                           Online Bidding Executive   \n",
              "2   2  Trainee Research/ Research Executive- Hi- Tech...   \n",
              "3   3                                  Technical Support   \n",
              "4   4                  Software Test Engineer -hyderabad   \n",
              "\n",
              "  Job Experience Required                                         Key Skills  \\\n",
              "0              5 - 10 yrs                      Media Planning| Digital Media   \n",
              "1               2 - 5 yrs  pre sales| closing| software knowledge| client...   \n",
              "2               0 - 1 yrs  Computer science| Fabrication| Quality check| ...   \n",
              "3               0 - 5 yrs                                  Technical Support   \n",
              "4               2 - 5 yrs  manual testing| test engineering| test cases| ...   \n",
              "\n",
              "                                Role Category       Location  \\\n",
              "0                                 Advertising    Los Angeles   \n",
              "1                                Retail Sales       New York   \n",
              "2                                         R&D  San Francisco   \n",
              "3  Admin/Maintenance/Security/Datawarehousing  Washington DC   \n",
              "4                        Programming & Design         Boston   \n",
              "\n",
              "                                     Functional Area  \\\n",
              "0  Marketing , Advertising , MR , PR , Media Plan...   \n",
              "1              Sales , Retail , Business Development   \n",
              "2                           Engineering Design , R&D   \n",
              "3  IT Software - Application Programming , Mainte...   \n",
              "4                         IT Software - QA & Testing   \n",
              "\n",
              "                                Industry                              Role  \n",
              "0  Advertising, PR, MR, Event Management  Media Planning Executive/Manager  \n",
              "1         IT-Software, Software Services           Sales Executive/Officer  \n",
              "2                  Recruitment, Staffing                     R&D Executive  \n",
              "3         IT-Software, Software Services        Technical Support Engineer  \n",
              "4         IT-Software, Software Services                  Testing Engineer  "
            ]
          },
          "execution_count": 38,
          "metadata": {},
          "output_type": "execute_result"
        }
      ],
      "source": [
        "df.head()\n",
        "#"
      ]
    },
    {
      "cell_type": "code",
      "execution_count": null,
      "metadata": {
        "id": "6rfj2yxbQFJ0"
      },
      "outputs": [],
      "source": [
        " def get_number_of_jobs_L(location):\n",
        "    loc_data = df[df['Location'] == location]\n",
        "    number_of_jobs = len(loc_data)\n",
        "    #your coe goes here\n",
        "    return location,number_of_jobs"
      ]
    },
    {
      "cell_type": "markdown",
      "metadata": {
        "id": "NxVKnacGQFJ1"
      },
      "source": [
        "Call the function for Los Angeles and check if it is working.\n"
      ]
    },
    {
      "cell_type": "code",
      "execution_count": null,
      "metadata": {
        "id": "oc0fwNauQFJ1",
        "outputId": "6e88e4b5-845c-4e7f-98f9-8470a370a6e1"
      },
      "outputs": [
        {
          "data": {
            "text/plain": [
              "('New York', 3226)"
            ]
          },
          "execution_count": 40,
          "metadata": {},
          "output_type": "execute_result"
        }
      ],
      "source": [
        "#your code goes here\n",
        "get_number_of_jobs_L(\"New York\")"
      ]
    },
    {
      "cell_type": "markdown",
      "metadata": {
        "id": "uHkXfxWvQFJ1"
      },
      "source": [
        "### Store the results in an excel file\n"
      ]
    },
    {
      "cell_type": "markdown",
      "metadata": {
        "id": "CoGPR3v0QFJ6"
      },
      "source": [
        "Call the API for all the given technologies above and write the results in an excel spreadsheet.\n"
      ]
    },
    {
      "cell_type": "markdown",
      "metadata": {
        "id": "X-aorzE4QFJ7"
      },
      "source": [
        "If you do not know how create excel file using python, double click here for **hints**.\n",
        "\n",
        "<!--\n",
        "\n",
        "from openpyxl import Workbook        # import Workbook class from module openpyxl\n",
        "wb=Workbook()                        # create a workbook object\n",
        "ws=wb.active                         # use the active worksheet\n",
        "ws.append(['Country','Continent'])   # add a row with two columns 'Country' and 'Continent'\n",
        "ws.append(['Eygpt','Africa'])        # add a row with two columns 'Egypt' and 'Africa'\n",
        "ws.append(['India','Asia'])          # add another row\n",
        "ws.append(['France','Europe'])       # add another row\n",
        "wb.save(\"countries.xlsx\")            # save the workbook into a file called countries.xlsx\n",
        "\n",
        "\n",
        "-->\n"
      ]
    },
    {
      "cell_type": "markdown",
      "metadata": {
        "id": "BzlMKnA5QFKD"
      },
      "source": [
        "Create a python list of all technologies for which you need to find the number of jobs postings.\n"
      ]
    },
    {
      "cell_type": "code",
      "execution_count": null,
      "metadata": {
        "tags": [],
        "id": "STJL6LeuQFKD",
        "outputId": "4949512d-4b67-467e-9f37-c3b68d212d35"
      },
      "outputs": [
        {
          "data": {
            "text/html": [
              "<div>\n",
              "<style scoped>\n",
              "    .dataframe tbody tr th:only-of-type {\n",
              "        vertical-align: middle;\n",
              "    }\n",
              "\n",
              "    .dataframe tbody tr th {\n",
              "        vertical-align: top;\n",
              "    }\n",
              "\n",
              "    .dataframe thead th {\n",
              "        text-align: right;\n",
              "    }\n",
              "</style>\n",
              "<table border=\"1\" class=\"dataframe\">\n",
              "  <thead>\n",
              "    <tr style=\"text-align: right;\">\n",
              "      <th></th>\n",
              "      <th>Id</th>\n",
              "      <th>Job Title</th>\n",
              "      <th>Job Experience Required</th>\n",
              "      <th>Key Skills</th>\n",
              "      <th>Role Category</th>\n",
              "      <th>Location</th>\n",
              "      <th>Functional Area</th>\n",
              "      <th>Industry</th>\n",
              "      <th>Role</th>\n",
              "    </tr>\n",
              "  </thead>\n",
              "  <tbody>\n",
              "    <tr>\n",
              "      <th>23</th>\n",
              "      <td>24</td>\n",
              "      <td>Back End Java Developer - Restful Services/soap</td>\n",
              "      <td>6 - 8 yrs</td>\n",
              "      <td>Java EE| JMS| Core Java| JUnit| Weblogic| HTML...</td>\n",
              "      <td>Programming &amp; Design</td>\n",
              "      <td>Washington DC</td>\n",
              "      <td>IT Software - DBA , Datawarehousing</td>\n",
              "      <td>IT-Software, Software Services</td>\n",
              "      <td>Software Developer</td>\n",
              "    </tr>\n",
              "    <tr>\n",
              "      <th>52</th>\n",
              "      <td>60</td>\n",
              "      <td>Oracle DBA Consultant - Data Guard/rac Modules</td>\n",
              "      <td>2 - 5 yrs</td>\n",
              "      <td>WebLogic| configuration| MySQL| installation| ...</td>\n",
              "      <td>Admin/Maintenance/Security/Datawarehousing</td>\n",
              "      <td>Washington DC</td>\n",
              "      <td>IT Software - DBA , Datawarehousing</td>\n",
              "      <td>IT-Software, Software Services</td>\n",
              "      <td>DBA</td>\n",
              "    </tr>\n",
              "    <tr>\n",
              "      <th>76</th>\n",
              "      <td>87</td>\n",
              "      <td>PHP Developer</td>\n",
              "      <td>1 - 5 yrs</td>\n",
              "      <td>XML| Javascript| PHP| development| css| techni...</td>\n",
              "      <td>Programming &amp; Design</td>\n",
              "      <td>Washington DC</td>\n",
              "      <td>IT Software - Application Programming , Mainte...</td>\n",
              "      <td>IT-Software, Software Services</td>\n",
              "      <td>Software Developer</td>\n",
              "    </tr>\n",
              "    <tr>\n",
              "      <th>81</th>\n",
              "      <td>92</td>\n",
              "      <td>PHP Developer (wordpress &amp; Woo Commerce/shopif...</td>\n",
              "      <td>2 - 5 yrs</td>\n",
              "      <td>C| Woocommerce| Magento| Wordpress| MySQL| PHP...</td>\n",
              "      <td>Programming &amp; Design</td>\n",
              "      <td>Los Angeles</td>\n",
              "      <td>IT Software - Application Programming , Mainte...</td>\n",
              "      <td>IT-Software, Software Services</td>\n",
              "      <td>Software Developer</td>\n",
              "    </tr>\n",
              "    <tr>\n",
              "      <th>95</th>\n",
              "      <td>107</td>\n",
              "      <td>PHP Developer Jobs In Florida - Team Lead - PHP</td>\n",
              "      <td>8 - 13 yrs</td>\n",
              "      <td>Drupal| Application programming| MySQL| Wordpr...</td>\n",
              "      <td>Programming &amp; Design</td>\n",
              "      <td>Los Angeles</td>\n",
              "      <td>IT Software - Application Programming , Mainte...</td>\n",
              "      <td>Recruitment, Staffing</td>\n",
              "      <td>Software Developer</td>\n",
              "    </tr>\n",
              "    <tr>\n",
              "      <th>...</th>\n",
              "      <td>...</td>\n",
              "      <td>...</td>\n",
              "      <td>...</td>\n",
              "      <td>...</td>\n",
              "      <td>...</td>\n",
              "      <td>...</td>\n",
              "      <td>...</td>\n",
              "      <td>...</td>\n",
              "      <td>...</td>\n",
              "    </tr>\n",
              "    <tr>\n",
              "      <th>26978</th>\n",
              "      <td>29972</td>\n",
              "      <td>Opening For Software Developer (vb.net)</td>\n",
              "      <td>3 - 7 yrs</td>\n",
              "      <td>TFS| Software Development| VB.NET| Design Deve...</td>\n",
              "      <td>Programming &amp; Design</td>\n",
              "      <td>Detroit</td>\n",
              "      <td>IT Software - Application Programming , Mainte...</td>\n",
              "      <td>IT-Software, Software Services</td>\n",
              "      <td>Software Developer</td>\n",
              "    </tr>\n",
              "    <tr>\n",
              "      <th>26980</th>\n",
              "      <td>29974</td>\n",
              "      <td>Senior Developer (Big Data)</td>\n",
              "      <td>4 - 6 yrs</td>\n",
              "      <td>java| SCALA| Spark| SQL| Hadoop</td>\n",
              "      <td>Programming &amp; Design</td>\n",
              "      <td>Detroit</td>\n",
              "      <td>IT Software - Application Programming , Mainte...</td>\n",
              "      <td>IT-Software, Software Services</td>\n",
              "      <td>Software Developer</td>\n",
              "    </tr>\n",
              "    <tr>\n",
              "      <th>26990</th>\n",
              "      <td>29984</td>\n",
              "      <td>SoC Verification Engineers</td>\n",
              "      <td>2 - 7 yrs</td>\n",
              "      <td>Technical product configuration| design| integ...</td>\n",
              "      <td>Programming &amp; Design</td>\n",
              "      <td>Detroit</td>\n",
              "      <td>IT Software - Embedded , EDA , VLSI , ASIC , C...</td>\n",
              "      <td>IT-Software, Software Services</td>\n",
              "      <td>Team Lead/Technical Lead</td>\n",
              "    </tr>\n",
              "    <tr>\n",
              "      <th>26996</th>\n",
              "      <td>29991</td>\n",
              "      <td>Dot Net Developer</td>\n",
              "      <td>4 - 5 yrs</td>\n",
              "      <td>ASP.Net| HTML| C#| SQL Server| VB.NET| ASP| CS...</td>\n",
              "      <td>Programming &amp; Design</td>\n",
              "      <td>Detroit</td>\n",
              "      <td>IT Software - Application Programming , Mainte...</td>\n",
              "      <td>Oil and Gas, Energy, Power, Infrastructure</td>\n",
              "      <td>Software Developer</td>\n",
              "    </tr>\n",
              "    <tr>\n",
              "      <th>26997</th>\n",
              "      <td>29992</td>\n",
              "      <td>Backup &amp;amp; Storage Admin</td>\n",
              "      <td>2 - 7 yrs</td>\n",
              "      <td>c++| C| technical| data| architect| HTML| lead...</td>\n",
              "      <td>Programming &amp; Design</td>\n",
              "      <td>Detroit</td>\n",
              "      <td>IT Software - Application Programming , Mainte...</td>\n",
              "      <td>IT-Software, Software Services</td>\n",
              "      <td>Database Architect/Designer</td>\n",
              "    </tr>\n",
              "  </tbody>\n",
              "</table>\n",
              "<p>2636 rows × 9 columns</p>\n",
              "</div>"
            ],
            "text/plain": [
              "          Id                                          Job Title  \\\n",
              "23        24    Back End Java Developer - Restful Services/soap   \n",
              "52        60     Oracle DBA Consultant - Data Guard/rac Modules   \n",
              "76        87                                      PHP Developer   \n",
              "81        92  PHP Developer (wordpress & Woo Commerce/shopif...   \n",
              "95       107    PHP Developer Jobs In Florida - Team Lead - PHP   \n",
              "...      ...                                                ...   \n",
              "26978  29972            Opening For Software Developer (vb.net)   \n",
              "26980  29974                        Senior Developer (Big Data)   \n",
              "26990  29984                         SoC Verification Engineers   \n",
              "26996  29991                                  Dot Net Developer   \n",
              "26997  29992                         Backup &amp; Storage Admin   \n",
              "\n",
              "      Job Experience Required  \\\n",
              "23                  6 - 8 yrs   \n",
              "52                  2 - 5 yrs   \n",
              "76                  1 - 5 yrs   \n",
              "81                  2 - 5 yrs   \n",
              "95                 8 - 13 yrs   \n",
              "...                       ...   \n",
              "26978               3 - 7 yrs   \n",
              "26980               4 - 6 yrs   \n",
              "26990               2 - 7 yrs   \n",
              "26996               4 - 5 yrs   \n",
              "26997               2 - 7 yrs   \n",
              "\n",
              "                                              Key Skills  \\\n",
              "23     Java EE| JMS| Core Java| JUnit| Weblogic| HTML...   \n",
              "52     WebLogic| configuration| MySQL| installation| ...   \n",
              "76     XML| Javascript| PHP| development| css| techni...   \n",
              "81     C| Woocommerce| Magento| Wordpress| MySQL| PHP...   \n",
              "95     Drupal| Application programming| MySQL| Wordpr...   \n",
              "...                                                  ...   \n",
              "26978  TFS| Software Development| VB.NET| Design Deve...   \n",
              "26980                    java| SCALA| Spark| SQL| Hadoop   \n",
              "26990  Technical product configuration| design| integ...   \n",
              "26996  ASP.Net| HTML| C#| SQL Server| VB.NET| ASP| CS...   \n",
              "26997  c++| C| technical| data| architect| HTML| lead...   \n",
              "\n",
              "                                    Role Category       Location  \\\n",
              "23                           Programming & Design  Washington DC   \n",
              "52     Admin/Maintenance/Security/Datawarehousing  Washington DC   \n",
              "76                           Programming & Design  Washington DC   \n",
              "81                           Programming & Design    Los Angeles   \n",
              "95                           Programming & Design    Los Angeles   \n",
              "...                                           ...            ...   \n",
              "26978                        Programming & Design        Detroit   \n",
              "26980                        Programming & Design        Detroit   \n",
              "26990                        Programming & Design        Detroit   \n",
              "26996                        Programming & Design        Detroit   \n",
              "26997                        Programming & Design        Detroit   \n",
              "\n",
              "                                         Functional Area  \\\n",
              "23                   IT Software - DBA , Datawarehousing   \n",
              "52                   IT Software - DBA , Datawarehousing   \n",
              "76     IT Software - Application Programming , Mainte...   \n",
              "81     IT Software - Application Programming , Mainte...   \n",
              "95     IT Software - Application Programming , Mainte...   \n",
              "...                                                  ...   \n",
              "26978  IT Software - Application Programming , Mainte...   \n",
              "26980  IT Software - Application Programming , Mainte...   \n",
              "26990  IT Software - Embedded , EDA , VLSI , ASIC , C...   \n",
              "26996  IT Software - Application Programming , Mainte...   \n",
              "26997  IT Software - Application Programming , Mainte...   \n",
              "\n",
              "                                         Industry                         Role  \n",
              "23                 IT-Software, Software Services           Software Developer  \n",
              "52                 IT-Software, Software Services                          DBA  \n",
              "76                 IT-Software, Software Services           Software Developer  \n",
              "81                 IT-Software, Software Services           Software Developer  \n",
              "95                          Recruitment, Staffing           Software Developer  \n",
              "...                                           ...                          ...  \n",
              "26978              IT-Software, Software Services           Software Developer  \n",
              "26980              IT-Software, Software Services           Software Developer  \n",
              "26990              IT-Software, Software Services     Team Lead/Technical Lead  \n",
              "26996  Oil and Gas, Energy, Power, Infrastructure           Software Developer  \n",
              "26997              IT-Software, Software Services  Database Architect/Designer  \n",
              "\n",
              "[2636 rows x 9 columns]"
            ]
          },
          "execution_count": 50,
          "metadata": {},
          "output_type": "execute_result"
        }
      ],
      "source": [
        "df[df[\"Key Skills\"].str.contains('SQL')]"
      ]
    },
    {
      "cell_type": "code",
      "execution_count": null,
      "metadata": {
        "id": "OTHdfOx0QFKJ"
      },
      "outputs": [],
      "source": [
        "skills_list = ['Front End Developer', 'Data Analyst', 'Python', ' React', 'SQL'\n",
        "               , 'Angular']"
      ]
    },
    {
      "cell_type": "markdown",
      "metadata": {
        "id": "Jx9ATIJyQFKJ"
      },
      "source": [
        "Import libraries required to create excel spreadsheet\n"
      ]
    },
    {
      "cell_type": "code",
      "execution_count": null,
      "metadata": {
        "id": "22fsDNwbQFKK",
        "outputId": "f31eeaf8-0fc7-43a6-859e-24c93ac7d44c"
      },
      "outputs": [
        {
          "name": "stdout",
          "output_type": "stream",
          "text": [
            "Requirement already satisfied: openpyxl in /home/jupyterlab/conda/envs/python/lib/python3.7/site-packages (3.1.3)\n",
            "Requirement already satisfied: et-xmlfile in /home/jupyterlab/conda/envs/python/lib/python3.7/site-packages (from openpyxl) (1.1.0)\n"
          ]
        }
      ],
      "source": [
        "# your code goes here\n",
        "!pip install openpyxl\n",
        "\n",
        "from openpyxl import Workbook"
      ]
    },
    {
      "cell_type": "markdown",
      "metadata": {
        "id": "lWWcsnMkQFKP"
      },
      "source": [
        "Create a workbook and select the active worksheet\n"
      ]
    },
    {
      "cell_type": "code",
      "execution_count": null,
      "metadata": {
        "id": "naQZNaeRQFKQ"
      },
      "outputs": [],
      "source": [
        "# your code goes here\n",
        "wb = Workbook()\n",
        "ws = wb.active"
      ]
    },
    {
      "cell_type": "markdown",
      "metadata": {
        "id": "ZDUK75NPQFKQ"
      },
      "source": [
        "Find the number of jobs postings for each of the technology in the above list.\n",
        "Write the technology name and the number of jobs postings into the excel spreadsheet.\n"
      ]
    },
    {
      "cell_type": "code",
      "execution_count": null,
      "metadata": {
        "id": "ybutPed4QFKQ"
      },
      "outputs": [],
      "source": [
        "#your code goes here\n",
        "ws.append(['Technology', 'Number of postings'])\n",
        "for skill in skills_list:\n",
        "    job_nums = get_number_of_jobs_T(skill)\n",
        "    ws.append(job_nums)\n"
      ]
    },
    {
      "cell_type": "markdown",
      "metadata": {
        "id": "xq3lcBHzQFKV"
      },
      "source": [
        "Save into an excel spreadsheet named **job-postings.xlsx**.\n"
      ]
    },
    {
      "cell_type": "code",
      "execution_count": null,
      "metadata": {
        "id": "q9QHCJfqQFKV"
      },
      "outputs": [],
      "source": [
        "#your code goes here\n",
        "wb.save('job-postings.xlsx')"
      ]
    },
    {
      "cell_type": "markdown",
      "metadata": {
        "id": "kYdNHPExQFKW"
      },
      "source": [
        "#### In the similar way, you can try for below given technologies and results  can be stored in an excel sheet.\n"
      ]
    },
    {
      "cell_type": "markdown",
      "metadata": {
        "id": "qR_J2tYVQFKW"
      },
      "source": [
        "Collect the number of job postings for the following languages using the API:\n",
        "\n",
        "*   C\n",
        "*   C#\n",
        "*   C++\n",
        "*   Java\n",
        "*   JavaScript\n",
        "*   Python\n",
        "*   Scala\n",
        "*   Oracle\n",
        "*   SQL Server\n",
        "*   MySQL Server\n",
        "*   PostgreSQL\n",
        "*   MongoDB\n"
      ]
    },
    {
      "cell_type": "code",
      "execution_count": null,
      "metadata": {
        "id": "CQ_gZUjzQFKb"
      },
      "outputs": [],
      "source": [
        "# your code goes here\n",
        "tech_list = ['C', 'C#', 'C++', 'Java', 'JavaScript', 'Python', 'Scala',\n",
        "             'Oracle', 'SQL Server', 'MySQL Server', 'PostgreSQL', 'MongoDB']\n",
        "\n",
        "wb = Workbook()\n",
        "ws = wb.active\n",
        "ws.append(['Technology', 'Number of postings'])\n",
        "\n",
        "for tech in tech_list:\n",
        "    result = get_number_of_jobs_T(tech)\n",
        "    ws.append(list(result))  # Convert tuple to list before appending\n",
        "\n",
        "wb.save('jobs.xlsx')"
      ]
    },
    {
      "cell_type": "markdown",
      "metadata": {
        "id": "qaj3TlL6QFKb"
      },
      "source": [
        "## Authors\n"
      ]
    },
    {
      "cell_type": "markdown",
      "metadata": {
        "id": "rsSlOAJlQFKb"
      },
      "source": [
        "Ayushi Jain\n"
      ]
    },
    {
      "cell_type": "markdown",
      "metadata": {
        "id": "SiCIaWeOQFKb"
      },
      "source": [
        "### Other Contributors\n"
      ]
    },
    {
      "cell_type": "markdown",
      "metadata": {
        "id": "fgeXm5v7QFKh"
      },
      "source": [
        "Rav Ahuja\n",
        "\n",
        "Lakshmi Holla\n",
        "\n",
        "Malika\n"
      ]
    },
    {
      "cell_type": "markdown",
      "metadata": {
        "id": "v1xQGthRQFKh"
      },
      "source": [
        "Copyright © IBM Corporation.\n"
      ]
    },
    {
      "cell_type": "markdown",
      "metadata": {
        "id": "ISEA09JSQFKh"
      },
      "source": [
        "<!--## Change Log\n"
      ]
    },
    {
      "cell_type": "markdown",
      "metadata": {
        "id": "a0D49EJYQFKh"
      },
      "source": [
        "<!--| Date (YYYY-MM-DD) | Version | Changed By        | Change Description                 |\n",
        "| ----------------- | ------- | ----------------- | ---------------------------------- |\n",
        "| 2022-01-19        | 0.3     | Lakshmi Holla        | Added changes in the markdown      |\n",
        "| 2021-06-25        | 0.2     | Malika            | Updated GitHub job json link       |\n",
        "| 2020-10-17        | 0.1     | Ramesh Sannareddy | Created initial version of the lab |--!>\n"
      ]
    }
  ],
  "metadata": {
    "kernelspec": {
      "display_name": "Python",
      "language": "python",
      "name": "conda-env-python-py"
    },
    "language_info": {
      "codemirror_mode": {
        "name": "ipython",
        "version": 3
      },
      "file_extension": ".py",
      "mimetype": "text/x-python",
      "name": "python",
      "nbconvert_exporter": "python",
      "pygments_lexer": "ipython3",
      "version": "3.7.12"
    },
    "prev_pub_hash": "61a35a07ad98492b710274ae0e52a0fdce2221e88e366133dd4a20370680fa8f",
    "colab": {
      "provenance": [],
      "include_colab_link": true
    }
  },
  "nbformat": 4,
  "nbformat_minor": 0
}