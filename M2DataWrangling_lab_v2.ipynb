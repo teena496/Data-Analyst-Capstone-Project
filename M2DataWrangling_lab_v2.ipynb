{
  "cells": [
    {
      "cell_type": "markdown",
      "metadata": {
        "id": "view-in-github",
        "colab_type": "text"
      },
      "source": [
        "<a href=\"https://colab.research.google.com/github/teena496/Data-Analyst-Capstone-Project/blob/main/M2DataWrangling_lab_v2.ipynb\" target=\"_parent\"><img src=\"https://colab.research.google.com/assets/colab-badge.svg\" alt=\"Open In Colab\"/></a>"
      ]
    },
    {
      "cell_type": "markdown",
      "metadata": {
        "id": "byBkCKXaoQ_5"
      },
      "source": [
        "<p style=\"text-align:center\">\n",
        "    <a href=\"https://skills.network\" target=\"_blank\">\n",
        "    <img src=\"https://cf-courses-data.s3.us.cloud-object-storage.appdomain.cloud/assets/logos/SN_web_lightmode.png\" width=\"200\" alt=\"Skills Network Logo\"  />\n",
        "    </a>\n",
        "</p>\n"
      ]
    },
    {
      "cell_type": "markdown",
      "metadata": {
        "id": "6ebiMtUYoQ_6"
      },
      "source": [
        "# **Data Wrangling Lab**\n"
      ]
    },
    {
      "cell_type": "markdown",
      "metadata": {
        "id": "lPQwGhsboQ_6"
      },
      "source": [
        "Estimated time needed: **45** minutes\n"
      ]
    },
    {
      "cell_type": "markdown",
      "metadata": {
        "id": "LfSWE9NMoQ_7"
      },
      "source": [
        "In this lab, you will perform data wrangling tasks to prepare raw data for analysis. Data wrangling involves cleaning, transforming, and organizing data into a structured format suitable for analysis. This lab focuses on tasks like identifying inconsistencies, encoding categorical variables, and feature transformation.\n"
      ]
    },
    {
      "cell_type": "markdown",
      "metadata": {
        "id": "y1EmiE-VoQ_7"
      },
      "source": [
        "## Objectives\n"
      ]
    },
    {
      "cell_type": "markdown",
      "metadata": {
        "id": "qQqig-B7oQ_7"
      },
      "source": [
        "After completing this lab, you will be able to:\n"
      ]
    },
    {
      "cell_type": "markdown",
      "metadata": {
        "id": "IkGYUkS2oQ_7"
      },
      "source": [
        "- Identify and remove inconsistent data entries.\n",
        "\n",
        "- Encode categorical variables for analysis.\n",
        "\n",
        "- Handle missing values using multiple imputation strategies.\n",
        "\n",
        "- Apply feature scaling and transformation techniques.\n"
      ]
    },
    {
      "cell_type": "markdown",
      "metadata": {
        "id": "EM3M3wjRoQ_7"
      },
      "source": [
        "#### Intsall the required libraries\n"
      ]
    },
    {
      "cell_type": "code",
      "execution_count": null,
      "metadata": {
        "id": "-bvMaE56oQ_7",
        "outputId": "3b77c810-2d11-487a-a99f-4fdc69f142ea"
      },
      "outputs": [
        {
          "name": "stdout",
          "output_type": "stream",
          "text": [
            "Collecting pandas\n",
            "  Downloading pandas-2.2.3-cp312-cp312-manylinux_2_17_x86_64.manylinux2014_x86_64.whl.metadata (89 kB)\n",
            "Collecting numpy>=1.26.0 (from pandas)\n",
            "  Downloading numpy-2.2.4-cp312-cp312-manylinux_2_17_x86_64.manylinux2014_x86_64.whl.metadata (62 kB)\n",
            "Requirement already satisfied: python-dateutil>=2.8.2 in /opt/conda/lib/python3.12/site-packages (from pandas) (2.9.0.post0)\n",
            "Requirement already satisfied: pytz>=2020.1 in /opt/conda/lib/python3.12/site-packages (from pandas) (2024.2)\n",
            "Collecting tzdata>=2022.7 (from pandas)\n",
            "  Downloading tzdata-2025.2-py2.py3-none-any.whl.metadata (1.4 kB)\n",
            "Requirement already satisfied: six>=1.5 in /opt/conda/lib/python3.12/site-packages (from python-dateutil>=2.8.2->pandas) (1.17.0)\n",
            "Downloading pandas-2.2.3-cp312-cp312-manylinux_2_17_x86_64.manylinux2014_x86_64.whl (12.7 MB)\n",
            "\u001b[2K   \u001b[90m━━━━━━━━━━━━━━━━━━━━━━━━━━━━━━━━━━━━━━━━\u001b[0m \u001b[32m12.7/12.7 MB\u001b[0m \u001b[31m137.5 MB/s\u001b[0m eta \u001b[36m0:00:00\u001b[0m\n",
            "\u001b[?25hDownloading numpy-2.2.4-cp312-cp312-manylinux_2_17_x86_64.manylinux2014_x86_64.whl (16.1 MB)\n",
            "\u001b[2K   \u001b[90m━━━━━━━━━━━━━━━━━━━━━━━━━━━━━━━━━━━━━━━━\u001b[0m \u001b[32m16.1/16.1 MB\u001b[0m \u001b[31m132.5 MB/s\u001b[0m eta \u001b[36m0:00:00\u001b[0m\n",
            "\u001b[?25hDownloading tzdata-2025.2-py2.py3-none-any.whl (347 kB)\n",
            "Installing collected packages: tzdata, numpy, pandas\n",
            "Successfully installed numpy-2.2.4 pandas-2.2.3 tzdata-2025.2\n",
            "Collecting matplotlib\n",
            "  Downloading matplotlib-3.10.1-cp312-cp312-manylinux_2_17_x86_64.manylinux2014_x86_64.whl.metadata (11 kB)\n",
            "Collecting contourpy>=1.0.1 (from matplotlib)\n",
            "  Downloading contourpy-1.3.2-cp312-cp312-manylinux_2_17_x86_64.manylinux2014_x86_64.whl.metadata (5.5 kB)\n",
            "Collecting cycler>=0.10 (from matplotlib)\n",
            "  Downloading cycler-0.12.1-py3-none-any.whl.metadata (3.8 kB)\n",
            "Collecting fonttools>=4.22.0 (from matplotlib)\n",
            "  Downloading fonttools-4.57.0-cp312-cp312-manylinux_2_5_x86_64.manylinux1_x86_64.manylinux_2_17_x86_64.manylinux2014_x86_64.whl.metadata (102 kB)\n",
            "Collecting kiwisolver>=1.3.1 (from matplotlib)\n",
            "  Downloading kiwisolver-1.4.8-cp312-cp312-manylinux_2_17_x86_64.manylinux2014_x86_64.whl.metadata (6.2 kB)\n",
            "Requirement already satisfied: numpy>=1.23 in /opt/conda/lib/python3.12/site-packages (from matplotlib) (2.2.4)\n",
            "Requirement already satisfied: packaging>=20.0 in /opt/conda/lib/python3.12/site-packages (from matplotlib) (24.2)\n",
            "Collecting pillow>=8 (from matplotlib)\n",
            "  Downloading pillow-11.2.1-cp312-cp312-manylinux_2_28_x86_64.whl.metadata (8.9 kB)\n",
            "Collecting pyparsing>=2.3.1 (from matplotlib)\n",
            "  Downloading pyparsing-3.2.3-py3-none-any.whl.metadata (5.0 kB)\n",
            "Requirement already satisfied: python-dateutil>=2.7 in /opt/conda/lib/python3.12/site-packages (from matplotlib) (2.9.0.post0)\n",
            "Requirement already satisfied: six>=1.5 in /opt/conda/lib/python3.12/site-packages (from python-dateutil>=2.7->matplotlib) (1.17.0)\n",
            "Downloading matplotlib-3.10.1-cp312-cp312-manylinux_2_17_x86_64.manylinux2014_x86_64.whl (8.6 MB)\n",
            "\u001b[2K   \u001b[90m━━━━━━━━━━━━━━━━━━━━━━━━━━━━━━━━━━━━━━━━\u001b[0m \u001b[32m8.6/8.6 MB\u001b[0m \u001b[31m128.9 MB/s\u001b[0m eta \u001b[36m0:00:00\u001b[0m\n",
            "Downloading contourpy-1.3.2-cp312-cp312-manylinux_2_17_x86_64.manylinux2014_x86_64.whl (323 kB)\n",
            "Downloading cycler-0.12.1-py3-none-any.whl (8.3 kB)\n",
            "Downloading fonttools-4.57.0-cp312-cp312-manylinux_2_5_x86_64.manylinux1_x86_64.manylinux_2_17_x86_64.manylinux2014_x86_64.whl (4.9 MB)\n",
            "\u001b[2K   \u001b[90m━━━━━━━━━━━━━━━━━━━━━━━━━━━━━━━━━━━━━━━━\u001b[0m \u001b[32m4.9/4.9 MB\u001b[0m \u001b[31m137.5 MB/s\u001b[0m eta \u001b[36m0:00:00\u001b[0m\n",
            "\u001b[?25hDownloading kiwisolver-1.4.8-cp312-cp312-manylinux_2_17_x86_64.manylinux2014_x86_64.whl (1.5 MB)\n",
            "\u001b[2K   \u001b[90m━━━━━━━━━━━━━━━━━━━━━━━━━━━━━━━━━━━━━━━━\u001b[0m \u001b[32m1.5/1.5 MB\u001b[0m \u001b[31m73.1 MB/s\u001b[0m eta \u001b[36m0:00:00\u001b[0m\n",
            "\u001b[?25hDownloading pillow-11.2.1-cp312-cp312-manylinux_2_28_x86_64.whl (4.6 MB)\n",
            "\u001b[2K   \u001b[90m━━━━━━━━━━━━━━━━━━━━━━━━━━━━━━━━━━━━━━━━\u001b[0m \u001b[32m4.6/4.6 MB\u001b[0m \u001b[31m125.0 MB/s\u001b[0m eta \u001b[36m0:00:00\u001b[0m\n",
            "\u001b[?25hDownloading pyparsing-3.2.3-py3-none-any.whl (111 kB)\n",
            "Installing collected packages: pyparsing, pillow, kiwisolver, fonttools, cycler, contourpy, matplotlib\n",
            "Successfully installed contourpy-1.3.2 cycler-0.12.1 fonttools-4.57.0 kiwisolver-1.4.8 matplotlib-3.10.1 pillow-11.2.1 pyparsing-3.2.3\n"
          ]
        }
      ],
      "source": [
        "!pip install pandas\n",
        "!pip install matplotlib"
      ]
    },
    {
      "cell_type": "markdown",
      "metadata": {
        "id": "Os63WJC3oQ_9"
      },
      "source": [
        "## Tasks\n"
      ]
    },
    {
      "cell_type": "markdown",
      "metadata": {
        "id": "jTu1YvRfoQ_9"
      },
      "source": [
        "#### Step 1: Import the necessary module.\n"
      ]
    },
    {
      "cell_type": "markdown",
      "metadata": {
        "id": "AmGthW5UoQ_9"
      },
      "source": [
        "### 1. Load the Dataset\n"
      ]
    },
    {
      "cell_type": "markdown",
      "metadata": {
        "id": "DsIEDR4eoQ_9"
      },
      "source": [
        "<h5>1.1 Import necessary libraries and load the dataset.</h5>\n"
      ]
    },
    {
      "cell_type": "markdown",
      "metadata": {
        "id": "SCvrxDcPoQ_9"
      },
      "source": [
        "Ensure the dataset is loaded correctly by displaying the first few rows.\n"
      ]
    },
    {
      "cell_type": "code",
      "execution_count": null,
      "metadata": {
        "id": "ZNxBSAKDoQ_9",
        "outputId": "f13291c7-7bc8-464e-9cf4-f1a31b0b7338"
      },
      "outputs": [
        {
          "name": "stdout",
          "output_type": "stream",
          "text": [
            "   ResponseId                      MainBranch                 Age  \\\n",
            "0           1  I am a developer by profession  Under 18 years old   \n",
            "1           2  I am a developer by profession     35-44 years old   \n",
            "2           3  I am a developer by profession     45-54 years old   \n",
            "3           4           I am learning to code     18-24 years old   \n",
            "4           5  I am a developer by profession     18-24 years old   \n",
            "\n",
            "            Employment RemoteWork   Check  \\\n",
            "0  Employed, full-time     Remote  Apples   \n",
            "1  Employed, full-time     Remote  Apples   \n",
            "2  Employed, full-time     Remote  Apples   \n",
            "3   Student, full-time        NaN  Apples   \n",
            "4   Student, full-time        NaN  Apples   \n",
            "\n",
            "                                    CodingActivities  \\\n",
            "0                                              Hobby   \n",
            "1  Hobby;Contribute to open-source projects;Other...   \n",
            "2  Hobby;Contribute to open-source projects;Other...   \n",
            "3                                                NaN   \n",
            "4                                                NaN   \n",
            "\n",
            "                                             EdLevel  \\\n",
            "0                          Primary/elementary school   \n",
            "1       Bachelor’s degree (B.A., B.S., B.Eng., etc.)   \n",
            "2    Master’s degree (M.A., M.S., M.Eng., MBA, etc.)   \n",
            "3  Some college/university study without earning ...   \n",
            "4  Secondary school (e.g. American high school, G...   \n",
            "\n",
            "                                           LearnCode  \\\n",
            "0                             Books / Physical media   \n",
            "1  Books / Physical media;Colleague;On the job tr...   \n",
            "2  Books / Physical media;Colleague;On the job tr...   \n",
            "3  Other online resources (e.g., videos, blogs, f...   \n",
            "4  Other online resources (e.g., videos, blogs, f...   \n",
            "\n",
            "                                     LearnCodeOnline  ... JobSatPoints_6  \\\n",
            "0                                                NaN  ...            NaN   \n",
            "1  Technical documentation;Blogs;Books;Written Tu...  ...            0.0   \n",
            "2  Technical documentation;Blogs;Books;Written Tu...  ...            NaN   \n",
            "3  Stack Overflow;How-to videos;Interactive tutorial  ...            NaN   \n",
            "4  Technical documentation;Blogs;Written Tutorial...  ...            NaN   \n",
            "\n",
            "  JobSatPoints_7 JobSatPoints_8 JobSatPoints_9 JobSatPoints_10  \\\n",
            "0            NaN            NaN            NaN             NaN   \n",
            "1            0.0            0.0            0.0             0.0   \n",
            "2            NaN            NaN            NaN             NaN   \n",
            "3            NaN            NaN            NaN             NaN   \n",
            "4            NaN            NaN            NaN             NaN   \n",
            "\n",
            "  JobSatPoints_11           SurveyLength SurveyEase ConvertedCompYearly JobSat  \n",
            "0             NaN                    NaN        NaN                 NaN    NaN  \n",
            "1             0.0                    NaN        NaN                 NaN    NaN  \n",
            "2             NaN  Appropriate in length       Easy                 NaN    NaN  \n",
            "3             NaN               Too long       Easy                 NaN    NaN  \n",
            "4             NaN              Too short       Easy                 NaN    NaN  \n",
            "\n",
            "[5 rows x 114 columns]\n"
          ]
        }
      ],
      "source": [
        "# Import necessary libraries\n",
        "import pandas as pd\n",
        "\n",
        "# Load the Stack Overflow survey data\n",
        "dataset_url = \"https://cf-courses-data.s3.us.cloud-object-storage.appdomain.cloud/n01PQ9pSmiRX6520flujwQ/survey-data.csv\"\n",
        "df = pd.read_csv(dataset_url)\n",
        "\n",
        "# Display the first few rows\n",
        "print(df.head())\n"
      ]
    },
    {
      "cell_type": "markdown",
      "metadata": {
        "id": "3kVFrCX6oQ_9"
      },
      "source": [
        "#### 2. Explore the Dataset\n"
      ]
    },
    {
      "cell_type": "markdown",
      "metadata": {
        "id": "48glNOCgoQ_9"
      },
      "source": [
        "<h5>2.1 Summarize the dataset by displaying the column data types, counts, and missing values.</h5>\n"
      ]
    },
    {
      "cell_type": "code",
      "execution_count": null,
      "metadata": {
        "id": "GZLgTBJooQ_-",
        "outputId": "39ca6d16-25ec-48f9-f62d-558aa11e88fa"
      },
      "outputs": [
        {
          "data": {
            "text/plain": [
              "ResponseId               int64\n",
              "MainBranch              object\n",
              "Age                     object\n",
              "Employment              object\n",
              "RemoteWork              object\n",
              "                        ...   \n",
              "JobSatPoints_11        float64\n",
              "SurveyLength            object\n",
              "SurveyEase              object\n",
              "ConvertedCompYearly    float64\n",
              "JobSat                 float64\n",
              "Length: 114, dtype: object"
            ]
          },
          "execution_count": 31,
          "metadata": {},
          "output_type": "execute_result"
        }
      ],
      "source": [
        "# Write your code here\n",
        "df.dtypes"
      ]
    },
    {
      "cell_type": "code",
      "execution_count": null,
      "metadata": {
        "id": "snW8a54yoQ_-",
        "outputId": "ca7134b1-ae80-4d51-cc81-30d972a88cb7"
      },
      "outputs": [
        {
          "data": {
            "text/plain": [
              "Index(['ResponseId', 'MainBranch', 'Age', 'Employment', 'RemoteWork', 'Check',\n",
              "       'CodingActivities', 'EdLevel', 'LearnCode', 'LearnCodeOnline',\n",
              "       ...\n",
              "       'JobSatPoints_6', 'JobSatPoints_7', 'JobSatPoints_8', 'JobSatPoints_9',\n",
              "       'JobSatPoints_10', 'JobSatPoints_11', 'SurveyLength', 'SurveyEase',\n",
              "       'ConvertedCompYearly', 'JobSat'],\n",
              "      dtype='object', length=114)"
            ]
          },
          "execution_count": 32,
          "metadata": {},
          "output_type": "execute_result"
        }
      ],
      "source": [
        "df.columns"
      ]
    },
    {
      "cell_type": "code",
      "execution_count": null,
      "metadata": {
        "id": "530bYFDSoQ_-",
        "outputId": "f38d9bbf-8e7c-40d2-8cab-389e584ec9df"
      },
      "outputs": [
        {
          "data": {
            "text/plain": [
              "ResponseId                 0\n",
              "MainBranch                 0\n",
              "Age                        0\n",
              "Employment                 0\n",
              "RemoteWork             10631\n",
              "                       ...  \n",
              "JobSatPoints_11        35992\n",
              "SurveyLength            9255\n",
              "SurveyEase              9199\n",
              "ConvertedCompYearly    42002\n",
              "JobSat                 36311\n",
              "Length: 114, dtype: int64"
            ]
          },
          "execution_count": 33,
          "metadata": {},
          "output_type": "execute_result"
        }
      ],
      "source": [
        "df.isnull().sum()"
      ]
    },
    {
      "cell_type": "markdown",
      "metadata": {
        "id": "qVfPv_MOoQ_-"
      },
      "source": [
        "<h5>2.2 Generate basic statistics for numerical columns.</h5>\n"
      ]
    },
    {
      "cell_type": "code",
      "execution_count": null,
      "metadata": {
        "id": "APrwpm4xoQ_-",
        "outputId": "ad9c4b51-cde7-4bbb-bb3f-9a82b865c26a"
      },
      "outputs": [
        {
          "data": {
            "text/html": [
              "<div>\n",
              "<style scoped>\n",
              "    .dataframe tbody tr th:only-of-type {\n",
              "        vertical-align: middle;\n",
              "    }\n",
              "\n",
              "    .dataframe tbody tr th {\n",
              "        vertical-align: top;\n",
              "    }\n",
              "\n",
              "    .dataframe thead th {\n",
              "        text-align: right;\n",
              "    }\n",
              "</style>\n",
              "<table border=\"1\" class=\"dataframe\">\n",
              "  <thead>\n",
              "    <tr style=\"text-align: right;\">\n",
              "      <th></th>\n",
              "      <th>ResponseId</th>\n",
              "      <th>CompTotal</th>\n",
              "      <th>WorkExp</th>\n",
              "      <th>JobSatPoints_1</th>\n",
              "      <th>JobSatPoints_4</th>\n",
              "      <th>JobSatPoints_5</th>\n",
              "      <th>JobSatPoints_6</th>\n",
              "      <th>JobSatPoints_7</th>\n",
              "      <th>JobSatPoints_8</th>\n",
              "      <th>JobSatPoints_9</th>\n",
              "      <th>JobSatPoints_10</th>\n",
              "      <th>JobSatPoints_11</th>\n",
              "      <th>ConvertedCompYearly</th>\n",
              "      <th>JobSat</th>\n",
              "    </tr>\n",
              "  </thead>\n",
              "  <tbody>\n",
              "    <tr>\n",
              "      <th>count</th>\n",
              "      <td>65437.000000</td>\n",
              "      <td>3.374000e+04</td>\n",
              "      <td>29658.000000</td>\n",
              "      <td>29324.000000</td>\n",
              "      <td>29393.000000</td>\n",
              "      <td>29411.000000</td>\n",
              "      <td>29450.000000</td>\n",
              "      <td>29448.00000</td>\n",
              "      <td>29456.000000</td>\n",
              "      <td>29456.000000</td>\n",
              "      <td>29450.000000</td>\n",
              "      <td>29445.000000</td>\n",
              "      <td>2.343500e+04</td>\n",
              "      <td>29126.000000</td>\n",
              "    </tr>\n",
              "    <tr>\n",
              "      <th>mean</th>\n",
              "      <td>32719.000000</td>\n",
              "      <td>2.963841e+145</td>\n",
              "      <td>11.466957</td>\n",
              "      <td>18.581094</td>\n",
              "      <td>7.522140</td>\n",
              "      <td>10.060857</td>\n",
              "      <td>24.343232</td>\n",
              "      <td>22.96522</td>\n",
              "      <td>20.278165</td>\n",
              "      <td>16.169432</td>\n",
              "      <td>10.955713</td>\n",
              "      <td>9.953948</td>\n",
              "      <td>8.615529e+04</td>\n",
              "      <td>6.935041</td>\n",
              "    </tr>\n",
              "    <tr>\n",
              "      <th>std</th>\n",
              "      <td>18890.179119</td>\n",
              "      <td>5.444117e+147</td>\n",
              "      <td>9.168709</td>\n",
              "      <td>25.966221</td>\n",
              "      <td>18.422661</td>\n",
              "      <td>21.833836</td>\n",
              "      <td>27.089360</td>\n",
              "      <td>27.01774</td>\n",
              "      <td>26.108110</td>\n",
              "      <td>24.845032</td>\n",
              "      <td>22.906263</td>\n",
              "      <td>21.775652</td>\n",
              "      <td>1.867570e+05</td>\n",
              "      <td>2.088259</td>\n",
              "    </tr>\n",
              "    <tr>\n",
              "      <th>min</th>\n",
              "      <td>1.000000</td>\n",
              "      <td>0.000000e+00</td>\n",
              "      <td>0.000000</td>\n",
              "      <td>0.000000</td>\n",
              "      <td>0.000000</td>\n",
              "      <td>0.000000</td>\n",
              "      <td>0.000000</td>\n",
              "      <td>0.00000</td>\n",
              "      <td>0.000000</td>\n",
              "      <td>0.000000</td>\n",
              "      <td>0.000000</td>\n",
              "      <td>0.000000</td>\n",
              "      <td>1.000000e+00</td>\n",
              "      <td>0.000000</td>\n",
              "    </tr>\n",
              "    <tr>\n",
              "      <th>25%</th>\n",
              "      <td>16360.000000</td>\n",
              "      <td>6.000000e+04</td>\n",
              "      <td>4.000000</td>\n",
              "      <td>0.000000</td>\n",
              "      <td>0.000000</td>\n",
              "      <td>0.000000</td>\n",
              "      <td>0.000000</td>\n",
              "      <td>0.00000</td>\n",
              "      <td>0.000000</td>\n",
              "      <td>0.000000</td>\n",
              "      <td>0.000000</td>\n",
              "      <td>0.000000</td>\n",
              "      <td>3.271200e+04</td>\n",
              "      <td>6.000000</td>\n",
              "    </tr>\n",
              "    <tr>\n",
              "      <th>50%</th>\n",
              "      <td>32719.000000</td>\n",
              "      <td>1.100000e+05</td>\n",
              "      <td>9.000000</td>\n",
              "      <td>10.000000</td>\n",
              "      <td>0.000000</td>\n",
              "      <td>0.000000</td>\n",
              "      <td>20.000000</td>\n",
              "      <td>15.00000</td>\n",
              "      <td>10.000000</td>\n",
              "      <td>5.000000</td>\n",
              "      <td>0.000000</td>\n",
              "      <td>0.000000</td>\n",
              "      <td>6.500000e+04</td>\n",
              "      <td>7.000000</td>\n",
              "    </tr>\n",
              "    <tr>\n",
              "      <th>75%</th>\n",
              "      <td>49078.000000</td>\n",
              "      <td>2.500000e+05</td>\n",
              "      <td>16.000000</td>\n",
              "      <td>22.000000</td>\n",
              "      <td>5.000000</td>\n",
              "      <td>10.000000</td>\n",
              "      <td>30.000000</td>\n",
              "      <td>30.00000</td>\n",
              "      <td>25.000000</td>\n",
              "      <td>20.000000</td>\n",
              "      <td>10.000000</td>\n",
              "      <td>10.000000</td>\n",
              "      <td>1.079715e+05</td>\n",
              "      <td>8.000000</td>\n",
              "    </tr>\n",
              "    <tr>\n",
              "      <th>max</th>\n",
              "      <td>65437.000000</td>\n",
              "      <td>1.000000e+150</td>\n",
              "      <td>50.000000</td>\n",
              "      <td>100.000000</td>\n",
              "      <td>100.000000</td>\n",
              "      <td>100.000000</td>\n",
              "      <td>100.000000</td>\n",
              "      <td>100.00000</td>\n",
              "      <td>100.000000</td>\n",
              "      <td>100.000000</td>\n",
              "      <td>100.000000</td>\n",
              "      <td>100.000000</td>\n",
              "      <td>1.625660e+07</td>\n",
              "      <td>10.000000</td>\n",
              "    </tr>\n",
              "  </tbody>\n",
              "</table>\n",
              "</div>"
            ],
            "text/plain": [
              "         ResponseId      CompTotal       WorkExp  JobSatPoints_1  \\\n",
              "count  65437.000000   3.374000e+04  29658.000000    29324.000000   \n",
              "mean   32719.000000  2.963841e+145     11.466957       18.581094   \n",
              "std    18890.179119  5.444117e+147      9.168709       25.966221   \n",
              "min        1.000000   0.000000e+00      0.000000        0.000000   \n",
              "25%    16360.000000   6.000000e+04      4.000000        0.000000   \n",
              "50%    32719.000000   1.100000e+05      9.000000       10.000000   \n",
              "75%    49078.000000   2.500000e+05     16.000000       22.000000   \n",
              "max    65437.000000  1.000000e+150     50.000000      100.000000   \n",
              "\n",
              "       JobSatPoints_4  JobSatPoints_5  JobSatPoints_6  JobSatPoints_7  \\\n",
              "count    29393.000000    29411.000000    29450.000000     29448.00000   \n",
              "mean         7.522140       10.060857       24.343232        22.96522   \n",
              "std         18.422661       21.833836       27.089360        27.01774   \n",
              "min          0.000000        0.000000        0.000000         0.00000   \n",
              "25%          0.000000        0.000000        0.000000         0.00000   \n",
              "50%          0.000000        0.000000       20.000000        15.00000   \n",
              "75%          5.000000       10.000000       30.000000        30.00000   \n",
              "max        100.000000      100.000000      100.000000       100.00000   \n",
              "\n",
              "       JobSatPoints_8  JobSatPoints_9  JobSatPoints_10  JobSatPoints_11  \\\n",
              "count    29456.000000    29456.000000     29450.000000     29445.000000   \n",
              "mean        20.278165       16.169432        10.955713         9.953948   \n",
              "std         26.108110       24.845032        22.906263        21.775652   \n",
              "min          0.000000        0.000000         0.000000         0.000000   \n",
              "25%          0.000000        0.000000         0.000000         0.000000   \n",
              "50%         10.000000        5.000000         0.000000         0.000000   \n",
              "75%         25.000000       20.000000        10.000000        10.000000   \n",
              "max        100.000000      100.000000       100.000000       100.000000   \n",
              "\n",
              "       ConvertedCompYearly        JobSat  \n",
              "count         2.343500e+04  29126.000000  \n",
              "mean          8.615529e+04      6.935041  \n",
              "std           1.867570e+05      2.088259  \n",
              "min           1.000000e+00      0.000000  \n",
              "25%           3.271200e+04      6.000000  \n",
              "50%           6.500000e+04      7.000000  \n",
              "75%           1.079715e+05      8.000000  \n",
              "max           1.625660e+07     10.000000  "
            ]
          },
          "execution_count": 34,
          "metadata": {},
          "output_type": "execute_result"
        }
      ],
      "source": [
        "# Write your code here\n",
        "df.describe()"
      ]
    },
    {
      "cell_type": "markdown",
      "metadata": {
        "id": "fq9mRifJoQ_-"
      },
      "source": [
        "### 3. Identifying and Removing Inconsistencies\n"
      ]
    },
    {
      "cell_type": "markdown",
      "metadata": {
        "id": "hOFEYbmNoQ_-"
      },
      "source": [
        "<h5>3.1 Identify inconsistent or irrelevant entries in specific columns (e.g., Country).</h5>\n"
      ]
    },
    {
      "cell_type": "code",
      "execution_count": null,
      "metadata": {
        "id": "TQW5sDfSoQ_-",
        "outputId": "8e3f3db3-007d-47b1-866c-7b8aa259c78d"
      },
      "outputs": [
        {
          "data": {
            "text/plain": [
              "np.int64(6507)"
            ]
          },
          "execution_count": 35,
          "metadata": {},
          "output_type": "execute_result"
        }
      ],
      "source": [
        "# Write your code here\n",
        "df['Country'].isnull().sum()"
      ]
    },
    {
      "cell_type": "code",
      "execution_count": null,
      "metadata": {
        "id": "CTUIM1FtoQ__",
        "outputId": "bf379557-39ec-42d2-a1c0-c65ee8ce8775"
      },
      "outputs": [
        {
          "data": {
            "text/plain": [
              "186"
            ]
          },
          "execution_count": 36,
          "metadata": {},
          "output_type": "execute_result"
        }
      ],
      "source": [
        "len(df['Country'].unique())"
      ]
    },
    {
      "cell_type": "code",
      "execution_count": null,
      "metadata": {
        "id": "pFY7L3YLoQ__",
        "outputId": "fc331763-f374-449e-8cf7-16250e7b298e"
      },
      "outputs": [
        {
          "data": {
            "text/plain": [
              "array(['United States of America',\n",
              "       'United Kingdom of Great Britain and Northern Ireland', 'Canada',\n",
              "       'Norway', 'Uzbekistan', 'Serbia', 'Poland', 'Philippines',\n",
              "       'Bulgaria', 'Switzerland', 'India', 'Germany', 'Ireland', 'Italy',\n",
              "       'Ukraine', 'Australia', 'Brazil', 'Japan', 'Austria',\n",
              "       'Iran, Islamic Republic of...', 'France', 'Saudi Arabia',\n",
              "       'Romania', 'Turkey', 'Nepal', 'Algeria', 'Sweden', 'Netherlands',\n",
              "       'Croatia', 'Pakistan', 'Czech Republic',\n",
              "       'Republic of North Macedonia', 'Finland', 'Slovakia',\n",
              "       'Russian Federation', 'Greece', 'Israel', 'Belgium', 'Mexico',\n",
              "       'United Republic of Tanzania', 'Hungary', 'Argentina', 'Portugal',\n",
              "       'Sri Lanka', 'Latvia', 'China', 'Singapore', 'Lebanon', 'Spain',\n",
              "       'South Africa', 'Lithuania', 'Viet Nam', 'Dominican Republic',\n",
              "       'Indonesia', 'Kosovo', 'Morocco', 'Taiwan', 'Georgia',\n",
              "       'San Marino', 'Tunisia', 'Bangladesh', 'Nigeria', 'Liechtenstein',\n",
              "       'Denmark', 'Ecuador', 'Malaysia', 'Albania', 'Azerbaijan', 'Chile',\n",
              "       'Ghana', 'Peru', 'Bolivia', 'Egypt', 'Luxembourg', 'Montenegro',\n",
              "       'Cyprus', 'Paraguay', 'Kazakhstan', 'Slovenia', 'Jordan',\n",
              "       'Venezuela, Bolivarian Republic of...', 'Costa Rica', 'Jamaica',\n",
              "       'Thailand', 'Nicaragua', 'Myanmar', 'Republic of Korea', 'Rwanda',\n",
              "       'Bosnia and Herzegovina', 'Benin', 'El Salvador', 'Zimbabwe',\n",
              "       'Afghanistan', 'Estonia', 'Malta', 'Uruguay', 'Belarus',\n",
              "       'Colombia', 'Republic of Moldova', 'Isle of Man', 'Nomadic',\n",
              "       'New Zealand', 'Palestine', 'Armenia', 'United Arab Emirates',\n",
              "       'Maldives', 'Ethiopia', 'Fiji', 'Guatemala', 'Uganda',\n",
              "       'Turkmenistan', 'Mauritius', 'Kenya', 'Cuba', 'Gabon', 'Bahamas',\n",
              "       'South Korea', 'Iceland', 'Honduras', 'Hong Kong (S.A.R.)',\n",
              "       \"Lao People's Democratic Republic\", 'Mongolia', 'Cambodia',\n",
              "       'Madagascar', 'Angola', 'Democratic Republic of the Congo',\n",
              "       'Syrian Arab Republic', 'Iraq', 'Namibia', 'Senegal', 'Kyrgyzstan',\n",
              "       'Zambia', 'Swaziland', \"Côte d'Ivoire\", 'Kuwait', 'Tajikistan',\n",
              "       'Burundi', 'Trinidad and Tobago', 'Mauritania', 'Sierra Leone',\n",
              "       'Panama', 'Somalia', 'North Korea', 'Dominica', 'Guyana', 'Togo',\n",
              "       'Oman', 'Barbados', 'Andorra',\n",
              "       \"Democratic People's Republic of Korea\", 'Qatar', 'Sudan',\n",
              "       'Cameroon', 'Papua New Guinea', 'Bahrain', 'Yemen', 'Malawi',\n",
              "       'Burkina Faso', 'Congo, Republic of the...', 'Botswana',\n",
              "       'Guinea-Bissau', 'Mozambique', 'Central African Republic',\n",
              "       'Equatorial Guinea', 'Suriname', 'Belize',\n",
              "       'Libyan Arab Jamahiriya', 'Cape Verde', 'Brunei Darussalam',\n",
              "       'Bhutan', 'Guinea', 'Niger', 'Antigua and Barbuda', 'Mali',\n",
              "       'Samoa', 'Lesotho', 'Saint Kitts and Nevis', 'Monaco',\n",
              "       'Micronesia, Federated States of...', 'Haiti', nan, 'Nauru',\n",
              "       'Liberia', 'Chad', 'Djibouti', 'Solomon Islands'], dtype=object)"
            ]
          },
          "execution_count": 37,
          "metadata": {},
          "output_type": "execute_result"
        }
      ],
      "source": [
        "df['Country'].unique()"
      ]
    },
    {
      "cell_type": "code",
      "execution_count": null,
      "metadata": {
        "id": "PDPeO37SoQ__",
        "outputId": "3305ca67-dcb8-492e-d874-595f409c385a"
      },
      "outputs": [
        {
          "data": {
            "text/html": [
              "<div>\n",
              "<style scoped>\n",
              "    .dataframe tbody tr th:only-of-type {\n",
              "        vertical-align: middle;\n",
              "    }\n",
              "\n",
              "    .dataframe tbody tr th {\n",
              "        vertical-align: top;\n",
              "    }\n",
              "\n",
              "    .dataframe thead th {\n",
              "        text-align: right;\n",
              "    }\n",
              "</style>\n",
              "<table border=\"1\" class=\"dataframe\">\n",
              "  <thead>\n",
              "    <tr style=\"text-align: right;\">\n",
              "      <th></th>\n",
              "      <th>ResponseId</th>\n",
              "      <th>MainBranch</th>\n",
              "      <th>Age</th>\n",
              "      <th>Employment</th>\n",
              "      <th>RemoteWork</th>\n",
              "      <th>Check</th>\n",
              "      <th>CodingActivities</th>\n",
              "      <th>EdLevel</th>\n",
              "      <th>LearnCode</th>\n",
              "      <th>LearnCodeOnline</th>\n",
              "      <th>...</th>\n",
              "      <th>JobSatPoints_6</th>\n",
              "      <th>JobSatPoints_7</th>\n",
              "      <th>JobSatPoints_8</th>\n",
              "      <th>JobSatPoints_9</th>\n",
              "      <th>JobSatPoints_10</th>\n",
              "      <th>JobSatPoints_11</th>\n",
              "      <th>SurveyLength</th>\n",
              "      <th>SurveyEase</th>\n",
              "      <th>ConvertedCompYearly</th>\n",
              "      <th>JobSat</th>\n",
              "    </tr>\n",
              "  </thead>\n",
              "  <tbody>\n",
              "    <tr>\n",
              "      <th>0</th>\n",
              "      <td>1</td>\n",
              "      <td>I am a developer by profession</td>\n",
              "      <td>Under 18 years old</td>\n",
              "      <td>Employed, full-time</td>\n",
              "      <td>Remote</td>\n",
              "      <td>Apples</td>\n",
              "      <td>Hobby</td>\n",
              "      <td>Primary/elementary school</td>\n",
              "      <td>Books / Physical media</td>\n",
              "      <td>NaN</td>\n",
              "      <td>...</td>\n",
              "      <td>NaN</td>\n",
              "      <td>NaN</td>\n",
              "      <td>NaN</td>\n",
              "      <td>NaN</td>\n",
              "      <td>NaN</td>\n",
              "      <td>NaN</td>\n",
              "      <td>NaN</td>\n",
              "      <td>NaN</td>\n",
              "      <td>NaN</td>\n",
              "      <td>NaN</td>\n",
              "    </tr>\n",
              "    <tr>\n",
              "      <th>1</th>\n",
              "      <td>2</td>\n",
              "      <td>I am a developer by profession</td>\n",
              "      <td>35-44 years old</td>\n",
              "      <td>Employed, full-time</td>\n",
              "      <td>Remote</td>\n",
              "      <td>Apples</td>\n",
              "      <td>Hobby;Contribute to open-source projects;Other...</td>\n",
              "      <td>Bachelor’s degree (B.A., B.S., B.Eng., etc.)</td>\n",
              "      <td>Books / Physical media;Colleague;On the job tr...</td>\n",
              "      <td>Technical documentation;Blogs;Books;Written Tu...</td>\n",
              "      <td>...</td>\n",
              "      <td>0.0</td>\n",
              "      <td>0.0</td>\n",
              "      <td>0.0</td>\n",
              "      <td>0.0</td>\n",
              "      <td>0.0</td>\n",
              "      <td>0.0</td>\n",
              "      <td>NaN</td>\n",
              "      <td>NaN</td>\n",
              "      <td>NaN</td>\n",
              "      <td>NaN</td>\n",
              "    </tr>\n",
              "    <tr>\n",
              "      <th>2</th>\n",
              "      <td>3</td>\n",
              "      <td>I am a developer by profession</td>\n",
              "      <td>45-54 years old</td>\n",
              "      <td>Employed, full-time</td>\n",
              "      <td>Remote</td>\n",
              "      <td>Apples</td>\n",
              "      <td>Hobby;Contribute to open-source projects;Other...</td>\n",
              "      <td>Master’s degree (M.A., M.S., M.Eng., MBA, etc.)</td>\n",
              "      <td>Books / Physical media;Colleague;On the job tr...</td>\n",
              "      <td>Technical documentation;Blogs;Books;Written Tu...</td>\n",
              "      <td>...</td>\n",
              "      <td>NaN</td>\n",
              "      <td>NaN</td>\n",
              "      <td>NaN</td>\n",
              "      <td>NaN</td>\n",
              "      <td>NaN</td>\n",
              "      <td>NaN</td>\n",
              "      <td>Appropriate in length</td>\n",
              "      <td>Easy</td>\n",
              "      <td>NaN</td>\n",
              "      <td>NaN</td>\n",
              "    </tr>\n",
              "    <tr>\n",
              "      <th>3</th>\n",
              "      <td>4</td>\n",
              "      <td>I am learning to code</td>\n",
              "      <td>18-24 years old</td>\n",
              "      <td>Student, full-time</td>\n",
              "      <td>NaN</td>\n",
              "      <td>Apples</td>\n",
              "      <td>NaN</td>\n",
              "      <td>Some college/university study without earning ...</td>\n",
              "      <td>Other online resources (e.g., videos, blogs, f...</td>\n",
              "      <td>Stack Overflow;How-to videos;Interactive tutorial</td>\n",
              "      <td>...</td>\n",
              "      <td>NaN</td>\n",
              "      <td>NaN</td>\n",
              "      <td>NaN</td>\n",
              "      <td>NaN</td>\n",
              "      <td>NaN</td>\n",
              "      <td>NaN</td>\n",
              "      <td>Too long</td>\n",
              "      <td>Easy</td>\n",
              "      <td>NaN</td>\n",
              "      <td>NaN</td>\n",
              "    </tr>\n",
              "    <tr>\n",
              "      <th>4</th>\n",
              "      <td>5</td>\n",
              "      <td>I am a developer by profession</td>\n",
              "      <td>18-24 years old</td>\n",
              "      <td>Student, full-time</td>\n",
              "      <td>NaN</td>\n",
              "      <td>Apples</td>\n",
              "      <td>NaN</td>\n",
              "      <td>Secondary school (e.g. American high school, G...</td>\n",
              "      <td>Other online resources (e.g., videos, blogs, f...</td>\n",
              "      <td>Technical documentation;Blogs;Written Tutorial...</td>\n",
              "      <td>...</td>\n",
              "      <td>NaN</td>\n",
              "      <td>NaN</td>\n",
              "      <td>NaN</td>\n",
              "      <td>NaN</td>\n",
              "      <td>NaN</td>\n",
              "      <td>NaN</td>\n",
              "      <td>Too short</td>\n",
              "      <td>Easy</td>\n",
              "      <td>NaN</td>\n",
              "      <td>NaN</td>\n",
              "    </tr>\n",
              "    <tr>\n",
              "      <th>...</th>\n",
              "      <td>...</td>\n",
              "      <td>...</td>\n",
              "      <td>...</td>\n",
              "      <td>...</td>\n",
              "      <td>...</td>\n",
              "      <td>...</td>\n",
              "      <td>...</td>\n",
              "      <td>...</td>\n",
              "      <td>...</td>\n",
              "      <td>...</td>\n",
              "      <td>...</td>\n",
              "      <td>...</td>\n",
              "      <td>...</td>\n",
              "      <td>...</td>\n",
              "      <td>...</td>\n",
              "      <td>...</td>\n",
              "      <td>...</td>\n",
              "      <td>...</td>\n",
              "      <td>...</td>\n",
              "      <td>...</td>\n",
              "      <td>...</td>\n",
              "    </tr>\n",
              "    <tr>\n",
              "      <th>65413</th>\n",
              "      <td>65414</td>\n",
              "      <td>I am learning to code</td>\n",
              "      <td>18-24 years old</td>\n",
              "      <td>Student, full-time</td>\n",
              "      <td>NaN</td>\n",
              "      <td>Apples</td>\n",
              "      <td>NaN</td>\n",
              "      <td>Secondary school (e.g. American high school, G...</td>\n",
              "      <td>Other online resources (e.g., videos, blogs, f...</td>\n",
              "      <td>Social Media;How-to videos;Video-based Online ...</td>\n",
              "      <td>...</td>\n",
              "      <td>NaN</td>\n",
              "      <td>NaN</td>\n",
              "      <td>NaN</td>\n",
              "      <td>NaN</td>\n",
              "      <td>NaN</td>\n",
              "      <td>NaN</td>\n",
              "      <td>NaN</td>\n",
              "      <td>NaN</td>\n",
              "      <td>NaN</td>\n",
              "      <td>NaN</td>\n",
              "    </tr>\n",
              "    <tr>\n",
              "      <th>65415</th>\n",
              "      <td>65416</td>\n",
              "      <td>I code primarily as a hobby</td>\n",
              "      <td>35-44 years old</td>\n",
              "      <td>I prefer not to say</td>\n",
              "      <td>NaN</td>\n",
              "      <td>Apples</td>\n",
              "      <td>NaN</td>\n",
              "      <td>Bachelor’s degree (B.A., B.S., B.Eng., etc.)</td>\n",
              "      <td>Other online resources (e.g., videos, blogs, f...</td>\n",
              "      <td>Blogs;Stack Overflow;Social Media;Video-based ...</td>\n",
              "      <td>...</td>\n",
              "      <td>NaN</td>\n",
              "      <td>NaN</td>\n",
              "      <td>NaN</td>\n",
              "      <td>NaN</td>\n",
              "      <td>NaN</td>\n",
              "      <td>NaN</td>\n",
              "      <td>NaN</td>\n",
              "      <td>NaN</td>\n",
              "      <td>NaN</td>\n",
              "      <td>NaN</td>\n",
              "    </tr>\n",
              "    <tr>\n",
              "      <th>65428</th>\n",
              "      <td>65429</td>\n",
              "      <td>I am a developer by profession</td>\n",
              "      <td>25-34 years old</td>\n",
              "      <td>Employed, full-time</td>\n",
              "      <td>Remote</td>\n",
              "      <td>Apples</td>\n",
              "      <td>Hobby;Contribute to open-source projects;Profe...</td>\n",
              "      <td>Bachelor’s degree (B.A., B.S., B.Eng., etc.)</td>\n",
              "      <td>Books / Physical media;Colleague;Other online ...</td>\n",
              "      <td>Technical documentation;Books;Interactive tuto...</td>\n",
              "      <td>...</td>\n",
              "      <td>NaN</td>\n",
              "      <td>NaN</td>\n",
              "      <td>NaN</td>\n",
              "      <td>NaN</td>\n",
              "      <td>NaN</td>\n",
              "      <td>NaN</td>\n",
              "      <td>NaN</td>\n",
              "      <td>NaN</td>\n",
              "      <td>NaN</td>\n",
              "      <td>NaN</td>\n",
              "    </tr>\n",
              "    <tr>\n",
              "      <th>65431</th>\n",
              "      <td>65432</td>\n",
              "      <td>I am a developer by profession</td>\n",
              "      <td>45-54 years old</td>\n",
              "      <td>Employed, full-time</td>\n",
              "      <td>Hybrid (some remote, some in-person)</td>\n",
              "      <td>Apples</td>\n",
              "      <td>Hobby;Contribute to open-source projects;Profe...</td>\n",
              "      <td>Bachelor’s degree (B.A., B.S., B.Eng., etc.)</td>\n",
              "      <td>Books / Physical media;Colleague;On the job tr...</td>\n",
              "      <td>Technical documentation;Blogs;Books;Written Tu...</td>\n",
              "      <td>...</td>\n",
              "      <td>NaN</td>\n",
              "      <td>NaN</td>\n",
              "      <td>NaN</td>\n",
              "      <td>NaN</td>\n",
              "      <td>NaN</td>\n",
              "      <td>NaN</td>\n",
              "      <td>NaN</td>\n",
              "      <td>NaN</td>\n",
              "      <td>NaN</td>\n",
              "      <td>NaN</td>\n",
              "    </tr>\n",
              "    <tr>\n",
              "      <th>65435</th>\n",
              "      <td>65436</td>\n",
              "      <td>I am a developer by profession</td>\n",
              "      <td>18-24 years old</td>\n",
              "      <td>Employed, full-time</td>\n",
              "      <td>Hybrid (some remote, some in-person)</td>\n",
              "      <td>Apples</td>\n",
              "      <td>Hobby;Contribute to open-source projects;Profe...</td>\n",
              "      <td>Secondary school (e.g. American high school, G...</td>\n",
              "      <td>On the job training;Other online resources (e....</td>\n",
              "      <td>Technical documentation;Blogs;Written Tutorial...</td>\n",
              "      <td>...</td>\n",
              "      <td>0.0</td>\n",
              "      <td>0.0</td>\n",
              "      <td>0.0</td>\n",
              "      <td>0.0</td>\n",
              "      <td>0.0</td>\n",
              "      <td>0.0</td>\n",
              "      <td>NaN</td>\n",
              "      <td>NaN</td>\n",
              "      <td>NaN</td>\n",
              "      <td>NaN</td>\n",
              "    </tr>\n",
              "  </tbody>\n",
              "</table>\n",
              "<p>58930 rows × 114 columns</p>\n",
              "</div>"
            ],
            "text/plain": [
              "       ResponseId                      MainBranch                 Age  \\\n",
              "0               1  I am a developer by profession  Under 18 years old   \n",
              "1               2  I am a developer by profession     35-44 years old   \n",
              "2               3  I am a developer by profession     45-54 years old   \n",
              "3               4           I am learning to code     18-24 years old   \n",
              "4               5  I am a developer by profession     18-24 years old   \n",
              "...           ...                             ...                 ...   \n",
              "65413       65414           I am learning to code     18-24 years old   \n",
              "65415       65416     I code primarily as a hobby     35-44 years old   \n",
              "65428       65429  I am a developer by profession     25-34 years old   \n",
              "65431       65432  I am a developer by profession     45-54 years old   \n",
              "65435       65436  I am a developer by profession     18-24 years old   \n",
              "\n",
              "                Employment                            RemoteWork   Check  \\\n",
              "0      Employed, full-time                                Remote  Apples   \n",
              "1      Employed, full-time                                Remote  Apples   \n",
              "2      Employed, full-time                                Remote  Apples   \n",
              "3       Student, full-time                                   NaN  Apples   \n",
              "4       Student, full-time                                   NaN  Apples   \n",
              "...                    ...                                   ...     ...   \n",
              "65413   Student, full-time                                   NaN  Apples   \n",
              "65415  I prefer not to say                                   NaN  Apples   \n",
              "65428  Employed, full-time                                Remote  Apples   \n",
              "65431  Employed, full-time  Hybrid (some remote, some in-person)  Apples   \n",
              "65435  Employed, full-time  Hybrid (some remote, some in-person)  Apples   \n",
              "\n",
              "                                        CodingActivities  \\\n",
              "0                                                  Hobby   \n",
              "1      Hobby;Contribute to open-source projects;Other...   \n",
              "2      Hobby;Contribute to open-source projects;Other...   \n",
              "3                                                    NaN   \n",
              "4                                                    NaN   \n",
              "...                                                  ...   \n",
              "65413                                                NaN   \n",
              "65415                                                NaN   \n",
              "65428  Hobby;Contribute to open-source projects;Profe...   \n",
              "65431  Hobby;Contribute to open-source projects;Profe...   \n",
              "65435  Hobby;Contribute to open-source projects;Profe...   \n",
              "\n",
              "                                                 EdLevel  \\\n",
              "0                              Primary/elementary school   \n",
              "1           Bachelor’s degree (B.A., B.S., B.Eng., etc.)   \n",
              "2        Master’s degree (M.A., M.S., M.Eng., MBA, etc.)   \n",
              "3      Some college/university study without earning ...   \n",
              "4      Secondary school (e.g. American high school, G...   \n",
              "...                                                  ...   \n",
              "65413  Secondary school (e.g. American high school, G...   \n",
              "65415       Bachelor’s degree (B.A., B.S., B.Eng., etc.)   \n",
              "65428       Bachelor’s degree (B.A., B.S., B.Eng., etc.)   \n",
              "65431       Bachelor’s degree (B.A., B.S., B.Eng., etc.)   \n",
              "65435  Secondary school (e.g. American high school, G...   \n",
              "\n",
              "                                               LearnCode  \\\n",
              "0                                 Books / Physical media   \n",
              "1      Books / Physical media;Colleague;On the job tr...   \n",
              "2      Books / Physical media;Colleague;On the job tr...   \n",
              "3      Other online resources (e.g., videos, blogs, f...   \n",
              "4      Other online resources (e.g., videos, blogs, f...   \n",
              "...                                                  ...   \n",
              "65413  Other online resources (e.g., videos, blogs, f...   \n",
              "65415  Other online resources (e.g., videos, blogs, f...   \n",
              "65428  Books / Physical media;Colleague;Other online ...   \n",
              "65431  Books / Physical media;Colleague;On the job tr...   \n",
              "65435  On the job training;Other online resources (e....   \n",
              "\n",
              "                                         LearnCodeOnline  ... JobSatPoints_6  \\\n",
              "0                                                    NaN  ...            NaN   \n",
              "1      Technical documentation;Blogs;Books;Written Tu...  ...            0.0   \n",
              "2      Technical documentation;Blogs;Books;Written Tu...  ...            NaN   \n",
              "3      Stack Overflow;How-to videos;Interactive tutorial  ...            NaN   \n",
              "4      Technical documentation;Blogs;Written Tutorial...  ...            NaN   \n",
              "...                                                  ...  ...            ...   \n",
              "65413  Social Media;How-to videos;Video-based Online ...  ...            NaN   \n",
              "65415  Blogs;Stack Overflow;Social Media;Video-based ...  ...            NaN   \n",
              "65428  Technical documentation;Books;Interactive tuto...  ...            NaN   \n",
              "65431  Technical documentation;Blogs;Books;Written Tu...  ...            NaN   \n",
              "65435  Technical documentation;Blogs;Written Tutorial...  ...            0.0   \n",
              "\n",
              "      JobSatPoints_7 JobSatPoints_8 JobSatPoints_9 JobSatPoints_10  \\\n",
              "0                NaN            NaN            NaN             NaN   \n",
              "1                0.0            0.0            0.0             0.0   \n",
              "2                NaN            NaN            NaN             NaN   \n",
              "3                NaN            NaN            NaN             NaN   \n",
              "4                NaN            NaN            NaN             NaN   \n",
              "...              ...            ...            ...             ...   \n",
              "65413            NaN            NaN            NaN             NaN   \n",
              "65415            NaN            NaN            NaN             NaN   \n",
              "65428            NaN            NaN            NaN             NaN   \n",
              "65431            NaN            NaN            NaN             NaN   \n",
              "65435            0.0            0.0            0.0             0.0   \n",
              "\n",
              "      JobSatPoints_11           SurveyLength SurveyEase ConvertedCompYearly  \\\n",
              "0                 NaN                    NaN        NaN                 NaN   \n",
              "1                 0.0                    NaN        NaN                 NaN   \n",
              "2                 NaN  Appropriate in length       Easy                 NaN   \n",
              "3                 NaN               Too long       Easy                 NaN   \n",
              "4                 NaN              Too short       Easy                 NaN   \n",
              "...               ...                    ...        ...                 ...   \n",
              "65413             NaN                    NaN        NaN                 NaN   \n",
              "65415             NaN                    NaN        NaN                 NaN   \n",
              "65428             NaN                    NaN        NaN                 NaN   \n",
              "65431             NaN                    NaN        NaN                 NaN   \n",
              "65435             0.0                    NaN        NaN                 NaN   \n",
              "\n",
              "      JobSat  \n",
              "0        NaN  \n",
              "1        NaN  \n",
              "2        NaN  \n",
              "3        NaN  \n",
              "4        NaN  \n",
              "...      ...  \n",
              "65413    NaN  \n",
              "65415    NaN  \n",
              "65428    NaN  \n",
              "65431    NaN  \n",
              "65435    NaN  \n",
              "\n",
              "[58930 rows x 114 columns]"
            ]
          },
          "execution_count": 38,
          "metadata": {},
          "output_type": "execute_result"
        }
      ],
      "source": [
        "df_cleaned = df[df['Country'].notna()]\n",
        "df_cleaned"
      ]
    },
    {
      "cell_type": "code",
      "execution_count": null,
      "metadata": {
        "id": "g9U-UdFJoQ__",
        "outputId": "babf8af0-8056-4961-8216-5e47d9158393"
      },
      "outputs": [
        {
          "data": {
            "text/plain": [
              "array(['United States of America',\n",
              "       'United Kingdom of Great Britain and Northern Ireland', 'Canada',\n",
              "       'Norway', 'Uzbekistan', 'Serbia', 'Poland', 'Philippines',\n",
              "       'Bulgaria', 'Switzerland', 'India', 'Germany', 'Ireland', 'Italy',\n",
              "       'Ukraine', 'Australia', 'Brazil', 'Japan', 'Austria',\n",
              "       'Iran, Islamic Republic of...', 'France', 'Saudi Arabia',\n",
              "       'Romania', 'Turkey', 'Nepal', 'Algeria', 'Sweden', 'Netherlands',\n",
              "       'Croatia', 'Pakistan', 'Czech Republic',\n",
              "       'Republic of North Macedonia', 'Finland', 'Slovakia',\n",
              "       'Russian Federation', 'Greece', 'Israel', 'Belgium', 'Mexico',\n",
              "       'United Republic of Tanzania', 'Hungary', 'Argentina', 'Portugal',\n",
              "       'Sri Lanka', 'Latvia', 'China', 'Singapore', 'Lebanon', 'Spain',\n",
              "       'South Africa', 'Lithuania', 'Viet Nam', 'Dominican Republic',\n",
              "       'Indonesia', 'Kosovo', 'Morocco', 'Taiwan', 'Georgia',\n",
              "       'San Marino', 'Tunisia', 'Bangladesh', 'Nigeria', 'Liechtenstein',\n",
              "       'Denmark', 'Ecuador', 'Malaysia', 'Albania', 'Azerbaijan', 'Chile',\n",
              "       'Ghana', 'Peru', 'Bolivia', 'Egypt', 'Luxembourg', 'Montenegro',\n",
              "       'Cyprus', 'Paraguay', 'Kazakhstan', 'Slovenia', 'Jordan',\n",
              "       'Venezuela, Bolivarian Republic of...', 'Costa Rica', 'Jamaica',\n",
              "       'Thailand', 'Nicaragua', 'Myanmar', 'Republic of Korea', 'Rwanda',\n",
              "       'Bosnia and Herzegovina', 'Benin', 'El Salvador', 'Zimbabwe',\n",
              "       'Afghanistan', 'Estonia', 'Malta', 'Uruguay', 'Belarus',\n",
              "       'Colombia', 'Republic of Moldova', 'Isle of Man', 'Nomadic',\n",
              "       'New Zealand', 'Palestine', 'Armenia', 'United Arab Emirates',\n",
              "       'Maldives', 'Ethiopia', 'Fiji', 'Guatemala', 'Uganda',\n",
              "       'Turkmenistan', 'Mauritius', 'Kenya', 'Cuba', 'Gabon', 'Bahamas',\n",
              "       'South Korea', 'Iceland', 'Honduras', 'Hong Kong (S.A.R.)',\n",
              "       \"Lao People's Democratic Republic\", 'Mongolia', 'Cambodia',\n",
              "       'Madagascar', 'Angola', 'Democratic Republic of the Congo',\n",
              "       'Syrian Arab Republic', 'Iraq', 'Namibia', 'Senegal', 'Kyrgyzstan',\n",
              "       'Zambia', 'Swaziland', \"Côte d'Ivoire\", 'Kuwait', 'Tajikistan',\n",
              "       'Burundi', 'Trinidad and Tobago', 'Mauritania', 'Sierra Leone',\n",
              "       'Panama', 'Somalia', 'North Korea', 'Dominica', 'Guyana', 'Togo',\n",
              "       'Oman', 'Barbados', 'Andorra',\n",
              "       \"Democratic People's Republic of Korea\", 'Qatar', 'Sudan',\n",
              "       'Cameroon', 'Papua New Guinea', 'Bahrain', 'Yemen', 'Malawi',\n",
              "       'Burkina Faso', 'Congo, Republic of the...', 'Botswana',\n",
              "       'Guinea-Bissau', 'Mozambique', 'Central African Republic',\n",
              "       'Equatorial Guinea', 'Suriname', 'Belize',\n",
              "       'Libyan Arab Jamahiriya', 'Cape Verde', 'Brunei Darussalam',\n",
              "       'Bhutan', 'Guinea', 'Niger', 'Antigua and Barbuda', 'Mali',\n",
              "       'Samoa', 'Lesotho', 'Saint Kitts and Nevis', 'Monaco',\n",
              "       'Micronesia, Federated States of...', 'Haiti', 'Nauru', 'Liberia',\n",
              "       'Chad', 'Djibouti', 'Solomon Islands'], dtype=object)"
            ]
          },
          "execution_count": 39,
          "metadata": {},
          "output_type": "execute_result"
        }
      ],
      "source": [
        "df_cleaned['Country'].unique()"
      ]
    },
    {
      "cell_type": "code",
      "execution_count": null,
      "metadata": {
        "id": "wokei6dgoQ__",
        "outputId": "3e9bea90-7cd6-40f9-c710-56f83b18d528"
      },
      "outputs": [
        {
          "data": {
            "text/plain": [
              "Country\n",
              "United States of America                                11095\n",
              "Germany                                                  4947\n",
              "India                                                    4231\n",
              "United Kingdom of Great Britain and Northern Ireland     3224\n",
              "Ukraine                                                  2672\n",
              "                                                        ...  \n",
              "Micronesia, Federated States of...                          1\n",
              "Nauru                                                       1\n",
              "Chad                                                        1\n",
              "Djibouti                                                    1\n",
              "Solomon Islands                                             1\n",
              "Name: count, Length: 185, dtype: int64"
            ]
          },
          "execution_count": 40,
          "metadata": {},
          "output_type": "execute_result"
        }
      ],
      "source": [
        "country_counts = df['Country'].value_counts()\n",
        "country_counts"
      ]
    },
    {
      "cell_type": "code",
      "execution_count": null,
      "metadata": {
        "id": "CCr7j2-YoQ__",
        "outputId": "ca3d140e-41ac-4e4a-f206-156fd6cddb66"
      },
      "outputs": [
        {
          "name": "stdout",
          "output_type": "stream",
          "text": [
            "Rare or potentially irrelevant countries:\n",
            "Country\n",
            "Lao People's Democratic Republic         4\n",
            "Liechtenstein                            4\n",
            "Fiji                                     4\n",
            "Gabon                                    4\n",
            "Bahamas                                  4\n",
            "Swaziland                                4\n",
            "Burkina Faso                             4\n",
            "Liberia                                  4\n",
            "Libyan Arab Jamahiriya                   4\n",
            "San Marino                               3\n",
            "Sierra Leone                             3\n",
            "Democratic Republic of the Congo         3\n",
            "Burundi                                  3\n",
            "Bhutan                                   3\n",
            "Monaco                                   3\n",
            "Guyana                                   3\n",
            "North Korea                              3\n",
            "Brunei Darussalam                        3\n",
            "Democratic People's Republic of Korea    2\n",
            "Mali                                     2\n",
            "Guinea-Bissau                            2\n",
            "Belize                                   2\n",
            "Dominica                                 1\n",
            "Papua New Guinea                         1\n",
            "Equatorial Guinea                        1\n",
            "Central African Republic                 1\n",
            "Samoa                                    1\n",
            "Niger                                    1\n",
            "Guinea                                   1\n",
            "Saint Kitts and Nevis                    1\n",
            "Lesotho                                  1\n",
            "Haiti                                    1\n",
            "Micronesia, Federated States of...       1\n",
            "Nauru                                    1\n",
            "Chad                                     1\n",
            "Djibouti                                 1\n",
            "Solomon Islands                          1\n",
            "Name: count, dtype: int64\n"
          ]
        }
      ],
      "source": [
        "rare_countries = country_counts[country_counts < 5]\n",
        "print(\"Rare or potentially irrelevant countries:\")\n",
        "print(rare_countries)\n",
        "\n",
        "df['Country'] = df['Country'].apply(lambda x: 'Other' if x in rare_countries else x)\n"
      ]
    },
    {
      "cell_type": "code",
      "execution_count": null,
      "metadata": {
        "id": "DxhmGyqAoRAA",
        "outputId": "24ea4a90-99b7-4e79-b434-133555c08dd8"
      },
      "outputs": [
        {
          "data": {
            "text/plain": [
              "array(['United States of America',\n",
              "       'United Kingdom of Great Britain and Northern Ireland', 'Canada',\n",
              "       'Norway', 'Uzbekistan', 'Serbia', 'Poland', 'Philippines',\n",
              "       'Bulgaria', 'Switzerland', 'India', 'Germany', 'Ireland', 'Italy',\n",
              "       'Ukraine', 'Australia', 'Brazil', 'Japan', 'Austria',\n",
              "       'Iran, Islamic Republic of...', 'France', 'Saudi Arabia',\n",
              "       'Romania', 'Turkey', 'Nepal', 'Algeria', 'Sweden', 'Netherlands',\n",
              "       'Croatia', 'Pakistan', 'Czech Republic',\n",
              "       'Republic of North Macedonia', 'Finland', 'Slovakia',\n",
              "       'Russian Federation', 'Greece', 'Israel', 'Belgium', 'Mexico',\n",
              "       'United Republic of Tanzania', 'Hungary', 'Argentina', 'Portugal',\n",
              "       'Sri Lanka', 'Latvia', 'China', 'Singapore', 'Lebanon', 'Spain',\n",
              "       'South Africa', 'Lithuania', 'Viet Nam', 'Dominican Republic',\n",
              "       'Indonesia', 'Kosovo', 'Morocco', 'Taiwan', 'Georgia', 'Other',\n",
              "       'Tunisia', 'Bangladesh', 'Nigeria', 'Denmark', 'Ecuador',\n",
              "       'Malaysia', 'Albania', 'Azerbaijan', 'Chile', 'Ghana', 'Peru',\n",
              "       'Bolivia', 'Egypt', 'Luxembourg', 'Montenegro', 'Cyprus',\n",
              "       'Paraguay', 'Kazakhstan', 'Slovenia', 'Jordan',\n",
              "       'Venezuela, Bolivarian Republic of...', 'Costa Rica', 'Jamaica',\n",
              "       'Thailand', 'Nicaragua', 'Myanmar', 'Republic of Korea', 'Rwanda',\n",
              "       'Bosnia and Herzegovina', 'Benin', 'El Salvador', 'Zimbabwe',\n",
              "       'Afghanistan', 'Estonia', 'Malta', 'Uruguay', 'Belarus',\n",
              "       'Colombia', 'Republic of Moldova', 'Isle of Man', 'Nomadic',\n",
              "       'New Zealand', 'Palestine', 'Armenia', 'United Arab Emirates',\n",
              "       'Maldives', 'Ethiopia', 'Guatemala', 'Uganda', 'Turkmenistan',\n",
              "       'Mauritius', 'Kenya', 'Cuba', 'South Korea', 'Iceland', 'Honduras',\n",
              "       'Hong Kong (S.A.R.)', 'Mongolia', 'Cambodia', 'Madagascar',\n",
              "       'Angola', 'Syrian Arab Republic', 'Iraq', 'Namibia', 'Senegal',\n",
              "       'Kyrgyzstan', 'Zambia', \"Côte d'Ivoire\", 'Kuwait', 'Tajikistan',\n",
              "       'Trinidad and Tobago', 'Mauritania', 'Panama', 'Somalia', 'Togo',\n",
              "       'Oman', 'Barbados', 'Andorra', 'Qatar', 'Sudan', 'Cameroon',\n",
              "       'Bahrain', 'Yemen', 'Malawi', 'Congo, Republic of the...',\n",
              "       'Botswana', 'Mozambique', 'Suriname', 'Cape Verde',\n",
              "       'Antigua and Barbuda', nan], dtype=object)"
            ]
          },
          "execution_count": 42,
          "metadata": {},
          "output_type": "execute_result"
        }
      ],
      "source": [
        "df['Country'].unique()"
      ]
    },
    {
      "cell_type": "code",
      "execution_count": null,
      "metadata": {
        "id": "i2Vig51ioRAA",
        "outputId": "f8bcaeb7-0858-4599-a818-bfa3f5625ea1"
      },
      "outputs": [
        {
          "name": "stdout",
          "output_type": "stream",
          "text": [
            "Iran, Islamic Republic of...\n",
            "Czech Republic\n",
            "Republic of North Macedonia\n",
            "United Republic of Tanzania\n",
            "Dominican Republic\n",
            "Venezuela, Bolivarian Republic of...\n",
            "Republic of Korea\n",
            "Republic of Moldova\n",
            "Lao People's Democratic Republic\n",
            "Democratic Republic of the Congo\n",
            "Syrian Arab Republic\n",
            "Democratic People's Republic of Korea\n",
            "Congo, Republic of the...\n",
            "Central African Republic\n"
          ]
        }
      ],
      "source": [
        "for c in df_cleaned['Country'].unique():\n",
        "    if 'Republic' in c:\n",
        "        print(c)"
      ]
    },
    {
      "cell_type": "code",
      "execution_count": null,
      "metadata": {
        "id": "a31e3gekoRAA",
        "outputId": "ffeb4068-f1a4-45c2-d926-9d5c7394f660"
      },
      "outputs": [
        {
          "data": {
            "text/plain": [
              "array(['Iran, Islamic Republic of...', 'Czech Republic',\n",
              "       'Republic of North Macedonia', 'United Republic of Tanzania',\n",
              "       'Dominican Republic', 'Venezuela, Bolivarian Republic of...',\n",
              "       'Republic of Korea', 'Republic of Moldova',\n",
              "       \"Lao People's Democratic Republic\",\n",
              "       'Democratic Republic of the Congo', 'Syrian Arab Republic',\n",
              "       \"Democratic People's Republic of Korea\",\n",
              "       'Congo, Republic of the...', 'Central African Republic'],\n",
              "      dtype=object)"
            ]
          },
          "execution_count": 44,
          "metadata": {},
          "output_type": "execute_result"
        }
      ],
      "source": [
        "df_cleaned[df_cleaned['Country'].str.contains('Republic')]['Country'].unique()"
      ]
    },
    {
      "cell_type": "markdown",
      "metadata": {
        "id": "6cIr67FdoRAA"
      },
      "source": [
        "<h5>3.2 Standardize entries in columns like Country or EdLevel by mapping inconsistent values to a consistent format.</h5>\n"
      ]
    },
    {
      "cell_type": "code",
      "execution_count": null,
      "metadata": {
        "id": "wzcuBE8-oRAA"
      },
      "outputs": [],
      "source": [
        "## Write your code here\n",
        "country_mapping = {\n",
        "    'Iran, Islamic Republic of...' : 'Iran',\n",
        "    'Czech Republic' : 'Czechia',\n",
        "    'Republic of North Macedonia' : 'North Macedonia',\n",
        "    'United Republic of Tanzania' : 'Tanzania',\n",
        "    'Dominican Republic' : 'Dominican Republic',\n",
        "    'Venezuela, Bolivarian Republic of...' : 'Venezuela',\n",
        "    'Republic of Korea' : 'South Korea',\n",
        "    'Republic of Moldova' : 'Moldova',\n",
        "    \"Lao People's Democratic Republic\" : 'Laos',\n",
        "    'Democratic Republic of the Congo' : 'DR Congo',\n",
        "    'Syrian Arab Republic' : 'Syria',\n",
        "    \"Democratic People's Republic of Korea\" : 'North Korea',\n",
        "    'Congo, Republic of the...' : 'Republic of the Congo',\n",
        "    'Central African Republic' : 'Central African Republic',\n",
        "}\n",
        "\n",
        "# Apply mapping\n",
        "df['Country'] = df['Country'].replace(country_mapping)"
      ]
    },
    {
      "cell_type": "code",
      "execution_count": null,
      "metadata": {
        "id": "KFEz_j6QoRAB",
        "outputId": "e46d008f-6983-472d-fd50-c101956189d8"
      },
      "outputs": [
        {
          "data": {
            "text/plain": [
              "array(['Primary/elementary school',\n",
              "       'Bachelor’s degree (B.A., B.S., B.Eng., etc.)',\n",
              "       'Master’s degree (M.A., M.S., M.Eng., MBA, etc.)',\n",
              "       'Some college/university study without earning a degree',\n",
              "       'Secondary school (e.g. American high school, German Realschule or Gymnasium, etc.)',\n",
              "       'Professional degree (JD, MD, Ph.D, Ed.D, etc.)',\n",
              "       'Associate degree (A.A., A.S., etc.)', 'Something else', nan],\n",
              "      dtype=object)"
            ]
          },
          "execution_count": 46,
          "metadata": {},
          "output_type": "execute_result"
        }
      ],
      "source": [
        "df['EdLevel'].unique()"
      ]
    },
    {
      "cell_type": "code",
      "execution_count": null,
      "metadata": {
        "id": "qSP_q7PAoRAB"
      },
      "outputs": [],
      "source": [
        "edlevel_mapping={\n",
        "    'Primary/elementary school' : 'No degree',\n",
        "    'Secondary school (e.g. American high school, German Realschule...)' : 'High school',\n",
        "    'Some college/university study without earning a degree' : 'No degree',\n",
        "    'Associate degree (A.A., A.S., etc.)' : 'Associate degree',\n",
        "    'Bachelor’s degree (B.A., B.S., B.Eng., etc.)' : 'Bachelor’s degree',\n",
        "    'Master’s degree (M.A., M.S., M.Eng., MBA, etc.)' : 'Master’s degree',\n",
        "    'Professional degree (JD, MD, Ph.D, Ed.D, etc.)' : 'Doctoral/Professional degree',\n",
        "    'Something else' : 'Other'\n",
        "}\n",
        "\n",
        "df['EdLevel'] = df['EdLevel'].replace(edlevel_mapping)"
      ]
    },
    {
      "cell_type": "code",
      "execution_count": null,
      "metadata": {
        "id": "Mr9OOpk2oRAB",
        "outputId": "812209ec-627e-4c91-a07c-9f7913fb4c54"
      },
      "outputs": [
        {
          "data": {
            "text/plain": [
              "array(['Employed, full-time', 'Student, full-time',\n",
              "       'Student, full-time;Not employed, but looking for work',\n",
              "       'Independent contractor, freelancer, or self-employed',\n",
              "       'Not employed, and not looking for work',\n",
              "       'Employed, full-time;Student, part-time',\n",
              "       'Employed, full-time;Independent contractor, freelancer, or self-employed',\n",
              "       'Employed, full-time;Student, full-time', 'Employed, part-time',\n",
              "       'Student, full-time;Employed, part-time',\n",
              "       'Student, part-time;Employed, part-time', 'I prefer not to say',\n",
              "       'Not employed, but looking for work', 'Student, part-time',\n",
              "       'Employed, full-time;Student, full-time;Independent contractor, freelancer, or self-employed;Employed, part-time',\n",
              "       'Employed, full-time;Independent contractor, freelancer, or self-employed;Student, part-time',\n",
              "       'Independent contractor, freelancer, or self-employed;Employed, part-time',\n",
              "       'Independent contractor, freelancer, or self-employed;Student, part-time;Employed, part-time',\n",
              "       'Student, full-time;Not employed, but looking for work;Independent contractor, freelancer, or self-employed',\n",
              "       'Student, full-time;Independent contractor, freelancer, or self-employed',\n",
              "       'Employed, full-time;Employed, part-time',\n",
              "       'Not employed, but looking for work;Independent contractor, freelancer, or self-employed',\n",
              "       'Student, full-time;Not employed, and not looking for work',\n",
              "       'Retired',\n",
              "       'Independent contractor, freelancer, or self-employed;Student, part-time',\n",
              "       'Employed, full-time;Independent contractor, freelancer, or self-employed;Employed, part-time',\n",
              "       'Not employed, but looking for work;Independent contractor, freelancer, or self-employed;Student, part-time',\n",
              "       'Not employed, but looking for work;Student, part-time',\n",
              "       'Not employed, but looking for work;Not employed, and not looking for work',\n",
              "       'Independent contractor, freelancer, or self-employed;Retired',\n",
              "       'Not employed, but looking for work;Student, part-time;Employed, part-time',\n",
              "       'Student, full-time;Not employed, but looking for work;Not employed, and not looking for work',\n",
              "       'Employed, full-time;Not employed, but looking for work',\n",
              "       'Student, full-time;Not employed, and not looking for work;Student, part-time',\n",
              "       'Employed, full-time;Retired',\n",
              "       'Employed, full-time;Independent contractor, freelancer, or self-employed;Student, part-time;Employed, part-time',\n",
              "       'Not employed, but looking for work;Independent contractor, freelancer, or self-employed;Not employed, and not looking for work',\n",
              "       'Not employed, but looking for work;Independent contractor, freelancer, or self-employed;Employed, part-time',\n",
              "       'Not employed, but looking for work;Employed, part-time',\n",
              "       'Employed, full-time;Student, full-time;Employed, part-time',\n",
              "       'Independent contractor, freelancer, or self-employed;Not employed, and not looking for work',\n",
              "       'Not employed, and not looking for work;Student, part-time',\n",
              "       'Student, full-time;Independent contractor, freelancer, or self-employed;Employed, part-time',\n",
              "       'Student, full-time;Student, part-time',\n",
              "       'Student, full-time;Not employed, but looking for work;Student, part-time',\n",
              "       'Independent contractor, freelancer, or self-employed;Not employed, and not looking for work;Retired',\n",
              "       'Employed, full-time;Independent contractor, freelancer, or self-employed;Not employed, and not looking for work',\n",
              "       'Employed, full-time;Student, full-time;Independent contractor, freelancer, or self-employed',\n",
              "       'Employed, full-time;Student, full-time;Student, part-time',\n",
              "       'Not employed, but looking for work;Retired',\n",
              "       'Employed, full-time;Student, full-time;Not employed, but looking for work',\n",
              "       'Not employed, and not looking for work;Retired',\n",
              "       'Not employed, but looking for work;Independent contractor, freelancer, or self-employed;Not employed, and not looking for work;Retired',\n",
              "       'Employed, full-time;Not employed, but looking for work;Employed, part-time',\n",
              "       'Student, full-time;Not employed, but looking for work;Independent contractor, freelancer, or self-employed;Student, part-time;Employed, part-time;Retired',\n",
              "       'Employed, full-time;Independent contractor, freelancer, or self-employed;Not employed, and not looking for work;Employed, part-time',\n",
              "       'Student, full-time;Independent contractor, freelancer, or self-employed;Not employed, and not looking for work',\n",
              "       'Employed, full-time;Student, full-time;Not employed, but looking for work;Independent contractor, freelancer, or self-employed;Not employed, and not looking for work;Student, part-time;Employed, part-time;Retired',\n",
              "       'Employed, full-time;Not employed, but looking for work;Independent contractor, freelancer, or self-employed',\n",
              "       'Independent contractor, freelancer, or self-employed;Not employed, and not looking for work;Student, part-time',\n",
              "       'Student, full-time;Not employed, but looking for work;Retired',\n",
              "       'Student, full-time;Not employed, but looking for work;Independent contractor, freelancer, or self-employed;Student, part-time',\n",
              "       'Student, part-time;Retired',\n",
              "       'Student, full-time;Not employed, but looking for work;Not employed, and not looking for work;Student, part-time',\n",
              "       'Employed, full-time;Student, full-time;Not employed, but looking for work;Independent contractor, freelancer, or self-employed;Student, part-time;Employed, part-time',\n",
              "       'Not employed, but looking for work;Independent contractor, freelancer, or self-employed;Retired',\n",
              "       'Employed, full-time;Student, full-time;Student, part-time;Employed, part-time',\n",
              "       'Not employed, but looking for work;Independent contractor, freelancer, or self-employed;Student, part-time;Employed, part-time',\n",
              "       'Student, full-time;Not employed, but looking for work;Employed, part-time',\n",
              "       'Employed, full-time;Independent contractor, freelancer, or self-employed;Not employed, and not looking for work;Student, part-time',\n",
              "       'Independent contractor, freelancer, or self-employed;Student, part-time;Retired',\n",
              "       'Student, full-time;Independent contractor, freelancer, or self-employed;Student, part-time;Employed, part-time',\n",
              "       'Employed, full-time;Independent contractor, freelancer, or self-employed;Student, part-time;Retired',\n",
              "       'Student, full-time;Not employed, but looking for work;Independent contractor, freelancer, or self-employed;Not employed, and not looking for work',\n",
              "       'Student, full-time;Not employed, but looking for work;Independent contractor, freelancer, or self-employed;Employed, part-time',\n",
              "       'Student, full-time;Independent contractor, freelancer, or self-employed;Student, part-time',\n",
              "       'Independent contractor, freelancer, or self-employed;Employed, part-time;Retired',\n",
              "       'Employed, full-time;Not employed, and not looking for work',\n",
              "       'Employed, full-time;Independent contractor, freelancer, or self-employed;Retired',\n",
              "       'Student, full-time;Student, part-time;Employed, part-time',\n",
              "       'Employed, part-time;Retired',\n",
              "       'Employed, full-time;Independent contractor, freelancer, or self-employed;Employed, part-time;Retired',\n",
              "       'Employed, full-time;Student, part-time;Employed, part-time',\n",
              "       'Employed, full-time;Student, full-time;Independent contractor, freelancer, or self-employed;Student, part-time;Employed, part-time;Retired',\n",
              "       'Student, full-time;Student, part-time;Retired',\n",
              "       'Student, full-time;Not employed, and not looking for work;Employed, part-time',\n",
              "       'Employed, full-time;Not employed, but looking for work;Independent contractor, freelancer, or self-employed;Employed, part-time',\n",
              "       'Not employed, but looking for work;Not employed, and not looking for work;Student, part-time;Employed, part-time',\n",
              "       'Independent contractor, freelancer, or self-employed;Not employed, and not looking for work;Employed, part-time',\n",
              "       'Employed, full-time;Not employed, but looking for work;Independent contractor, freelancer, or self-employed;Not employed, and not looking for work;Employed, part-time',\n",
              "       'Employed, full-time;Student, full-time;Not employed, but looking for work;Independent contractor, freelancer, or self-employed;Not employed, and not looking for work;Student, part-time;Employed, part-time',\n",
              "       'Employed, full-time;Student, full-time;Independent contractor, freelancer, or self-employed;Student, part-time;Employed, part-time',\n",
              "       'Not employed, and not looking for work;Employed, part-time',\n",
              "       'Employed, full-time;Student, full-time;Not employed, but looking for work;Student, part-time',\n",
              "       'Employed, full-time;Student, full-time;Not employed, but looking for work;Independent contractor, freelancer, or self-employed;Employed, part-time',\n",
              "       'Employed, full-time;Not employed, but looking for work;Not employed, and not looking for work;Employed, part-time',\n",
              "       'Student, full-time;Independent contractor, freelancer, or self-employed;Employed, part-time;Retired',\n",
              "       'Not employed, but looking for work;Student, part-time;Retired',\n",
              "       'Independent contractor, freelancer, or self-employed;Not employed, and not looking for work;Student, part-time;Retired',\n",
              "       'Employed, full-time;Student, full-time;Not employed, but looking for work;Independent contractor, freelancer, or self-employed',\n",
              "       'Not employed, but looking for work;Not employed, and not looking for work;Student, part-time',\n",
              "       'Employed, full-time;Student, full-time;Independent contractor, freelancer, or self-employed;Student, part-time;Retired',\n",
              "       'Employed, full-time;Student, full-time;Not employed, but looking for work;Student, part-time;Employed, part-time',\n",
              "       'Student, full-time;Not employed, but looking for work;Independent contractor, freelancer, or self-employed;Not employed, and not looking for work;Student, part-time',\n",
              "       'Employed, full-time;Student, full-time;Not employed, but looking for work;Independent contractor, freelancer, or self-employed;Student, part-time;Employed, part-time;Retired',\n",
              "       'Not employed, but looking for work;Independent contractor, freelancer, or self-employed;Not employed, and not looking for work;Employed, part-time',\n",
              "       'Student, full-time;Retired',\n",
              "       'Employed, full-time;Not employed, but looking for work;Student, part-time',\n",
              "       'Not employed, and not looking for work;Student, part-time;Employed, part-time',\n",
              "       'Not employed, but looking for work;Independent contractor, freelancer, or self-employed;Student, part-time;Retired'],\n",
              "      dtype=object)"
            ]
          },
          "execution_count": 48,
          "metadata": {},
          "output_type": "execute_result"
        }
      ],
      "source": [
        "df['Employment'].unique()"
      ]
    },
    {
      "cell_type": "markdown",
      "metadata": {
        "id": "jw6IegTPoRAQ"
      },
      "source": [
        "### 4. Encoding Categorical Variables\n"
      ]
    },
    {
      "cell_type": "markdown",
      "metadata": {
        "id": "IyDwy1aOoRAQ"
      },
      "source": [
        "<h5>4.1 Encode the Employment column using one-hot encoding.</h5>\n"
      ]
    },
    {
      "cell_type": "code",
      "execution_count": null,
      "metadata": {
        "id": "HSXc1yqfoRAQ",
        "outputId": "90c6e328-b2be-4fb5-f9ab-6cdf6a805483"
      },
      "outputs": [
        {
          "data": {
            "text/plain": [
              "0        Employed, full-time\n",
              "1        Employed, full-time\n",
              "2        Employed, full-time\n",
              "3         Student, full-time\n",
              "4         Student, full-time\n",
              "                ...         \n",
              "65432    Employed, full-time\n",
              "65433    Employed, full-time\n",
              "65434    Employed, full-time\n",
              "65435    Employed, full-time\n",
              "65436     Student, full-time\n",
              "Name: Employment, Length: 65437, dtype: object"
            ]
          },
          "execution_count": 49,
          "metadata": {},
          "output_type": "execute_result"
        }
      ],
      "source": [
        "## Write your code here\n",
        "df['Employment']"
      ]
    },
    {
      "cell_type": "code",
      "execution_count": null,
      "metadata": {
        "id": "2_CueRJRoRAQ",
        "outputId": "8fc6ccea-8625-42cf-8ad9-13a3e939d889"
      },
      "outputs": [
        {
          "data": {
            "text/html": [
              "<div>\n",
              "<style scoped>\n",
              "    .dataframe tbody tr th:only-of-type {\n",
              "        vertical-align: middle;\n",
              "    }\n",
              "\n",
              "    .dataframe tbody tr th {\n",
              "        vertical-align: top;\n",
              "    }\n",
              "\n",
              "    .dataframe thead th {\n",
              "        text-align: right;\n",
              "    }\n",
              "</style>\n",
              "<table border=\"1\" class=\"dataframe\">\n",
              "  <thead>\n",
              "    <tr style=\"text-align: right;\">\n",
              "      <th></th>\n",
              "      <th>ResponseId</th>\n",
              "      <th>MainBranch</th>\n",
              "      <th>Age</th>\n",
              "      <th>Employment</th>\n",
              "      <th>RemoteWork</th>\n",
              "      <th>Check</th>\n",
              "      <th>CodingActivities</th>\n",
              "      <th>EdLevel</th>\n",
              "      <th>LearnCode</th>\n",
              "      <th>LearnCodeOnline</th>\n",
              "      <th>...</th>\n",
              "      <th>Employment_Student, full-time;Not employed, but looking for work;Not employed, and not looking for work;Student, part-time</th>\n",
              "      <th>Employment_Student, full-time;Not employed, but looking for work;Retired</th>\n",
              "      <th>Employment_Student, full-time;Not employed, but looking for work;Student, part-time</th>\n",
              "      <th>Employment_Student, full-time;Retired</th>\n",
              "      <th>Employment_Student, full-time;Student, part-time</th>\n",
              "      <th>Employment_Student, full-time;Student, part-time;Employed, part-time</th>\n",
              "      <th>Employment_Student, full-time;Student, part-time;Retired</th>\n",
              "      <th>Employment_Student, part-time</th>\n",
              "      <th>Employment_Student, part-time;Employed, part-time</th>\n",
              "      <th>Employment_Student, part-time;Retired</th>\n",
              "    </tr>\n",
              "  </thead>\n",
              "  <tbody>\n",
              "    <tr>\n",
              "      <th>0</th>\n",
              "      <td>1</td>\n",
              "      <td>I am a developer by profession</td>\n",
              "      <td>Under 18 years old</td>\n",
              "      <td>Employed, full-time</td>\n",
              "      <td>Remote</td>\n",
              "      <td>Apples</td>\n",
              "      <td>Hobby</td>\n",
              "      <td>No degree</td>\n",
              "      <td>Books / Physical media</td>\n",
              "      <td>NaN</td>\n",
              "      <td>...</td>\n",
              "      <td>False</td>\n",
              "      <td>False</td>\n",
              "      <td>False</td>\n",
              "      <td>False</td>\n",
              "      <td>False</td>\n",
              "      <td>False</td>\n",
              "      <td>False</td>\n",
              "      <td>False</td>\n",
              "      <td>False</td>\n",
              "      <td>False</td>\n",
              "    </tr>\n",
              "    <tr>\n",
              "      <th>1</th>\n",
              "      <td>2</td>\n",
              "      <td>I am a developer by profession</td>\n",
              "      <td>35-44 years old</td>\n",
              "      <td>Employed, full-time</td>\n",
              "      <td>Remote</td>\n",
              "      <td>Apples</td>\n",
              "      <td>Hobby;Contribute to open-source projects;Other...</td>\n",
              "      <td>Bachelor’s degree</td>\n",
              "      <td>Books / Physical media;Colleague;On the job tr...</td>\n",
              "      <td>Technical documentation;Blogs;Books;Written Tu...</td>\n",
              "      <td>...</td>\n",
              "      <td>False</td>\n",
              "      <td>False</td>\n",
              "      <td>False</td>\n",
              "      <td>False</td>\n",
              "      <td>False</td>\n",
              "      <td>False</td>\n",
              "      <td>False</td>\n",
              "      <td>False</td>\n",
              "      <td>False</td>\n",
              "      <td>False</td>\n",
              "    </tr>\n",
              "    <tr>\n",
              "      <th>2</th>\n",
              "      <td>3</td>\n",
              "      <td>I am a developer by profession</td>\n",
              "      <td>45-54 years old</td>\n",
              "      <td>Employed, full-time</td>\n",
              "      <td>Remote</td>\n",
              "      <td>Apples</td>\n",
              "      <td>Hobby;Contribute to open-source projects;Other...</td>\n",
              "      <td>Master’s degree</td>\n",
              "      <td>Books / Physical media;Colleague;On the job tr...</td>\n",
              "      <td>Technical documentation;Blogs;Books;Written Tu...</td>\n",
              "      <td>...</td>\n",
              "      <td>False</td>\n",
              "      <td>False</td>\n",
              "      <td>False</td>\n",
              "      <td>False</td>\n",
              "      <td>False</td>\n",
              "      <td>False</td>\n",
              "      <td>False</td>\n",
              "      <td>False</td>\n",
              "      <td>False</td>\n",
              "      <td>False</td>\n",
              "    </tr>\n",
              "    <tr>\n",
              "      <th>3</th>\n",
              "      <td>4</td>\n",
              "      <td>I am learning to code</td>\n",
              "      <td>18-24 years old</td>\n",
              "      <td>Student, full-time</td>\n",
              "      <td>NaN</td>\n",
              "      <td>Apples</td>\n",
              "      <td>NaN</td>\n",
              "      <td>No degree</td>\n",
              "      <td>Other online resources (e.g., videos, blogs, f...</td>\n",
              "      <td>Stack Overflow;How-to videos;Interactive tutorial</td>\n",
              "      <td>...</td>\n",
              "      <td>False</td>\n",
              "      <td>False</td>\n",
              "      <td>False</td>\n",
              "      <td>False</td>\n",
              "      <td>False</td>\n",
              "      <td>False</td>\n",
              "      <td>False</td>\n",
              "      <td>False</td>\n",
              "      <td>False</td>\n",
              "      <td>False</td>\n",
              "    </tr>\n",
              "    <tr>\n",
              "      <th>4</th>\n",
              "      <td>5</td>\n",
              "      <td>I am a developer by profession</td>\n",
              "      <td>18-24 years old</td>\n",
              "      <td>Student, full-time</td>\n",
              "      <td>NaN</td>\n",
              "      <td>Apples</td>\n",
              "      <td>NaN</td>\n",
              "      <td>Secondary school (e.g. American high school, G...</td>\n",
              "      <td>Other online resources (e.g., videos, blogs, f...</td>\n",
              "      <td>Technical documentation;Blogs;Written Tutorial...</td>\n",
              "      <td>...</td>\n",
              "      <td>False</td>\n",
              "      <td>False</td>\n",
              "      <td>False</td>\n",
              "      <td>False</td>\n",
              "      <td>False</td>\n",
              "      <td>False</td>\n",
              "      <td>False</td>\n",
              "      <td>False</td>\n",
              "      <td>False</td>\n",
              "      <td>False</td>\n",
              "    </tr>\n",
              "    <tr>\n",
              "      <th>...</th>\n",
              "      <td>...</td>\n",
              "      <td>...</td>\n",
              "      <td>...</td>\n",
              "      <td>...</td>\n",
              "      <td>...</td>\n",
              "      <td>...</td>\n",
              "      <td>...</td>\n",
              "      <td>...</td>\n",
              "      <td>...</td>\n",
              "      <td>...</td>\n",
              "      <td>...</td>\n",
              "      <td>...</td>\n",
              "      <td>...</td>\n",
              "      <td>...</td>\n",
              "      <td>...</td>\n",
              "      <td>...</td>\n",
              "      <td>...</td>\n",
              "      <td>...</td>\n",
              "      <td>...</td>\n",
              "      <td>...</td>\n",
              "      <td>...</td>\n",
              "    </tr>\n",
              "    <tr>\n",
              "      <th>65432</th>\n",
              "      <td>65433</td>\n",
              "      <td>I am a developer by profession</td>\n",
              "      <td>18-24 years old</td>\n",
              "      <td>Employed, full-time</td>\n",
              "      <td>Remote</td>\n",
              "      <td>Apples</td>\n",
              "      <td>Hobby;School or academic work</td>\n",
              "      <td>Bachelor’s degree</td>\n",
              "      <td>On the job training;School (i.e., University, ...</td>\n",
              "      <td>NaN</td>\n",
              "      <td>...</td>\n",
              "      <td>False</td>\n",
              "      <td>False</td>\n",
              "      <td>False</td>\n",
              "      <td>False</td>\n",
              "      <td>False</td>\n",
              "      <td>False</td>\n",
              "      <td>False</td>\n",
              "      <td>False</td>\n",
              "      <td>False</td>\n",
              "      <td>False</td>\n",
              "    </tr>\n",
              "    <tr>\n",
              "      <th>65433</th>\n",
              "      <td>65434</td>\n",
              "      <td>I am a developer by profession</td>\n",
              "      <td>25-34 years old</td>\n",
              "      <td>Employed, full-time</td>\n",
              "      <td>Remote</td>\n",
              "      <td>Apples</td>\n",
              "      <td>Hobby;Contribute to open-source projects</td>\n",
              "      <td>NaN</td>\n",
              "      <td>NaN</td>\n",
              "      <td>NaN</td>\n",
              "      <td>...</td>\n",
              "      <td>False</td>\n",
              "      <td>False</td>\n",
              "      <td>False</td>\n",
              "      <td>False</td>\n",
              "      <td>False</td>\n",
              "      <td>False</td>\n",
              "      <td>False</td>\n",
              "      <td>False</td>\n",
              "      <td>False</td>\n",
              "      <td>False</td>\n",
              "    </tr>\n",
              "    <tr>\n",
              "      <th>65434</th>\n",
              "      <td>65435</td>\n",
              "      <td>I am a developer by profession</td>\n",
              "      <td>25-34 years old</td>\n",
              "      <td>Employed, full-time</td>\n",
              "      <td>In-person</td>\n",
              "      <td>Apples</td>\n",
              "      <td>Hobby</td>\n",
              "      <td>Bachelor’s degree</td>\n",
              "      <td>Other online resources (e.g., videos, blogs, f...</td>\n",
              "      <td>Technical documentation;Stack Overflow;Social ...</td>\n",
              "      <td>...</td>\n",
              "      <td>False</td>\n",
              "      <td>False</td>\n",
              "      <td>False</td>\n",
              "      <td>False</td>\n",
              "      <td>False</td>\n",
              "      <td>False</td>\n",
              "      <td>False</td>\n",
              "      <td>False</td>\n",
              "      <td>False</td>\n",
              "      <td>False</td>\n",
              "    </tr>\n",
              "    <tr>\n",
              "      <th>65435</th>\n",
              "      <td>65436</td>\n",
              "      <td>I am a developer by profession</td>\n",
              "      <td>18-24 years old</td>\n",
              "      <td>Employed, full-time</td>\n",
              "      <td>Hybrid (some remote, some in-person)</td>\n",
              "      <td>Apples</td>\n",
              "      <td>Hobby;Contribute to open-source projects;Profe...</td>\n",
              "      <td>Secondary school (e.g. American high school, G...</td>\n",
              "      <td>On the job training;Other online resources (e....</td>\n",
              "      <td>Technical documentation;Blogs;Written Tutorial...</td>\n",
              "      <td>...</td>\n",
              "      <td>False</td>\n",
              "      <td>False</td>\n",
              "      <td>False</td>\n",
              "      <td>False</td>\n",
              "      <td>False</td>\n",
              "      <td>False</td>\n",
              "      <td>False</td>\n",
              "      <td>False</td>\n",
              "      <td>False</td>\n",
              "      <td>False</td>\n",
              "    </tr>\n",
              "    <tr>\n",
              "      <th>65436</th>\n",
              "      <td>65437</td>\n",
              "      <td>I code primarily as a hobby</td>\n",
              "      <td>18-24 years old</td>\n",
              "      <td>Student, full-time</td>\n",
              "      <td>NaN</td>\n",
              "      <td>Apples</td>\n",
              "      <td>NaN</td>\n",
              "      <td>NaN</td>\n",
              "      <td>NaN</td>\n",
              "      <td>NaN</td>\n",
              "      <td>...</td>\n",
              "      <td>False</td>\n",
              "      <td>False</td>\n",
              "      <td>False</td>\n",
              "      <td>False</td>\n",
              "      <td>False</td>\n",
              "      <td>False</td>\n",
              "      <td>False</td>\n",
              "      <td>False</td>\n",
              "      <td>False</td>\n",
              "      <td>False</td>\n",
              "    </tr>\n",
              "  </tbody>\n",
              "</table>\n",
              "<p>65437 rows × 224 columns</p>\n",
              "</div>"
            ],
            "text/plain": [
              "       ResponseId                      MainBranch                 Age  \\\n",
              "0               1  I am a developer by profession  Under 18 years old   \n",
              "1               2  I am a developer by profession     35-44 years old   \n",
              "2               3  I am a developer by profession     45-54 years old   \n",
              "3               4           I am learning to code     18-24 years old   \n",
              "4               5  I am a developer by profession     18-24 years old   \n",
              "...           ...                             ...                 ...   \n",
              "65432       65433  I am a developer by profession     18-24 years old   \n",
              "65433       65434  I am a developer by profession     25-34 years old   \n",
              "65434       65435  I am a developer by profession     25-34 years old   \n",
              "65435       65436  I am a developer by profession     18-24 years old   \n",
              "65436       65437     I code primarily as a hobby     18-24 years old   \n",
              "\n",
              "                Employment                            RemoteWork   Check  \\\n",
              "0      Employed, full-time                                Remote  Apples   \n",
              "1      Employed, full-time                                Remote  Apples   \n",
              "2      Employed, full-time                                Remote  Apples   \n",
              "3       Student, full-time                                   NaN  Apples   \n",
              "4       Student, full-time                                   NaN  Apples   \n",
              "...                    ...                                   ...     ...   \n",
              "65432  Employed, full-time                                Remote  Apples   \n",
              "65433  Employed, full-time                                Remote  Apples   \n",
              "65434  Employed, full-time                             In-person  Apples   \n",
              "65435  Employed, full-time  Hybrid (some remote, some in-person)  Apples   \n",
              "65436   Student, full-time                                   NaN  Apples   \n",
              "\n",
              "                                        CodingActivities  \\\n",
              "0                                                  Hobby   \n",
              "1      Hobby;Contribute to open-source projects;Other...   \n",
              "2      Hobby;Contribute to open-source projects;Other...   \n",
              "3                                                    NaN   \n",
              "4                                                    NaN   \n",
              "...                                                  ...   \n",
              "65432                      Hobby;School or academic work   \n",
              "65433           Hobby;Contribute to open-source projects   \n",
              "65434                                              Hobby   \n",
              "65435  Hobby;Contribute to open-source projects;Profe...   \n",
              "65436                                                NaN   \n",
              "\n",
              "                                                 EdLevel  \\\n",
              "0                                              No degree   \n",
              "1                                      Bachelor’s degree   \n",
              "2                                        Master’s degree   \n",
              "3                                              No degree   \n",
              "4      Secondary school (e.g. American high school, G...   \n",
              "...                                                  ...   \n",
              "65432                                  Bachelor’s degree   \n",
              "65433                                                NaN   \n",
              "65434                                  Bachelor’s degree   \n",
              "65435  Secondary school (e.g. American high school, G...   \n",
              "65436                                                NaN   \n",
              "\n",
              "                                               LearnCode  \\\n",
              "0                                 Books / Physical media   \n",
              "1      Books / Physical media;Colleague;On the job tr...   \n",
              "2      Books / Physical media;Colleague;On the job tr...   \n",
              "3      Other online resources (e.g., videos, blogs, f...   \n",
              "4      Other online resources (e.g., videos, blogs, f...   \n",
              "...                                                  ...   \n",
              "65432  On the job training;School (i.e., University, ...   \n",
              "65433                                                NaN   \n",
              "65434  Other online resources (e.g., videos, blogs, f...   \n",
              "65435  On the job training;Other online resources (e....   \n",
              "65436                                                NaN   \n",
              "\n",
              "                                         LearnCodeOnline  ...  \\\n",
              "0                                                    NaN  ...   \n",
              "1      Technical documentation;Blogs;Books;Written Tu...  ...   \n",
              "2      Technical documentation;Blogs;Books;Written Tu...  ...   \n",
              "3      Stack Overflow;How-to videos;Interactive tutorial  ...   \n",
              "4      Technical documentation;Blogs;Written Tutorial...  ...   \n",
              "...                                                  ...  ...   \n",
              "65432                                                NaN  ...   \n",
              "65433                                                NaN  ...   \n",
              "65434  Technical documentation;Stack Overflow;Social ...  ...   \n",
              "65435  Technical documentation;Blogs;Written Tutorial...  ...   \n",
              "65436                                                NaN  ...   \n",
              "\n",
              "      Employment_Student, full-time;Not employed, but looking for work;Not employed, and not looking for work;Student, part-time  \\\n",
              "0                                                  False                                                                           \n",
              "1                                                  False                                                                           \n",
              "2                                                  False                                                                           \n",
              "3                                                  False                                                                           \n",
              "4                                                  False                                                                           \n",
              "...                                                  ...                                                                           \n",
              "65432                                              False                                                                           \n",
              "65433                                              False                                                                           \n",
              "65434                                              False                                                                           \n",
              "65435                                              False                                                                           \n",
              "65436                                              False                                                                           \n",
              "\n",
              "      Employment_Student, full-time;Not employed, but looking for work;Retired  \\\n",
              "0                                                  False                         \n",
              "1                                                  False                         \n",
              "2                                                  False                         \n",
              "3                                                  False                         \n",
              "4                                                  False                         \n",
              "...                                                  ...                         \n",
              "65432                                              False                         \n",
              "65433                                              False                         \n",
              "65434                                              False                         \n",
              "65435                                              False                         \n",
              "65436                                              False                         \n",
              "\n",
              "      Employment_Student, full-time;Not employed, but looking for work;Student, part-time  \\\n",
              "0                                                  False                                    \n",
              "1                                                  False                                    \n",
              "2                                                  False                                    \n",
              "3                                                  False                                    \n",
              "4                                                  False                                    \n",
              "...                                                  ...                                    \n",
              "65432                                              False                                    \n",
              "65433                                              False                                    \n",
              "65434                                              False                                    \n",
              "65435                                              False                                    \n",
              "65436                                              False                                    \n",
              "\n",
              "      Employment_Student, full-time;Retired  \\\n",
              "0                                     False   \n",
              "1                                     False   \n",
              "2                                     False   \n",
              "3                                     False   \n",
              "4                                     False   \n",
              "...                                     ...   \n",
              "65432                                 False   \n",
              "65433                                 False   \n",
              "65434                                 False   \n",
              "65435                                 False   \n",
              "65436                                 False   \n",
              "\n",
              "      Employment_Student, full-time;Student, part-time  \\\n",
              "0                                                False   \n",
              "1                                                False   \n",
              "2                                                False   \n",
              "3                                                False   \n",
              "4                                                False   \n",
              "...                                                ...   \n",
              "65432                                            False   \n",
              "65433                                            False   \n",
              "65434                                            False   \n",
              "65435                                            False   \n",
              "65436                                            False   \n",
              "\n",
              "      Employment_Student, full-time;Student, part-time;Employed, part-time  \\\n",
              "0                                                  False                     \n",
              "1                                                  False                     \n",
              "2                                                  False                     \n",
              "3                                                  False                     \n",
              "4                                                  False                     \n",
              "...                                                  ...                     \n",
              "65432                                              False                     \n",
              "65433                                              False                     \n",
              "65434                                              False                     \n",
              "65435                                              False                     \n",
              "65436                                              False                     \n",
              "\n",
              "      Employment_Student, full-time;Student, part-time;Retired  \\\n",
              "0                                                  False         \n",
              "1                                                  False         \n",
              "2                                                  False         \n",
              "3                                                  False         \n",
              "4                                                  False         \n",
              "...                                                  ...         \n",
              "65432                                              False         \n",
              "65433                                              False         \n",
              "65434                                              False         \n",
              "65435                                              False         \n",
              "65436                                              False         \n",
              "\n",
              "      Employment_Student, part-time  \\\n",
              "0                             False   \n",
              "1                             False   \n",
              "2                             False   \n",
              "3                             False   \n",
              "4                             False   \n",
              "...                             ...   \n",
              "65432                         False   \n",
              "65433                         False   \n",
              "65434                         False   \n",
              "65435                         False   \n",
              "65436                         False   \n",
              "\n",
              "      Employment_Student, part-time;Employed, part-time  \\\n",
              "0                                                 False   \n",
              "1                                                 False   \n",
              "2                                                 False   \n",
              "3                                                 False   \n",
              "4                                                 False   \n",
              "...                                                 ...   \n",
              "65432                                             False   \n",
              "65433                                             False   \n",
              "65434                                             False   \n",
              "65435                                             False   \n",
              "65436                                             False   \n",
              "\n",
              "      Employment_Student, part-time;Retired  \n",
              "0                                     False  \n",
              "1                                     False  \n",
              "2                                     False  \n",
              "3                                     False  \n",
              "4                                     False  \n",
              "...                                     ...  \n",
              "65432                                 False  \n",
              "65433                                 False  \n",
              "65434                                 False  \n",
              "65435                                 False  \n",
              "65436                                 False  \n",
              "\n",
              "[65437 rows x 224 columns]"
            ]
          },
          "execution_count": 50,
          "metadata": {},
          "output_type": "execute_result"
        }
      ],
      "source": [
        "# One-hot encode the 'Employment' column\n",
        "employment_encoded = pd.get_dummies(df['Employment'], prefix='Employment')\n",
        "\n",
        "# Merge back with original DataFrame\n",
        "df = pd.concat([df, employment_encoded], axis=1)\n",
        "df"
      ]
    },
    {
      "cell_type": "markdown",
      "metadata": {
        "id": "PJWx0D05oRAQ"
      },
      "source": [
        "### 5. Handling Missing Values\n"
      ]
    },
    {
      "cell_type": "markdown",
      "metadata": {
        "id": "6dejMZBioRAQ"
      },
      "source": [
        "<h5>5.1 Identify columns with the highest number of missing values.</h5>\n"
      ]
    },
    {
      "cell_type": "code",
      "execution_count": null,
      "metadata": {
        "id": "950jV02goRAQ",
        "outputId": "f5700f15-186e-45c1-c337-6371cbf63481"
      },
      "outputs": [
        {
          "data": {
            "text/plain": [
              "AINextMuch less integrated                                              64289\n",
              "AINextLess integrated                                                   63082\n",
              "AINextNo change                                                         52939\n",
              "AINextMuch more integrated                                              51999\n",
              "EmbeddedAdmired                                                         48704\n",
              "                                                                        ...  \n",
              "Employment_Student, full-time;Student, part-time;Employed, part-time        0\n",
              "Employment_Student, full-time;Student, part-time;Retired                    0\n",
              "Employment_Student, part-time                                               0\n",
              "Employment_Student, part-time;Employed, part-time                           0\n",
              "Employment_Student, part-time;Retired                                       0\n",
              "Length: 224, dtype: int64"
            ]
          },
          "execution_count": 66,
          "metadata": {},
          "output_type": "execute_result"
        }
      ],
      "source": [
        "## Write your code here\n",
        "df.isnull().sum().sort_values(ascending=False)"
      ]
    },
    {
      "cell_type": "markdown",
      "metadata": {
        "id": "nQ5F7kjYoRAQ"
      },
      "source": [
        "<h5>5.2 Impute missing values in numerical columns (e.g., `ConvertedCompYearly`) with the mean or median.</h5>\n"
      ]
    },
    {
      "cell_type": "code",
      "execution_count": null,
      "metadata": {
        "id": "iQA3VzlToRAQ",
        "outputId": "c116a108-f476-4cb8-a3f0-980b00e172b1"
      },
      "outputs": [
        {
          "data": {
            "text/plain": [
              "Index(['ResponseId', 'CompTotal', 'WorkExp', 'JobSatPoints_1',\n",
              "       'JobSatPoints_4', 'JobSatPoints_5', 'JobSatPoints_6', 'JobSatPoints_7',\n",
              "       'JobSatPoints_8', 'JobSatPoints_9', 'JobSatPoints_10',\n",
              "       'JobSatPoints_11', 'ConvertedCompYearly', 'JobSat'],\n",
              "      dtype='object')"
            ]
          },
          "execution_count": 71,
          "metadata": {},
          "output_type": "execute_result"
        }
      ],
      "source": [
        "## Write your code here\n",
        "df.dtypes\n",
        "\n",
        "numeric_df = df.select_dtypes(include='number')\n",
        "numeric_df.columns"
      ]
    },
    {
      "cell_type": "code",
      "execution_count": null,
      "metadata": {
        "id": "ZRnise9FoRAQ",
        "outputId": "93f10308-60f1-46b4-c637-c3b70b079afc"
      },
      "outputs": [
        {
          "name": "stderr",
          "output_type": "stream",
          "text": [
            "/tmp/ipykernel_301/1942036198.py:7: FutureWarning: A value is trying to be set on a copy of a DataFrame or Series through chained assignment using an inplace method.\n",
            "The behavior will change in pandas 3.0. This inplace method will never work because the intermediate object on which we are setting values always behaves as a copy.\n",
            "\n",
            "For example, when doing 'df[col].method(value, inplace=True)', try using 'df.method({col: value}, inplace=True)' or df[col] = df[col].method(value) instead, to perform the operation inplace on the original object.\n",
            "\n",
            "\n",
            "  df['ConvertedCompYearly'].fillna(df['ConvertedCompYearly'].median(),inplace=True)\n",
            "/tmp/ipykernel_301/1942036198.py:10: FutureWarning: A value is trying to be set on a copy of a DataFrame or Series through chained assignment using an inplace method.\n",
            "The behavior will change in pandas 3.0. This inplace method will never work because the intermediate object on which we are setting values always behaves as a copy.\n",
            "\n",
            "For example, when doing 'df[col].method(value, inplace=True)', try using 'df.method({col: value}, inplace=True)' or df[col] = df[col].method(value) instead, to perform the operation inplace on the original object.\n",
            "\n",
            "\n",
            "  df[column].fillna(df[column].median(),inplace=True)\n",
            "/tmp/ipykernel_301/1942036198.py:10: FutureWarning: A value is trying to be set on a copy of a DataFrame or Series through chained assignment using an inplace method.\n",
            "The behavior will change in pandas 3.0. This inplace method will never work because the intermediate object on which we are setting values always behaves as a copy.\n",
            "\n",
            "For example, when doing 'df[col].method(value, inplace=True)', try using 'df.method({col: value}, inplace=True)' or df[col] = df[col].method(value) instead, to perform the operation inplace on the original object.\n",
            "\n",
            "\n",
            "  df[column].fillna(df[column].median(),inplace=True)\n",
            "/tmp/ipykernel_301/1942036198.py:10: FutureWarning: A value is trying to be set on a copy of a DataFrame or Series through chained assignment using an inplace method.\n",
            "The behavior will change in pandas 3.0. This inplace method will never work because the intermediate object on which we are setting values always behaves as a copy.\n",
            "\n",
            "For example, when doing 'df[col].method(value, inplace=True)', try using 'df.method({col: value}, inplace=True)' or df[col] = df[col].method(value) instead, to perform the operation inplace on the original object.\n",
            "\n",
            "\n",
            "  df[column].fillna(df[column].median(),inplace=True)\n",
            "/tmp/ipykernel_301/1942036198.py:10: FutureWarning: A value is trying to be set on a copy of a DataFrame or Series through chained assignment using an inplace method.\n",
            "The behavior will change in pandas 3.0. This inplace method will never work because the intermediate object on which we are setting values always behaves as a copy.\n",
            "\n",
            "For example, when doing 'df[col].method(value, inplace=True)', try using 'df.method({col: value}, inplace=True)' or df[col] = df[col].method(value) instead, to perform the operation inplace on the original object.\n",
            "\n",
            "\n",
            "  df[column].fillna(df[column].median(),inplace=True)\n",
            "/tmp/ipykernel_301/1942036198.py:10: FutureWarning: A value is trying to be set on a copy of a DataFrame or Series through chained assignment using an inplace method.\n",
            "The behavior will change in pandas 3.0. This inplace method will never work because the intermediate object on which we are setting values always behaves as a copy.\n",
            "\n",
            "For example, when doing 'df[col].method(value, inplace=True)', try using 'df.method({col: value}, inplace=True)' or df[col] = df[col].method(value) instead, to perform the operation inplace on the original object.\n",
            "\n",
            "\n",
            "  df[column].fillna(df[column].median(),inplace=True)\n",
            "/tmp/ipykernel_301/1942036198.py:10: FutureWarning: A value is trying to be set on a copy of a DataFrame or Series through chained assignment using an inplace method.\n",
            "The behavior will change in pandas 3.0. This inplace method will never work because the intermediate object on which we are setting values always behaves as a copy.\n",
            "\n",
            "For example, when doing 'df[col].method(value, inplace=True)', try using 'df.method({col: value}, inplace=True)' or df[col] = df[col].method(value) instead, to perform the operation inplace on the original object.\n",
            "\n",
            "\n",
            "  df[column].fillna(df[column].median(),inplace=True)\n",
            "/tmp/ipykernel_301/1942036198.py:10: FutureWarning: A value is trying to be set on a copy of a DataFrame or Series through chained assignment using an inplace method.\n",
            "The behavior will change in pandas 3.0. This inplace method will never work because the intermediate object on which we are setting values always behaves as a copy.\n",
            "\n",
            "For example, when doing 'df[col].method(value, inplace=True)', try using 'df.method({col: value}, inplace=True)' or df[col] = df[col].method(value) instead, to perform the operation inplace on the original object.\n",
            "\n",
            "\n",
            "  df[column].fillna(df[column].median(),inplace=True)\n",
            "/tmp/ipykernel_301/1942036198.py:10: FutureWarning: A value is trying to be set on a copy of a DataFrame or Series through chained assignment using an inplace method.\n",
            "The behavior will change in pandas 3.0. This inplace method will never work because the intermediate object on which we are setting values always behaves as a copy.\n",
            "\n",
            "For example, when doing 'df[col].method(value, inplace=True)', try using 'df.method({col: value}, inplace=True)' or df[col] = df[col].method(value) instead, to perform the operation inplace on the original object.\n",
            "\n",
            "\n",
            "  df[column].fillna(df[column].median(),inplace=True)\n",
            "/tmp/ipykernel_301/1942036198.py:10: FutureWarning: A value is trying to be set on a copy of a DataFrame or Series through chained assignment using an inplace method.\n",
            "The behavior will change in pandas 3.0. This inplace method will never work because the intermediate object on which we are setting values always behaves as a copy.\n",
            "\n",
            "For example, when doing 'df[col].method(value, inplace=True)', try using 'df.method({col: value}, inplace=True)' or df[col] = df[col].method(value) instead, to perform the operation inplace on the original object.\n",
            "\n",
            "\n",
            "  df[column].fillna(df[column].median(),inplace=True)\n",
            "/tmp/ipykernel_301/1942036198.py:10: FutureWarning: A value is trying to be set on a copy of a DataFrame or Series through chained assignment using an inplace method.\n",
            "The behavior will change in pandas 3.0. This inplace method will never work because the intermediate object on which we are setting values always behaves as a copy.\n",
            "\n",
            "For example, when doing 'df[col].method(value, inplace=True)', try using 'df.method({col: value}, inplace=True)' or df[col] = df[col].method(value) instead, to perform the operation inplace on the original object.\n",
            "\n",
            "\n",
            "  df[column].fillna(df[column].median(),inplace=True)\n",
            "/tmp/ipykernel_301/1942036198.py:10: FutureWarning: A value is trying to be set on a copy of a DataFrame or Series through chained assignment using an inplace method.\n",
            "The behavior will change in pandas 3.0. This inplace method will never work because the intermediate object on which we are setting values always behaves as a copy.\n",
            "\n",
            "For example, when doing 'df[col].method(value, inplace=True)', try using 'df.method({col: value}, inplace=True)' or df[col] = df[col].method(value) instead, to perform the operation inplace on the original object.\n",
            "\n",
            "\n",
            "  df[column].fillna(df[column].median(),inplace=True)\n",
            "/tmp/ipykernel_301/1942036198.py:10: FutureWarning: A value is trying to be set on a copy of a DataFrame or Series through chained assignment using an inplace method.\n",
            "The behavior will change in pandas 3.0. This inplace method will never work because the intermediate object on which we are setting values always behaves as a copy.\n",
            "\n",
            "For example, when doing 'df[col].method(value, inplace=True)', try using 'df.method({col: value}, inplace=True)' or df[col] = df[col].method(value) instead, to perform the operation inplace on the original object.\n",
            "\n",
            "\n",
            "  df[column].fillna(df[column].median(),inplace=True)\n",
            "/tmp/ipykernel_301/1942036198.py:10: FutureWarning: A value is trying to be set on a copy of a DataFrame or Series through chained assignment using an inplace method.\n",
            "The behavior will change in pandas 3.0. This inplace method will never work because the intermediate object on which we are setting values always behaves as a copy.\n",
            "\n",
            "For example, when doing 'df[col].method(value, inplace=True)', try using 'df.method({col: value}, inplace=True)' or df[col] = df[col].method(value) instead, to perform the operation inplace on the original object.\n",
            "\n",
            "\n",
            "  df[column].fillna(df[column].median(),inplace=True)\n",
            "/tmp/ipykernel_301/1942036198.py:10: FutureWarning: A value is trying to be set on a copy of a DataFrame or Series through chained assignment using an inplace method.\n",
            "The behavior will change in pandas 3.0. This inplace method will never work because the intermediate object on which we are setting values always behaves as a copy.\n",
            "\n",
            "For example, when doing 'df[col].method(value, inplace=True)', try using 'df.method({col: value}, inplace=True)' or df[col] = df[col].method(value) instead, to perform the operation inplace on the original object.\n",
            "\n",
            "\n",
            "  df[column].fillna(df[column].median(),inplace=True)\n"
          ]
        }
      ],
      "source": [
        "\n",
        "columns_to_impute = ['ResponseId', 'CompTotal', 'WorkExp', 'JobSatPoints_1',\n",
        "       'JobSatPoints_4', 'JobSatPoints_5', 'JobSatPoints_6', 'JobSatPoints_7',\n",
        "       'JobSatPoints_8', 'JobSatPoints_9', 'JobSatPoints_10',\n",
        "       'JobSatPoints_11', 'ConvertedCompYearly', 'JobSat']\n",
        "\n",
        "df['ConvertedCompYearly'].isnull().sum()\n",
        "df['ConvertedCompYearly'].fillna(df['ConvertedCompYearly'].median(),inplace=True)\n",
        "\n",
        "def impute_missing(column):\n",
        "    df[column].fillna(df[column].median(),inplace=True)\n",
        "\n",
        "for column in columns_to_impute:\n",
        "    impute_missing(column)"
      ]
    },
    {
      "cell_type": "code",
      "execution_count": null,
      "metadata": {
        "id": "Sb70gNOwoRAQ"
      },
      "outputs": [],
      "source": [
        "columns_to_impute = ['ResponseId', 'CompTotal', 'WorkExp', 'JobSatPoints_1',\n",
        "       'JobSatPoints_4', 'JobSatPoints_5', 'JobSatPoints_6', 'JobSatPoints_7',\n",
        "       'JobSatPoints_8', 'JobSatPoints_9', 'JobSatPoints_10',\n",
        "       'JobSatPoints_11', 'ConvertedCompYearly', 'JobSat']\n",
        "\n",
        "def impute_missing(column):\n",
        "    df.fillna({column :df[column].median()},inplace=True)\n",
        "\n",
        "for column in columns_to_impute:\n",
        "    impute_missing(column)"
      ]
    },
    {
      "cell_type": "code",
      "execution_count": null,
      "metadata": {
        "id": "QD6k0ccxoRAR",
        "outputId": "310a0910-e573-4038-d38a-5850805a7dcc"
      },
      "outputs": [
        {
          "data": {
            "text/plain": [
              "ResponseId                        0\n",
              "MainBranch                        0\n",
              "Age                               0\n",
              "Employment                        0\n",
              "Check                             0\n",
              "                              ...  \n",
              "EmbeddedAdmired               48704\n",
              "AINextMuch more integrated    51999\n",
              "AINextNo change               52939\n",
              "AINextLess integrated         63082\n",
              "AINextMuch less integrated    64289\n",
              "Length: 224, dtype: int64"
            ]
          },
          "execution_count": 93,
          "metadata": {},
          "output_type": "execute_result"
        }
      ],
      "source": [
        "df['ConvertedCompYearly'].value_counts()\n",
        "df.isnull().sum().sort_values()"
      ]
    },
    {
      "cell_type": "markdown",
      "metadata": {
        "id": "iM4TwsmtoRAR"
      },
      "source": [
        "<h5>5.3 Impute missing values in categorical columns (e.g., `RemoteWork`) with the most frequent value.</h5>\n"
      ]
    },
    {
      "cell_type": "code",
      "execution_count": null,
      "metadata": {
        "id": "KZo0xfzUoRAR",
        "outputId": "064d1fd6-af58-4e29-ceac-d1b7a17cb1c0"
      },
      "outputs": [
        {
          "data": {
            "text/plain": [
              "Index(['MainBranch', 'Age', 'Employment', 'RemoteWork', 'Check',\n",
              "       'CodingActivities', 'EdLevel', 'LearnCode', 'LearnCodeOnline',\n",
              "       'TechDoc', 'YearsCode', 'YearsCodePro', 'DevType', 'OrgSize',\n",
              "       'PurchaseInfluence', 'BuyNewTool', 'BuildvsBuy', 'TechEndorse',\n",
              "       'Country', 'Currency', 'LanguageHaveWorkedWith',\n",
              "       'LanguageWantToWorkWith', 'LanguageAdmired', 'DatabaseHaveWorkedWith',\n",
              "       'DatabaseWantToWorkWith', 'DatabaseAdmired', 'PlatformHaveWorkedWith',\n",
              "       'PlatformWantToWorkWith', 'PlatformAdmired', 'WebframeHaveWorkedWith',\n",
              "       'WebframeWantToWorkWith', 'WebframeAdmired', 'EmbeddedHaveWorkedWith',\n",
              "       'EmbeddedWantToWorkWith', 'EmbeddedAdmired', 'MiscTechHaveWorkedWith',\n",
              "       'MiscTechWantToWorkWith', 'MiscTechAdmired', 'ToolsTechHaveWorkedWith',\n",
              "       'ToolsTechWantToWorkWith', 'ToolsTechAdmired',\n",
              "       'NEWCollabToolsHaveWorkedWith', 'NEWCollabToolsWantToWorkWith',\n",
              "       'NEWCollabToolsAdmired', 'OpSysPersonal use', 'OpSysProfessional use',\n",
              "       'OfficeStackAsyncHaveWorkedWith', 'OfficeStackAsyncWantToWorkWith',\n",
              "       'OfficeStackAsyncAdmired', 'OfficeStackSyncHaveWorkedWith',\n",
              "       'OfficeStackSyncWantToWorkWith', 'OfficeStackSyncAdmired',\n",
              "       'AISearchDevHaveWorkedWith', 'AISearchDevWantToWorkWith',\n",
              "       'AISearchDevAdmired', 'NEWSOSites', 'SOVisitFreq', 'SOAccount',\n",
              "       'SOPartFreq', 'SOHow', 'SOComm', 'AISelect', 'AISent', 'AIBen', 'AIAcc',\n",
              "       'AIComplex', 'AIToolCurrently Using', 'AIToolInterested in Using',\n",
              "       'AIToolNot interested in Using', 'AINextMuch more integrated',\n",
              "       'AINextNo change', 'AINextMore integrated', 'AINextLess integrated',\n",
              "       'AINextMuch less integrated', 'AIThreat', 'AIEthics', 'AIChallenges',\n",
              "       'TBranch', 'ICorPM', 'Knowledge_1', 'Knowledge_2', 'Knowledge_3',\n",
              "       'Knowledge_4', 'Knowledge_5', 'Knowledge_6', 'Knowledge_7',\n",
              "       'Knowledge_8', 'Knowledge_9', 'Frequency_1', 'Frequency_2',\n",
              "       'Frequency_3', 'TimeSearching', 'TimeAnswering', 'Frustration',\n",
              "       'ProfessionalTech', 'ProfessionalCloud', 'ProfessionalQuestion',\n",
              "       'Industry', 'SurveyLength', 'SurveyEase'],\n",
              "      dtype='object')"
            ]
          },
          "execution_count": 103,
          "metadata": {},
          "output_type": "execute_result"
        }
      ],
      "source": [
        "categorical_df = df.select_dtypes(include=['object', 'category'])\n",
        "categorical_df.columns"
      ]
    },
    {
      "cell_type": "code",
      "execution_count": null,
      "metadata": {
        "id": "6f_c353woRAR"
      },
      "outputs": [],
      "source": [
        "## Write your code here\n",
        "columns_to_impute = ['MainBranch', 'Age', 'Employment', 'RemoteWork', 'Check',\n",
        "       'CodingActivities', 'EdLevel', 'LearnCode', 'LearnCodeOnline',\n",
        "       'TechDoc', 'YearsCode', 'YearsCodePro', 'DevType', 'OrgSize',\n",
        "       'PurchaseInfluence', 'BuyNewTool', 'BuildvsBuy', 'TechEndorse',\n",
        "       'Country', 'Currency', 'LanguageHaveWorkedWith',\n",
        "       'LanguageWantToWorkWith', 'LanguageAdmired', 'DatabaseHaveWorkedWith',\n",
        "       'DatabaseWantToWorkWith', 'DatabaseAdmired', 'PlatformHaveWorkedWith',\n",
        "       'PlatformWantToWorkWith', 'PlatformAdmired', 'WebframeHaveWorkedWith',\n",
        "       'WebframeWantToWorkWith', 'WebframeAdmired', 'EmbeddedHaveWorkedWith',\n",
        "       'EmbeddedWantToWorkWith', 'EmbeddedAdmired', 'MiscTechHaveWorkedWith',\n",
        "       'MiscTechWantToWorkWith', 'MiscTechAdmired', 'ToolsTechHaveWorkedWith',\n",
        "       'ToolsTechWantToWorkWith', 'ToolsTechAdmired',\n",
        "       'NEWCollabToolsHaveWorkedWith', 'NEWCollabToolsWantToWorkWith',\n",
        "       'NEWCollabToolsAdmired', 'OpSysPersonal use', 'OpSysProfessional use',\n",
        "       'OfficeStackAsyncHaveWorkedWith', 'OfficeStackAsyncWantToWorkWith',\n",
        "       'OfficeStackAsyncAdmired', 'OfficeStackSyncHaveWorkedWith',\n",
        "       'OfficeStackSyncWantToWorkWith', 'OfficeStackSyncAdmired',\n",
        "       'AISearchDevHaveWorkedWith', 'AISearchDevWantToWorkWith',\n",
        "       'AISearchDevAdmired', 'NEWSOSites', 'SOVisitFreq', 'SOAccount',\n",
        "       'SOPartFreq', 'SOHow', 'SOComm', 'AISelect', 'AISent', 'AIBen', 'AIAcc',\n",
        "       'AIComplex', 'AIToolCurrently Using', 'AIToolInterested in Using',\n",
        "       'AIToolNot interested in Using', 'AINextMuch more integrated',\n",
        "       'AINextNo change', 'AINextMore integrated', 'AINextLess integrated',\n",
        "       'AINextMuch less integrated', 'AIThreat', 'AIEthics', 'AIChallenges',\n",
        "       'TBranch', 'ICorPM', 'Knowledge_1', 'Knowledge_2', 'Knowledge_3',\n",
        "       'Knowledge_4', 'Knowledge_5', 'Knowledge_6', 'Knowledge_7',\n",
        "       'Knowledge_8', 'Knowledge_9', 'Frequency_1', 'Frequency_2',\n",
        "       'Frequency_3', 'TimeSearching', 'TimeAnswering', 'Frustration',\n",
        "       'ProfessionalTech', 'ProfessionalCloud', 'ProfessionalQuestion',\n",
        "       'Industry', 'SurveyLength', 'SurveyEase']\n",
        "\n",
        "def impute_missing(column):\n",
        "    df.fillna({column :df[column].mode()},inplace=True)\n",
        "\n",
        "for column in columns_to_impute:\n",
        "    impute_missing(column)"
      ]
    },
    {
      "cell_type": "code",
      "execution_count": null,
      "metadata": {
        "id": "Me58N9hKoRAR"
      },
      "outputs": [],
      "source": []
    },
    {
      "cell_type": "markdown",
      "metadata": {
        "id": "FDVkYX_7oRAR"
      },
      "source": [
        "### 6. Feature Scaling and Transformation\n"
      ]
    },
    {
      "cell_type": "markdown",
      "metadata": {
        "id": "_4PPImguoRAR"
      },
      "source": [
        "<h5>6.1 Apply Min-Max Scaling to normalize the `ConvertedCompYearly` column.</h5>\n"
      ]
    },
    {
      "cell_type": "code",
      "execution_count": null,
      "metadata": {
        "id": "nyDWfqFzoRAR"
      },
      "outputs": [],
      "source": [
        "## Write your code here\n",
        "min = df['ConvertedCompYearly'].min()\n",
        "max = df['ConvertedCompYearly'].max()\n",
        "\n",
        "\n"
      ]
    },
    {
      "cell_type": "code",
      "execution_count": null,
      "metadata": {
        "id": "xp52UsHloRAR",
        "outputId": "0bc26fc5-f609-4b86-f6ae-4e66e8c8e996"
      },
      "outputs": [
        {
          "data": {
            "text/plain": [
              "0        0.003998\n",
              "1        0.003998\n",
              "2        0.003998\n",
              "3        0.003998\n",
              "4        0.003998\n",
              "           ...   \n",
              "65432    0.003998\n",
              "65433    0.003998\n",
              "65434    0.003998\n",
              "65435    0.003998\n",
              "65436    0.003998\n",
              "Name: ConvertedCompYearly_Scaled, Length: 65437, dtype: float64"
            ]
          },
          "execution_count": 111,
          "metadata": {},
          "output_type": "execute_result"
        }
      ],
      "source": [
        "from sklearn.preprocessing import MinMaxScaler\n",
        "\n",
        "# Initialize the scaler\n",
        "scaler = MinMaxScaler()\n",
        "\n",
        "# Reshape the data and apply the scaler (avoiding NaNs)\n",
        "df['ConvertedCompYearly_Scaled'] = scaler.fit_transform(df[['ConvertedCompYearly']])\n",
        "df['ConvertedCompYearly_Scaled']"
      ]
    },
    {
      "cell_type": "markdown",
      "metadata": {
        "id": "5xD-waozoRAR"
      },
      "source": [
        "<h5>6.2 Log-transform the ConvertedCompYearly column to reduce skewness.</h5>\n"
      ]
    },
    {
      "cell_type": "code",
      "execution_count": null,
      "metadata": {
        "id": "grf4ztM-oRAS",
        "outputId": "726a4fbd-bc80-487a-d635-ec7af43efbd5"
      },
      "outputs": [
        {
          "data": {
            "text/plain": [
              "0        11.082143\n",
              "1        11.082143\n",
              "2        11.082143\n",
              "3        11.082143\n",
              "4        11.082143\n",
              "           ...    \n",
              "65432    11.082143\n",
              "65433    11.082143\n",
              "65434    11.082143\n",
              "65435    11.082143\n",
              "65436    11.082143\n",
              "Name: ConvertedCompYearly_Log, Length: 65437, dtype: float64"
            ]
          },
          "execution_count": 114,
          "metadata": {},
          "output_type": "execute_result"
        }
      ],
      "source": [
        "## Write your code here\n",
        "import numpy as np\n",
        "\n",
        "df = df[df['ConvertedCompYearly'] > 0]\n",
        "df['ConvertedCompYearly_Log'] = np.log(df['ConvertedCompYearly'])\n",
        "df['ConvertedCompYearly_Log']"
      ]
    },
    {
      "cell_type": "markdown",
      "metadata": {
        "id": "3cbfV6NgoRAS"
      },
      "source": [
        "### 7. Feature Engineering\n"
      ]
    },
    {
      "cell_type": "markdown",
      "metadata": {
        "id": "v6lwhdhuoRAS"
      },
      "source": [
        "<h5>7.1 Create a new column `ExperienceLevel` based on the `YearsCodePro` column:</h5>\n"
      ]
    },
    {
      "cell_type": "code",
      "execution_count": null,
      "metadata": {
        "id": "qcL0A2FgoRAS",
        "outputId": "b834937f-7835-4766-ee39-d2f94c63a5d6"
      },
      "outputs": [
        {
          "data": {
            "text/plain": [
              "array(['2', '17', '27', nan, '7', '11', '25', '12', '10', '3',\n",
              "       'Less than 1 year', '18', '37', '15', '20', '6', '16', '8', '14',\n",
              "       '4', '45', '1', '24', '29', '5', '30', '26', '9', '33', '13', '35',\n",
              "       '23', '22', '31', '19', '21', '28', '34', '32', '40', '50', '39',\n",
              "       '44', '42', '41', '36', '38', 'More than 50 years', '43', '47',\n",
              "       '48', '46', '49'], dtype=object)"
            ]
          },
          "execution_count": 115,
          "metadata": {},
          "output_type": "execute_result"
        }
      ],
      "source": [
        "## Write your code here\n",
        "df['YearsCodePro'].unique()"
      ]
    },
    {
      "cell_type": "code",
      "execution_count": null,
      "metadata": {
        "id": "4NmmGAYKoRAS"
      },
      "outputs": [],
      "source": [
        "import numpy as np\n",
        "import pandas as pd\n",
        "\n",
        "# Convert 'YearsCodePro' to numeric\n",
        "df['YearsCodePro_cleaned'] = df['YearsCodePro'].replace({\n",
        "    'Less than 1 year': 0.5,\n",
        "    'More than 50 years': 51\n",
        "}).astype(float)\n",
        "\n",
        "# Define experience level\n",
        "def get_experience_level(years):\n",
        "    if pd.isnull(years):\n",
        "        return np.nan\n",
        "    elif years < 3:\n",
        "        return 'Beginner'\n",
        "    elif 3 <= years <= 7:\n",
        "        return 'Intermediate'\n",
        "    elif 8 <= years <= 15:\n",
        "        return 'Experienced'\n",
        "    else:\n",
        "        return 'Expert'\n",
        "\n",
        "# Apply function\n",
        "df['ExperienceLevel'] = df['YearsCodePro_cleaned'].apply(get_experience_level)"
      ]
    },
    {
      "cell_type": "code",
      "execution_count": null,
      "metadata": {
        "id": "xCQtHOsUoRAS",
        "outputId": "f24cba1f-4303-4916-bb00-b93e3f2af6b8"
      },
      "outputs": [
        {
          "data": {
            "text/plain": [
              "0            Beginner\n",
              "1              Expert\n",
              "2              Expert\n",
              "3                 NaN\n",
              "4                 NaN\n",
              "             ...     \n",
              "65432    Intermediate\n",
              "65433             NaN\n",
              "65434    Intermediate\n",
              "65435        Beginner\n",
              "65436             NaN\n",
              "Name: ExperienceLevel, Length: 65437, dtype: object"
            ]
          },
          "execution_count": 117,
          "metadata": {},
          "output_type": "execute_result"
        }
      ],
      "source": [
        "df['ExperienceLevel']"
      ]
    },
    {
      "cell_type": "markdown",
      "metadata": {
        "id": "zTu3DHmVoRAS"
      },
      "source": [
        "### Summary\n"
      ]
    },
    {
      "cell_type": "markdown",
      "metadata": {
        "id": "g-uPREIToRAS"
      },
      "source": [
        "In this lab, you:\n",
        "\n",
        "- Explored the dataset to identify inconsistencies and missing values.\n",
        "\n",
        "- Encoded categorical variables for analysis.\n",
        "\n",
        "- Handled missing values using imputation techniques.\n",
        "\n",
        "- Normalized and transformed numerical data to prepare it for analysis.\n",
        "\n",
        "- Engineered a new feature to enhance data interpretation.\n"
      ]
    },
    {
      "cell_type": "markdown",
      "metadata": {
        "id": "fN7u3yfaoRAS"
      },
      "source": [
        "Copyright © IBM Corporation. All rights reserved.\n"
      ]
    }
  ],
  "metadata": {
    "kernelspec": {
      "display_name": "Python 3 (ipykernel)",
      "language": "python",
      "name": "python3"
    },
    "language_info": {
      "codemirror_mode": {
        "name": "ipython",
        "version": 3
      },
      "file_extension": ".py",
      "mimetype": "text/x-python",
      "name": "python",
      "nbconvert_exporter": "python",
      "pygments_lexer": "ipython3",
      "version": "3.12.8"
    },
    "prev_pub_hash": "1e8e234f19fd098e27b0518a87f18de690e1c51f1d3263d5690927d19971251e",
    "colab": {
      "provenance": [],
      "include_colab_link": true
    }
  },
  "nbformat": 4,
  "nbformat_minor": 0
}