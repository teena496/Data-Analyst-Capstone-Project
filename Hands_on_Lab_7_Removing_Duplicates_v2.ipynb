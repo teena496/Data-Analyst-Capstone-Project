{
  "cells": [
    {
      "cell_type": "markdown",
      "metadata": {
        "id": "view-in-github",
        "colab_type": "text"
      },
      "source": [
        "<a href=\"https://colab.research.google.com/github/teena496/Data-Analyst-Capstone-Project/blob/main/Hands_on_Lab_7_Removing_Duplicates_v2.ipynb\" target=\"_parent\"><img src=\"https://colab.research.google.com/assets/colab-badge.svg\" alt=\"Open In Colab\"/></a>"
      ]
    },
    {
      "cell_type": "markdown",
      "metadata": {
        "id": "7lbvt_xW5Ug5"
      },
      "source": [
        "<p style=\"text-align:center\">\n",
        "    <a href=\"https://skills.network\" target=\"_blank\">\n",
        "    <img src=\"https://cf-courses-data.s3.us.cloud-object-storage.appdomain.cloud/assets/logos/SN_web_lightmode.png\" width=\"200\" alt=\"Skills Network Logo\"  />\n",
        "    </a>\n",
        "</p>\n"
      ]
    },
    {
      "cell_type": "markdown",
      "metadata": {
        "id": "lbFyGOd85Ug9"
      },
      "source": [
        "# **Removing Duplicates**\n"
      ]
    },
    {
      "cell_type": "markdown",
      "metadata": {
        "id": "RF3mLugY5Ug9"
      },
      "source": [
        "Estimated time needed: **30** minutes\n"
      ]
    },
    {
      "cell_type": "code",
      "source": [],
      "metadata": {
        "id": "hpC8zKtl5Vp8"
      },
      "execution_count": null,
      "outputs": []
    },
    {
      "cell_type": "markdown",
      "metadata": {
        "id": "_ojorIPE5Ug9"
      },
      "source": [
        "## Introduction\n"
      ]
    },
    {
      "cell_type": "markdown",
      "metadata": {
        "id": "Rkh8LT525Ug9"
      },
      "source": [
        "In this lab, you will focus on data wrangling, an important step in preparing data for analysis. Data wrangling involves cleaning and organizing data to make it suitable for analysis. One key task in this process is removing duplicate entries, which are repeated entries that can distort analysis and lead to inaccurate conclusions.  \n"
      ]
    },
    {
      "cell_type": "markdown",
      "metadata": {
        "id": "X0kZ6Gle5Ug9"
      },
      "source": [
        "## Objectives\n"
      ]
    },
    {
      "cell_type": "markdown",
      "metadata": {
        "id": "KcViRfN55Ug-"
      },
      "source": [
        "In this lab you will perform the following:\n"
      ]
    },
    {
      "cell_type": "markdown",
      "metadata": {
        "id": "Js1yp9PU5Ug-"
      },
      "source": [
        "1. Identify duplicate rows  in the dataset.\n",
        "2. Use suitable techniques to remove duplicate rows and verify the removal.\n",
        "3. Summarize how to handle missing values appropriately.\n",
        "4. Use ConvertedCompYearly to normalize compensation data.\n",
        "   \n"
      ]
    },
    {
      "cell_type": "markdown",
      "metadata": {
        "id": "8IsTexv55Ug-"
      },
      "source": [
        "### Install the Required Libraries\n"
      ]
    },
    {
      "cell_type": "code",
      "execution_count": null,
      "metadata": {
        "id": "ZhXMyAsZ5Ug-",
        "outputId": "cc54b651-6fda-4943-c5e0-730c2d9c9bc9"
      },
      "outputs": [
        {
          "name": "stdout",
          "output_type": "stream",
          "text": [
            "Requirement already satisfied: pandas in /opt/conda/lib/python3.12/site-packages (2.2.3)\n",
            "Requirement already satisfied: numpy>=1.26.0 in /opt/conda/lib/python3.12/site-packages (from pandas) (2.2.4)\n",
            "Requirement already satisfied: python-dateutil>=2.8.2 in /opt/conda/lib/python3.12/site-packages (from pandas) (2.9.0.post0)\n",
            "Requirement already satisfied: pytz>=2020.1 in /opt/conda/lib/python3.12/site-packages (from pandas) (2024.2)\n",
            "Requirement already satisfied: tzdata>=2022.7 in /opt/conda/lib/python3.12/site-packages (from pandas) (2025.2)\n",
            "Requirement already satisfied: six>=1.5 in /opt/conda/lib/python3.12/site-packages (from python-dateutil>=2.8.2->pandas) (1.17.0)\n"
          ]
        }
      ],
      "source": [
        "!pip install pandas"
      ]
    },
    {
      "cell_type": "markdown",
      "metadata": {
        "id": "0B-z4TY95Ug_"
      },
      "source": [
        "### Step 1: Import Required Libraries\n"
      ]
    },
    {
      "cell_type": "code",
      "execution_count": null,
      "metadata": {
        "id": "DQ9tRiK45Ug_"
      },
      "outputs": [],
      "source": [
        "import pandas as pd"
      ]
    },
    {
      "cell_type": "markdown",
      "metadata": {
        "id": "qTepTrpQ5Ug_"
      },
      "source": [
        "### Step 2: Load the Dataset into a DataFrame\n",
        "\n"
      ]
    },
    {
      "cell_type": "markdown",
      "metadata": {
        "id": "6GipqIti5Ug_"
      },
      "source": [
        "load the dataset using pd.read_csv()\n"
      ]
    },
    {
      "cell_type": "code",
      "execution_count": null,
      "metadata": {
        "id": "XvdMteF85Ug_",
        "outputId": "719918dc-456d-49a6-efc2-f0bf5e5e929a"
      },
      "outputs": [
        {
          "name": "stdout",
          "output_type": "stream",
          "text": [
            "   ResponseId                      MainBranch                 Age  \\\n",
            "0           1  I am a developer by profession  Under 18 years old   \n",
            "1           2  I am a developer by profession     35-44 years old   \n",
            "2           3  I am a developer by profession     45-54 years old   \n",
            "3           4           I am learning to code     18-24 years old   \n",
            "4           5  I am a developer by profession     18-24 years old   \n",
            "\n",
            "            Employment RemoteWork   Check  \\\n",
            "0  Employed, full-time     Remote  Apples   \n",
            "1  Employed, full-time     Remote  Apples   \n",
            "2  Employed, full-time     Remote  Apples   \n",
            "3   Student, full-time        NaN  Apples   \n",
            "4   Student, full-time        NaN  Apples   \n",
            "\n",
            "                                    CodingActivities  \\\n",
            "0                                              Hobby   \n",
            "1  Hobby;Contribute to open-source projects;Other...   \n",
            "2  Hobby;Contribute to open-source projects;Other...   \n",
            "3                                                NaN   \n",
            "4                                                NaN   \n",
            "\n",
            "                                             EdLevel  \\\n",
            "0                          Primary/elementary school   \n",
            "1       Bachelor’s degree (B.A., B.S., B.Eng., etc.)   \n",
            "2    Master’s degree (M.A., M.S., M.Eng., MBA, etc.)   \n",
            "3  Some college/university study without earning ...   \n",
            "4  Secondary school (e.g. American high school, G...   \n",
            "\n",
            "                                           LearnCode  \\\n",
            "0                             Books / Physical media   \n",
            "1  Books / Physical media;Colleague;On the job tr...   \n",
            "2  Books / Physical media;Colleague;On the job tr...   \n",
            "3  Other online resources (e.g., videos, blogs, f...   \n",
            "4  Other online resources (e.g., videos, blogs, f...   \n",
            "\n",
            "                                     LearnCodeOnline  ... JobSatPoints_6  \\\n",
            "0                                                NaN  ...            NaN   \n",
            "1  Technical documentation;Blogs;Books;Written Tu...  ...            0.0   \n",
            "2  Technical documentation;Blogs;Books;Written Tu...  ...            NaN   \n",
            "3  Stack Overflow;How-to videos;Interactive tutorial  ...            NaN   \n",
            "4  Technical documentation;Blogs;Written Tutorial...  ...            NaN   \n",
            "\n",
            "  JobSatPoints_7 JobSatPoints_8 JobSatPoints_9 JobSatPoints_10  \\\n",
            "0            NaN            NaN            NaN             NaN   \n",
            "1            0.0            0.0            0.0             0.0   \n",
            "2            NaN            NaN            NaN             NaN   \n",
            "3            NaN            NaN            NaN             NaN   \n",
            "4            NaN            NaN            NaN             NaN   \n",
            "\n",
            "  JobSatPoints_11           SurveyLength SurveyEase ConvertedCompYearly JobSat  \n",
            "0             NaN                    NaN        NaN                 NaN    NaN  \n",
            "1             0.0                    NaN        NaN                 NaN    NaN  \n",
            "2             NaN  Appropriate in length       Easy                 NaN    NaN  \n",
            "3             NaN               Too long       Easy                 NaN    NaN  \n",
            "4             NaN              Too short       Easy                 NaN    NaN  \n",
            "\n",
            "[5 rows x 114 columns]\n"
          ]
        }
      ],
      "source": [
        "# Define the URL of the dataset\n",
        "file_path = \"https://cf-courses-data.s3.us.cloud-object-storage.appdomain.cloud/n01PQ9pSmiRX6520flujwQ/survey-data.csv\"\n",
        "\n",
        "# Load the dataset into a DataFrame\n",
        "df = pd.read_csv(file_path)\n",
        "\n",
        "# Display the first few rows to ensure it loaded correctly\n",
        "print(df.head())\n"
      ]
    },
    {
      "cell_type": "markdown",
      "metadata": {
        "id": "6-jrstbr5Ug_"
      },
      "source": [
        "**Note: If you are working on a local Jupyter environment, you can use the URL directly in the <code>pandas.read_csv()</code>  function as shown below:**\n",
        "\n"
      ]
    },
    {
      "cell_type": "markdown",
      "metadata": {
        "id": "MFP9eo6B5Ug_"
      },
      "source": [
        "#df = pd.read_csv(\"https://cf-courses-data.s3.us.cloud-object-storage.appdomain.cloud/n01PQ9pSmiRX6520flujwQ/survey-data.csv\")\n"
      ]
    },
    {
      "cell_type": "markdown",
      "metadata": {
        "id": "oQ0DOq595Ug_"
      },
      "source": [
        "### Step 3: Identifying Duplicate Rows\n"
      ]
    },
    {
      "cell_type": "markdown",
      "metadata": {
        "id": "AhKB4Atm5Ug_"
      },
      "source": [
        "**Task 1: Identify Duplicate Rows**\n",
        "  1. Count the number of duplicate rows in the dataset.\n",
        "  2. Display the first few duplicate rows to understand their structure.\n"
      ]
    },
    {
      "cell_type": "code",
      "execution_count": null,
      "metadata": {
        "id": "8BuEhj5a5Ug_",
        "outputId": "d6aa23d2-4d0c-4ab5-e5e9-423c12b2f210"
      },
      "outputs": [
        {
          "name": "stdout",
          "output_type": "stream",
          "text": [
            "Number of duplicate rows based on selected columns: 65270\n"
          ]
        },
        {
          "data": {
            "text/html": [
              "<div>\n",
              "<style scoped>\n",
              "    .dataframe tbody tr th:only-of-type {\n",
              "        vertical-align: middle;\n",
              "    }\n",
              "\n",
              "    .dataframe tbody tr th {\n",
              "        vertical-align: top;\n",
              "    }\n",
              "\n",
              "    .dataframe thead th {\n",
              "        text-align: right;\n",
              "    }\n",
              "</style>\n",
              "<table border=\"1\" class=\"dataframe\">\n",
              "  <thead>\n",
              "    <tr style=\"text-align: right;\">\n",
              "      <th></th>\n",
              "      <th>MainBranch</th>\n",
              "      <th>Employment</th>\n",
              "      <th>RemoteWork</th>\n",
              "    </tr>\n",
              "  </thead>\n",
              "  <tbody>\n",
              "    <tr>\n",
              "      <th>0</th>\n",
              "      <td>I am a developer by profession</td>\n",
              "      <td>Employed, full-time</td>\n",
              "      <td>Remote</td>\n",
              "    </tr>\n",
              "    <tr>\n",
              "      <th>1</th>\n",
              "      <td>I am a developer by profession</td>\n",
              "      <td>Employed, full-time</td>\n",
              "      <td>Remote</td>\n",
              "    </tr>\n",
              "    <tr>\n",
              "      <th>2</th>\n",
              "      <td>I am a developer by profession</td>\n",
              "      <td>Employed, full-time</td>\n",
              "      <td>Remote</td>\n",
              "    </tr>\n",
              "    <tr>\n",
              "      <th>3</th>\n",
              "      <td>I am learning to code</td>\n",
              "      <td>Student, full-time</td>\n",
              "      <td>NaN</td>\n",
              "    </tr>\n",
              "    <tr>\n",
              "      <th>4</th>\n",
              "      <td>I am a developer by profession</td>\n",
              "      <td>Student, full-time</td>\n",
              "      <td>NaN</td>\n",
              "    </tr>\n",
              "  </tbody>\n",
              "</table>\n",
              "</div>"
            ],
            "text/plain": [
              "                       MainBranch           Employment RemoteWork\n",
              "0  I am a developer by profession  Employed, full-time     Remote\n",
              "1  I am a developer by profession  Employed, full-time     Remote\n",
              "2  I am a developer by profession  Employed, full-time     Remote\n",
              "3           I am learning to code   Student, full-time        NaN\n",
              "4  I am a developer by profession   Student, full-time        NaN"
            ]
          },
          "execution_count": 21,
          "metadata": {},
          "output_type": "execute_result"
        }
      ],
      "source": [
        "## Write your code here\n",
        "\n",
        "\n",
        "\n",
        "dup_subset = df[df.duplicated(subset=['MainBranch', 'Employment', 'RemoteWork'], keep=False)]\n",
        "\n",
        "# Display how many such duplicates exist\n",
        "print(f\"Number of duplicate rows based on selected columns: {len(dup_subset)}\")\n",
        "\n",
        "# Show a few of them\n",
        "dup_subset[['MainBranch', 'Employment', 'RemoteWork']].head()"
      ]
    },
    {
      "cell_type": "code",
      "execution_count": null,
      "metadata": {
        "id": "QXT83jwR5Ug_",
        "outputId": "6b8d44a6-8dcd-4da2-d271-78747940eb48"
      },
      "outputs": [
        {
          "data": {
            "text/html": [
              "<div>\n",
              "<style scoped>\n",
              "    .dataframe tbody tr th:only-of-type {\n",
              "        vertical-align: middle;\n",
              "    }\n",
              "\n",
              "    .dataframe tbody tr th {\n",
              "        vertical-align: top;\n",
              "    }\n",
              "\n",
              "    .dataframe thead th {\n",
              "        text-align: right;\n",
              "    }\n",
              "</style>\n",
              "<table border=\"1\" class=\"dataframe\">\n",
              "  <thead>\n",
              "    <tr style=\"text-align: right;\">\n",
              "      <th></th>\n",
              "      <th>ResponseId</th>\n",
              "      <th>MainBranch</th>\n",
              "      <th>Age</th>\n",
              "      <th>Employment</th>\n",
              "      <th>RemoteWork</th>\n",
              "      <th>Check</th>\n",
              "      <th>CodingActivities</th>\n",
              "      <th>EdLevel</th>\n",
              "      <th>LearnCode</th>\n",
              "      <th>LearnCodeOnline</th>\n",
              "      <th>...</th>\n",
              "      <th>JobSatPoints_6</th>\n",
              "      <th>JobSatPoints_7</th>\n",
              "      <th>JobSatPoints_8</th>\n",
              "      <th>JobSatPoints_9</th>\n",
              "      <th>JobSatPoints_10</th>\n",
              "      <th>JobSatPoints_11</th>\n",
              "      <th>SurveyLength</th>\n",
              "      <th>SurveyEase</th>\n",
              "      <th>ConvertedCompYearly</th>\n",
              "      <th>JobSat</th>\n",
              "    </tr>\n",
              "  </thead>\n",
              "  <tbody>\n",
              "  </tbody>\n",
              "</table>\n",
              "<p>0 rows × 114 columns</p>\n",
              "</div>"
            ],
            "text/plain": [
              "Empty DataFrame\n",
              "Columns: [ResponseId, MainBranch, Age, Employment, RemoteWork, Check, CodingActivities, EdLevel, LearnCode, LearnCodeOnline, TechDoc, YearsCode, YearsCodePro, DevType, OrgSize, PurchaseInfluence, BuyNewTool, BuildvsBuy, TechEndorse, Country, Currency, CompTotal, LanguageHaveWorkedWith, LanguageWantToWorkWith, LanguageAdmired, DatabaseHaveWorkedWith, DatabaseWantToWorkWith, DatabaseAdmired, PlatformHaveWorkedWith, PlatformWantToWorkWith, PlatformAdmired, WebframeHaveWorkedWith, WebframeWantToWorkWith, WebframeAdmired, EmbeddedHaveWorkedWith, EmbeddedWantToWorkWith, EmbeddedAdmired, MiscTechHaveWorkedWith, MiscTechWantToWorkWith, MiscTechAdmired, ToolsTechHaveWorkedWith, ToolsTechWantToWorkWith, ToolsTechAdmired, NEWCollabToolsHaveWorkedWith, NEWCollabToolsWantToWorkWith, NEWCollabToolsAdmired, OpSysPersonal use, OpSysProfessional use, OfficeStackAsyncHaveWorkedWith, OfficeStackAsyncWantToWorkWith, OfficeStackAsyncAdmired, OfficeStackSyncHaveWorkedWith, OfficeStackSyncWantToWorkWith, OfficeStackSyncAdmired, AISearchDevHaveWorkedWith, AISearchDevWantToWorkWith, AISearchDevAdmired, NEWSOSites, SOVisitFreq, SOAccount, SOPartFreq, SOHow, SOComm, AISelect, AISent, AIBen, AIAcc, AIComplex, AIToolCurrently Using, AIToolInterested in Using, AIToolNot interested in Using, AINextMuch more integrated, AINextNo change, AINextMore integrated, AINextLess integrated, AINextMuch less integrated, AIThreat, AIEthics, AIChallenges, TBranch, ICorPM, WorkExp, Knowledge_1, Knowledge_2, Knowledge_3, Knowledge_4, Knowledge_5, Knowledge_6, Knowledge_7, Knowledge_8, Knowledge_9, Frequency_1, Frequency_2, Frequency_3, TimeSearching, TimeAnswering, Frustration, ProfessionalTech, ProfessionalCloud, ProfessionalQuestion, ...]\n",
              "Index: []\n",
              "\n",
              "[0 rows x 114 columns]"
            ]
          },
          "execution_count": 23,
          "metadata": {},
          "output_type": "execute_result"
        }
      ],
      "source": [
        "df[df.duplicated()]"
      ]
    },
    {
      "cell_type": "markdown",
      "metadata": {
        "id": "0XzlwR0J5Ug_"
      },
      "source": [
        "### Step 4: Removing Duplicate Rows\n"
      ]
    },
    {
      "cell_type": "markdown",
      "metadata": {
        "id": "72Vcz-Ey5Ug_"
      },
      "source": [
        "**Task 2: Remove Duplicates**\n",
        "   1. Remove duplicate rows from the dataset using the drop_duplicates() function.\n",
        "2. Verify the removal by counting the number of duplicate rows after removal .\n"
      ]
    },
    {
      "cell_type": "code",
      "execution_count": null,
      "metadata": {
        "id": "-M4jRYee5Ug_",
        "outputId": "9ad746e4-d222-4f64-b436-ca1205f45bb2"
      },
      "outputs": [
        {
          "data": {
            "text/html": [
              "<div>\n",
              "<style scoped>\n",
              "    .dataframe tbody tr th:only-of-type {\n",
              "        vertical-align: middle;\n",
              "    }\n",
              "\n",
              "    .dataframe tbody tr th {\n",
              "        vertical-align: top;\n",
              "    }\n",
              "\n",
              "    .dataframe thead th {\n",
              "        text-align: right;\n",
              "    }\n",
              "</style>\n",
              "<table border=\"1\" class=\"dataframe\">\n",
              "  <thead>\n",
              "    <tr style=\"text-align: right;\">\n",
              "      <th></th>\n",
              "      <th>ResponseId</th>\n",
              "      <th>MainBranch</th>\n",
              "      <th>Age</th>\n",
              "      <th>Employment</th>\n",
              "      <th>RemoteWork</th>\n",
              "      <th>Check</th>\n",
              "      <th>CodingActivities</th>\n",
              "      <th>EdLevel</th>\n",
              "      <th>LearnCode</th>\n",
              "      <th>LearnCodeOnline</th>\n",
              "      <th>...</th>\n",
              "      <th>JobSatPoints_6</th>\n",
              "      <th>JobSatPoints_7</th>\n",
              "      <th>JobSatPoints_8</th>\n",
              "      <th>JobSatPoints_9</th>\n",
              "      <th>JobSatPoints_10</th>\n",
              "      <th>JobSatPoints_11</th>\n",
              "      <th>SurveyLength</th>\n",
              "      <th>SurveyEase</th>\n",
              "      <th>ConvertedCompYearly</th>\n",
              "      <th>JobSat</th>\n",
              "    </tr>\n",
              "  </thead>\n",
              "  <tbody>\n",
              "    <tr>\n",
              "      <th>0</th>\n",
              "      <td>1</td>\n",
              "      <td>I am a developer by profession</td>\n",
              "      <td>Under 18 years old</td>\n",
              "      <td>Employed, full-time</td>\n",
              "      <td>Remote</td>\n",
              "      <td>Apples</td>\n",
              "      <td>Hobby</td>\n",
              "      <td>Primary/elementary school</td>\n",
              "      <td>Books / Physical media</td>\n",
              "      <td>NaN</td>\n",
              "      <td>...</td>\n",
              "      <td>NaN</td>\n",
              "      <td>NaN</td>\n",
              "      <td>NaN</td>\n",
              "      <td>NaN</td>\n",
              "      <td>NaN</td>\n",
              "      <td>NaN</td>\n",
              "      <td>NaN</td>\n",
              "      <td>NaN</td>\n",
              "      <td>NaN</td>\n",
              "      <td>NaN</td>\n",
              "    </tr>\n",
              "    <tr>\n",
              "      <th>1</th>\n",
              "      <td>2</td>\n",
              "      <td>I am a developer by profession</td>\n",
              "      <td>35-44 years old</td>\n",
              "      <td>Employed, full-time</td>\n",
              "      <td>Remote</td>\n",
              "      <td>Apples</td>\n",
              "      <td>Hobby;Contribute to open-source projects;Other...</td>\n",
              "      <td>Bachelor’s degree (B.A., B.S., B.Eng., etc.)</td>\n",
              "      <td>Books / Physical media;Colleague;On the job tr...</td>\n",
              "      <td>Technical documentation;Blogs;Books;Written Tu...</td>\n",
              "      <td>...</td>\n",
              "      <td>0.0</td>\n",
              "      <td>0.0</td>\n",
              "      <td>0.0</td>\n",
              "      <td>0.0</td>\n",
              "      <td>0.0</td>\n",
              "      <td>0.0</td>\n",
              "      <td>NaN</td>\n",
              "      <td>NaN</td>\n",
              "      <td>NaN</td>\n",
              "      <td>NaN</td>\n",
              "    </tr>\n",
              "    <tr>\n",
              "      <th>2</th>\n",
              "      <td>3</td>\n",
              "      <td>I am a developer by profession</td>\n",
              "      <td>45-54 years old</td>\n",
              "      <td>Employed, full-time</td>\n",
              "      <td>Remote</td>\n",
              "      <td>Apples</td>\n",
              "      <td>Hobby;Contribute to open-source projects;Other...</td>\n",
              "      <td>Master’s degree (M.A., M.S., M.Eng., MBA, etc.)</td>\n",
              "      <td>Books / Physical media;Colleague;On the job tr...</td>\n",
              "      <td>Technical documentation;Blogs;Books;Written Tu...</td>\n",
              "      <td>...</td>\n",
              "      <td>NaN</td>\n",
              "      <td>NaN</td>\n",
              "      <td>NaN</td>\n",
              "      <td>NaN</td>\n",
              "      <td>NaN</td>\n",
              "      <td>NaN</td>\n",
              "      <td>Appropriate in length</td>\n",
              "      <td>Easy</td>\n",
              "      <td>NaN</td>\n",
              "      <td>NaN</td>\n",
              "    </tr>\n",
              "    <tr>\n",
              "      <th>3</th>\n",
              "      <td>4</td>\n",
              "      <td>I am learning to code</td>\n",
              "      <td>18-24 years old</td>\n",
              "      <td>Student, full-time</td>\n",
              "      <td>NaN</td>\n",
              "      <td>Apples</td>\n",
              "      <td>NaN</td>\n",
              "      <td>Some college/university study without earning ...</td>\n",
              "      <td>Other online resources (e.g., videos, blogs, f...</td>\n",
              "      <td>Stack Overflow;How-to videos;Interactive tutorial</td>\n",
              "      <td>...</td>\n",
              "      <td>NaN</td>\n",
              "      <td>NaN</td>\n",
              "      <td>NaN</td>\n",
              "      <td>NaN</td>\n",
              "      <td>NaN</td>\n",
              "      <td>NaN</td>\n",
              "      <td>Too long</td>\n",
              "      <td>Easy</td>\n",
              "      <td>NaN</td>\n",
              "      <td>NaN</td>\n",
              "    </tr>\n",
              "    <tr>\n",
              "      <th>4</th>\n",
              "      <td>5</td>\n",
              "      <td>I am a developer by profession</td>\n",
              "      <td>18-24 years old</td>\n",
              "      <td>Student, full-time</td>\n",
              "      <td>NaN</td>\n",
              "      <td>Apples</td>\n",
              "      <td>NaN</td>\n",
              "      <td>Secondary school (e.g. American high school, G...</td>\n",
              "      <td>Other online resources (e.g., videos, blogs, f...</td>\n",
              "      <td>Technical documentation;Blogs;Written Tutorial...</td>\n",
              "      <td>...</td>\n",
              "      <td>NaN</td>\n",
              "      <td>NaN</td>\n",
              "      <td>NaN</td>\n",
              "      <td>NaN</td>\n",
              "      <td>NaN</td>\n",
              "      <td>NaN</td>\n",
              "      <td>Too short</td>\n",
              "      <td>Easy</td>\n",
              "      <td>NaN</td>\n",
              "      <td>NaN</td>\n",
              "    </tr>\n",
              "    <tr>\n",
              "      <th>...</th>\n",
              "      <td>...</td>\n",
              "      <td>...</td>\n",
              "      <td>...</td>\n",
              "      <td>...</td>\n",
              "      <td>...</td>\n",
              "      <td>...</td>\n",
              "      <td>...</td>\n",
              "      <td>...</td>\n",
              "      <td>...</td>\n",
              "      <td>...</td>\n",
              "      <td>...</td>\n",
              "      <td>...</td>\n",
              "      <td>...</td>\n",
              "      <td>...</td>\n",
              "      <td>...</td>\n",
              "      <td>...</td>\n",
              "      <td>...</td>\n",
              "      <td>...</td>\n",
              "      <td>...</td>\n",
              "      <td>...</td>\n",
              "      <td>...</td>\n",
              "    </tr>\n",
              "    <tr>\n",
              "      <th>65420</th>\n",
              "      <td>65421</td>\n",
              "      <td>I am learning to code</td>\n",
              "      <td>Under 18 years old</td>\n",
              "      <td>Student, full-time</td>\n",
              "      <td>NaN</td>\n",
              "      <td>Apples</td>\n",
              "      <td>NaN</td>\n",
              "      <td>Secondary school (e.g. American high school, G...</td>\n",
              "      <td>Other online resources (e.g., videos, blogs, f...</td>\n",
              "      <td>Coding sessions (live or recorded);Video-based...</td>\n",
              "      <td>...</td>\n",
              "      <td>NaN</td>\n",
              "      <td>NaN</td>\n",
              "      <td>NaN</td>\n",
              "      <td>NaN</td>\n",
              "      <td>NaN</td>\n",
              "      <td>NaN</td>\n",
              "      <td>NaN</td>\n",
              "      <td>NaN</td>\n",
              "      <td>NaN</td>\n",
              "      <td>NaN</td>\n",
              "    </tr>\n",
              "    <tr>\n",
              "      <th>65425</th>\n",
              "      <td>65426</td>\n",
              "      <td>I am a developer by profession</td>\n",
              "      <td>18-24 years old</td>\n",
              "      <td>Employed, full-time;Student, full-time;Employe...</td>\n",
              "      <td>Hybrid (some remote, some in-person)</td>\n",
              "      <td>Apples</td>\n",
              "      <td>Hobby;Bootstrapping a business;Professional de...</td>\n",
              "      <td>NaN</td>\n",
              "      <td>NaN</td>\n",
              "      <td>NaN</td>\n",
              "      <td>...</td>\n",
              "      <td>NaN</td>\n",
              "      <td>NaN</td>\n",
              "      <td>NaN</td>\n",
              "      <td>NaN</td>\n",
              "      <td>NaN</td>\n",
              "      <td>NaN</td>\n",
              "      <td>NaN</td>\n",
              "      <td>NaN</td>\n",
              "      <td>NaN</td>\n",
              "      <td>NaN</td>\n",
              "    </tr>\n",
              "    <tr>\n",
              "      <th>65427</th>\n",
              "      <td>65428</td>\n",
              "      <td>I am not primarily a developer, but I write co...</td>\n",
              "      <td>25-34 years old</td>\n",
              "      <td>Not employed, but looking for work;Employed, p...</td>\n",
              "      <td>In-person</td>\n",
              "      <td>Apples</td>\n",
              "      <td>Hobby;Professional development or self-paced l...</td>\n",
              "      <td>NaN</td>\n",
              "      <td>NaN</td>\n",
              "      <td>NaN</td>\n",
              "      <td>...</td>\n",
              "      <td>NaN</td>\n",
              "      <td>NaN</td>\n",
              "      <td>NaN</td>\n",
              "      <td>NaN</td>\n",
              "      <td>NaN</td>\n",
              "      <td>NaN</td>\n",
              "      <td>NaN</td>\n",
              "      <td>NaN</td>\n",
              "      <td>NaN</td>\n",
              "      <td>NaN</td>\n",
              "    </tr>\n",
              "    <tr>\n",
              "      <th>65430</th>\n",
              "      <td>65431</td>\n",
              "      <td>I am learning to code</td>\n",
              "      <td>18-24 years old</td>\n",
              "      <td>Not employed, but looking for work;Employed, p...</td>\n",
              "      <td>In-person</td>\n",
              "      <td>Apples</td>\n",
              "      <td>Hobby;Professional development or self-paced l...</td>\n",
              "      <td>NaN</td>\n",
              "      <td>NaN</td>\n",
              "      <td>NaN</td>\n",
              "      <td>...</td>\n",
              "      <td>NaN</td>\n",
              "      <td>NaN</td>\n",
              "      <td>NaN</td>\n",
              "      <td>NaN</td>\n",
              "      <td>NaN</td>\n",
              "      <td>NaN</td>\n",
              "      <td>NaN</td>\n",
              "      <td>NaN</td>\n",
              "      <td>NaN</td>\n",
              "      <td>NaN</td>\n",
              "    </tr>\n",
              "    <tr>\n",
              "      <th>65431</th>\n",
              "      <td>65432</td>\n",
              "      <td>I am a developer by profession</td>\n",
              "      <td>45-54 years old</td>\n",
              "      <td>Employed, full-time</td>\n",
              "      <td>Hybrid (some remote, some in-person)</td>\n",
              "      <td>Apples</td>\n",
              "      <td>Hobby;Contribute to open-source projects;Profe...</td>\n",
              "      <td>Bachelor’s degree (B.A., B.S., B.Eng., etc.)</td>\n",
              "      <td>Books / Physical media;Colleague;On the job tr...</td>\n",
              "      <td>Technical documentation;Blogs;Books;Written Tu...</td>\n",
              "      <td>...</td>\n",
              "      <td>NaN</td>\n",
              "      <td>NaN</td>\n",
              "      <td>NaN</td>\n",
              "      <td>NaN</td>\n",
              "      <td>NaN</td>\n",
              "      <td>NaN</td>\n",
              "      <td>NaN</td>\n",
              "      <td>NaN</td>\n",
              "      <td>NaN</td>\n",
              "      <td>NaN</td>\n",
              "    </tr>\n",
              "  </tbody>\n",
              "</table>\n",
              "<p>39990 rows × 114 columns</p>\n",
              "</div>"
            ],
            "text/plain": [
              "       ResponseId                                         MainBranch  \\\n",
              "0               1                     I am a developer by profession   \n",
              "1               2                     I am a developer by profession   \n",
              "2               3                     I am a developer by profession   \n",
              "3               4                              I am learning to code   \n",
              "4               5                     I am a developer by profession   \n",
              "...           ...                                                ...   \n",
              "65420       65421                              I am learning to code   \n",
              "65425       65426                     I am a developer by profession   \n",
              "65427       65428  I am not primarily a developer, but I write co...   \n",
              "65430       65431                              I am learning to code   \n",
              "65431       65432                     I am a developer by profession   \n",
              "\n",
              "                      Age                                         Employment  \\\n",
              "0      Under 18 years old                                Employed, full-time   \n",
              "1         35-44 years old                                Employed, full-time   \n",
              "2         45-54 years old                                Employed, full-time   \n",
              "3         18-24 years old                                 Student, full-time   \n",
              "4         18-24 years old                                 Student, full-time   \n",
              "...                   ...                                                ...   \n",
              "65420  Under 18 years old                                 Student, full-time   \n",
              "65425     18-24 years old  Employed, full-time;Student, full-time;Employe...   \n",
              "65427     25-34 years old  Not employed, but looking for work;Employed, p...   \n",
              "65430     18-24 years old  Not employed, but looking for work;Employed, p...   \n",
              "65431     45-54 years old                                Employed, full-time   \n",
              "\n",
              "                                 RemoteWork   Check  \\\n",
              "0                                    Remote  Apples   \n",
              "1                                    Remote  Apples   \n",
              "2                                    Remote  Apples   \n",
              "3                                       NaN  Apples   \n",
              "4                                       NaN  Apples   \n",
              "...                                     ...     ...   \n",
              "65420                                   NaN  Apples   \n",
              "65425  Hybrid (some remote, some in-person)  Apples   \n",
              "65427                             In-person  Apples   \n",
              "65430                             In-person  Apples   \n",
              "65431  Hybrid (some remote, some in-person)  Apples   \n",
              "\n",
              "                                        CodingActivities  \\\n",
              "0                                                  Hobby   \n",
              "1      Hobby;Contribute to open-source projects;Other...   \n",
              "2      Hobby;Contribute to open-source projects;Other...   \n",
              "3                                                    NaN   \n",
              "4                                                    NaN   \n",
              "...                                                  ...   \n",
              "65420                                                NaN   \n",
              "65425  Hobby;Bootstrapping a business;Professional de...   \n",
              "65427  Hobby;Professional development or self-paced l...   \n",
              "65430  Hobby;Professional development or self-paced l...   \n",
              "65431  Hobby;Contribute to open-source projects;Profe...   \n",
              "\n",
              "                                                 EdLevel  \\\n",
              "0                              Primary/elementary school   \n",
              "1           Bachelor’s degree (B.A., B.S., B.Eng., etc.)   \n",
              "2        Master’s degree (M.A., M.S., M.Eng., MBA, etc.)   \n",
              "3      Some college/university study without earning ...   \n",
              "4      Secondary school (e.g. American high school, G...   \n",
              "...                                                  ...   \n",
              "65420  Secondary school (e.g. American high school, G...   \n",
              "65425                                                NaN   \n",
              "65427                                                NaN   \n",
              "65430                                                NaN   \n",
              "65431       Bachelor’s degree (B.A., B.S., B.Eng., etc.)   \n",
              "\n",
              "                                               LearnCode  \\\n",
              "0                                 Books / Physical media   \n",
              "1      Books / Physical media;Colleague;On the job tr...   \n",
              "2      Books / Physical media;Colleague;On the job tr...   \n",
              "3      Other online resources (e.g., videos, blogs, f...   \n",
              "4      Other online resources (e.g., videos, blogs, f...   \n",
              "...                                                  ...   \n",
              "65420  Other online resources (e.g., videos, blogs, f...   \n",
              "65425                                                NaN   \n",
              "65427                                                NaN   \n",
              "65430                                                NaN   \n",
              "65431  Books / Physical media;Colleague;On the job tr...   \n",
              "\n",
              "                                         LearnCodeOnline  ... JobSatPoints_6  \\\n",
              "0                                                    NaN  ...            NaN   \n",
              "1      Technical documentation;Blogs;Books;Written Tu...  ...            0.0   \n",
              "2      Technical documentation;Blogs;Books;Written Tu...  ...            NaN   \n",
              "3      Stack Overflow;How-to videos;Interactive tutorial  ...            NaN   \n",
              "4      Technical documentation;Blogs;Written Tutorial...  ...            NaN   \n",
              "...                                                  ...  ...            ...   \n",
              "65420  Coding sessions (live or recorded);Video-based...  ...            NaN   \n",
              "65425                                                NaN  ...            NaN   \n",
              "65427                                                NaN  ...            NaN   \n",
              "65430                                                NaN  ...            NaN   \n",
              "65431  Technical documentation;Blogs;Books;Written Tu...  ...            NaN   \n",
              "\n",
              "      JobSatPoints_7 JobSatPoints_8 JobSatPoints_9 JobSatPoints_10  \\\n",
              "0                NaN            NaN            NaN             NaN   \n",
              "1                0.0            0.0            0.0             0.0   \n",
              "2                NaN            NaN            NaN             NaN   \n",
              "3                NaN            NaN            NaN             NaN   \n",
              "4                NaN            NaN            NaN             NaN   \n",
              "...              ...            ...            ...             ...   \n",
              "65420            NaN            NaN            NaN             NaN   \n",
              "65425            NaN            NaN            NaN             NaN   \n",
              "65427            NaN            NaN            NaN             NaN   \n",
              "65430            NaN            NaN            NaN             NaN   \n",
              "65431            NaN            NaN            NaN             NaN   \n",
              "\n",
              "      JobSatPoints_11           SurveyLength SurveyEase ConvertedCompYearly  \\\n",
              "0                 NaN                    NaN        NaN                 NaN   \n",
              "1                 0.0                    NaN        NaN                 NaN   \n",
              "2                 NaN  Appropriate in length       Easy                 NaN   \n",
              "3                 NaN               Too long       Easy                 NaN   \n",
              "4                 NaN              Too short       Easy                 NaN   \n",
              "...               ...                    ...        ...                 ...   \n",
              "65420             NaN                    NaN        NaN                 NaN   \n",
              "65425             NaN                    NaN        NaN                 NaN   \n",
              "65427             NaN                    NaN        NaN                 NaN   \n",
              "65430             NaN                    NaN        NaN                 NaN   \n",
              "65431             NaN                    NaN        NaN                 NaN   \n",
              "\n",
              "      JobSat  \n",
              "0        NaN  \n",
              "1        NaN  \n",
              "2        NaN  \n",
              "3        NaN  \n",
              "4        NaN  \n",
              "...      ...  \n",
              "65420    NaN  \n",
              "65425    NaN  \n",
              "65427    NaN  \n",
              "65430    NaN  \n",
              "65431    NaN  \n",
              "\n",
              "[39990 rows x 114 columns]"
            ]
          },
          "execution_count": 24,
          "metadata": {},
          "output_type": "execute_result"
        }
      ],
      "source": [
        "## Write your code here\n",
        "df_cleaned = df.drop_duplicates(subset=['MainBranch', 'Employment', 'RemoteWork', 'Country', 'YearsCode', 'Age', 'EdLevel'])\n",
        "df_cleaned"
      ]
    },
    {
      "cell_type": "markdown",
      "metadata": {
        "id": "JgL3rqYq5Ug_"
      },
      "source": [
        "### Step 5: Handling Missing Values\n"
      ]
    },
    {
      "cell_type": "markdown",
      "metadata": {
        "id": "d_GwoZO_5Ug_"
      },
      "source": [
        "**Task 3: Identify and Handle Missing Values**\n",
        "   1. Identify missing values for all columns in the dataset.\n",
        "   2. Choose a column with significant missing values (e.g., EdLevel) and impute with the most frequent value.\n"
      ]
    },
    {
      "cell_type": "code",
      "execution_count": null,
      "metadata": {
        "id": "coc5YVO55Ug_",
        "outputId": "dbc72f3f-8053-4175-cf93-cc064d9d164a"
      },
      "outputs": [
        {
          "data": {
            "text/html": [
              "<div>\n",
              "<style scoped>\n",
              "    .dataframe tbody tr th:only-of-type {\n",
              "        vertical-align: middle;\n",
              "    }\n",
              "\n",
              "    .dataframe tbody tr th {\n",
              "        vertical-align: top;\n",
              "    }\n",
              "\n",
              "    .dataframe thead th {\n",
              "        text-align: right;\n",
              "    }\n",
              "</style>\n",
              "<table border=\"1\" class=\"dataframe\">\n",
              "  <thead>\n",
              "    <tr style=\"text-align: right;\">\n",
              "      <th></th>\n",
              "      <th>Missing Values</th>\n",
              "      <th>Percentage (%)</th>\n",
              "    </tr>\n",
              "  </thead>\n",
              "  <tbody>\n",
              "    <tr>\n",
              "      <th>AINextMuch less integrated</th>\n",
              "      <td>64289</td>\n",
              "      <td>98.245641</td>\n",
              "    </tr>\n",
              "    <tr>\n",
              "      <th>AINextLess integrated</th>\n",
              "      <td>63082</td>\n",
              "      <td>96.401119</td>\n",
              "    </tr>\n",
              "    <tr>\n",
              "      <th>AINextNo change</th>\n",
              "      <td>52939</td>\n",
              "      <td>80.900714</td>\n",
              "    </tr>\n",
              "    <tr>\n",
              "      <th>AINextMuch more integrated</th>\n",
              "      <td>51999</td>\n",
              "      <td>79.464217</td>\n",
              "    </tr>\n",
              "    <tr>\n",
              "      <th>EmbeddedAdmired</th>\n",
              "      <td>48704</td>\n",
              "      <td>74.428840</td>\n",
              "    </tr>\n",
              "    <tr>\n",
              "      <th>...</th>\n",
              "      <td>...</td>\n",
              "      <td>...</td>\n",
              "    </tr>\n",
              "    <tr>\n",
              "      <th>YearsCode</th>\n",
              "      <td>5568</td>\n",
              "      <td>8.508948</td>\n",
              "    </tr>\n",
              "    <tr>\n",
              "      <th>NEWSOSites</th>\n",
              "      <td>5151</td>\n",
              "      <td>7.871693</td>\n",
              "    </tr>\n",
              "    <tr>\n",
              "      <th>LearnCode</th>\n",
              "      <td>4949</td>\n",
              "      <td>7.563000</td>\n",
              "    </tr>\n",
              "    <tr>\n",
              "      <th>EdLevel</th>\n",
              "      <td>4653</td>\n",
              "      <td>7.110656</td>\n",
              "    </tr>\n",
              "    <tr>\n",
              "      <th>AISelect</th>\n",
              "      <td>4530</td>\n",
              "      <td>6.922689</td>\n",
              "    </tr>\n",
              "  </tbody>\n",
              "</table>\n",
              "<p>109 rows × 2 columns</p>\n",
              "</div>"
            ],
            "text/plain": [
              "                            Missing Values  Percentage (%)\n",
              "AINextMuch less integrated           64289       98.245641\n",
              "AINextLess integrated                63082       96.401119\n",
              "AINextNo change                      52939       80.900714\n",
              "AINextMuch more integrated           51999       79.464217\n",
              "EmbeddedAdmired                      48704       74.428840\n",
              "...                                    ...             ...\n",
              "YearsCode                             5568        8.508948\n",
              "NEWSOSites                            5151        7.871693\n",
              "LearnCode                             4949        7.563000\n",
              "EdLevel                               4653        7.110656\n",
              "AISelect                              4530        6.922689\n",
              "\n",
              "[109 rows x 2 columns]"
            ]
          },
          "execution_count": 27,
          "metadata": {},
          "output_type": "execute_result"
        }
      ],
      "source": [
        "## Write your code here\n",
        "missing_values = df.isnull().sum()\n",
        "\n",
        "# Percentage of missing values\n",
        "missing_percent = (missing_values / len(df)) * 100\n",
        "\n",
        "# Combine and display\n",
        "missing_df = pd.DataFrame({\n",
        "    'Missing Values': missing_values,\n",
        "    'Percentage (%)': missing_percent\n",
        "}).sort_values(by='Missing Values', ascending=False)\n",
        "\n",
        "# Display columns with at least one missing value\n",
        "missing_df[missing_df['Missing Values'] > 0]"
      ]
    },
    {
      "cell_type": "code",
      "execution_count": null,
      "metadata": {
        "id": "hso4mzvu5UhA",
        "outputId": "49b97682-2693-466a-ffb6-816a6c2f863a"
      },
      "outputs": [
        {
          "data": {
            "text/plain": [
              "np.int64(0)"
            ]
          },
          "execution_count": 33,
          "metadata": {},
          "output_type": "execute_result"
        }
      ],
      "source": [
        "most_frequent_edlevel = df['EdLevel'].mode()[0]\n",
        "\n",
        "# # Fill missing values with the mode\n",
        "df['EdLevel'].fillna(most_frequent_edlevel, inplace=True)\n",
        "df['EdLevel'].isnull().sum()"
      ]
    },
    {
      "cell_type": "markdown",
      "metadata": {
        "id": "hpHQUa0Y5UhA"
      },
      "source": [
        "### Step 6: Normalizing Compensation Data\n"
      ]
    },
    {
      "cell_type": "markdown",
      "metadata": {
        "id": "0iCOu-or5UhA"
      },
      "source": [
        "**Task 4: Normalize Compensation Data Using ConvertedCompYearly**\n",
        "   1. Use the ConvertedCompYearly column for compensation analysis as the normalized annual compensation is already provided.\n",
        "   2. Check for missing values in ConvertedCompYearly and handle them if necessary.\n"
      ]
    },
    {
      "cell_type": "code",
      "execution_count": null,
      "metadata": {
        "id": "4ts2YniZ5UhA",
        "outputId": "ba37fefe-cc64-41b3-ed31-8b4d3ad8aa6e"
      },
      "outputs": [
        {
          "name": "stderr",
          "output_type": "stream",
          "text": [
            "/tmp/ipykernel_597/2135417475.py:6: FutureWarning: A value is trying to be set on a copy of a DataFrame or Series through chained assignment using an inplace method.\n",
            "The behavior will change in pandas 3.0. This inplace method will never work because the intermediate object on which we are setting values always behaves as a copy.\n",
            "\n",
            "For example, when doing 'df[col].method(value, inplace=True)', try using 'df.method({col: value}, inplace=True)' or df[col] = df[col].method(value) instead, to perform the operation inplace on the original object.\n",
            "\n",
            "\n",
            "  df['ConvertedCompYearly'].fillna(median_comp, inplace=True)\n"
          ]
        },
        {
          "data": {
            "text/plain": [
              "np.int64(0)"
            ]
          },
          "execution_count": 38,
          "metadata": {},
          "output_type": "execute_result"
        }
      ],
      "source": [
        "## Write your code here\n",
        "missing_comp = df['ConvertedCompYearly'].isnull().sum()\n",
        "missing_comp\n",
        "\n",
        "median_comp = df['ConvertedCompYearly'].median()\n",
        "df['ConvertedCompYearly'].fillna(median_comp, inplace=True)\n",
        "df['ConvertedCompYearly'].isnull().sum()"
      ]
    },
    {
      "cell_type": "markdown",
      "metadata": {
        "id": "j2zHUIm_5UhA"
      },
      "source": [
        "### Step 7: Summary and Next Steps\n"
      ]
    },
    {
      "cell_type": "markdown",
      "metadata": {
        "id": "ipi1MJKt5UhA"
      },
      "source": [
        "**In this lab, you focused on identifying and removing duplicate rows.**\n",
        "\n",
        "- You handled missing values by imputing the most frequent value in a chosen column.\n",
        "\n",
        "- You used ConvertedCompYearly for compensation normalization and handled missing values.\n",
        "\n",
        "- For further analysis, consider exploring other columns or visualizing the cleaned dataset.\n"
      ]
    },
    {
      "cell_type": "code",
      "execution_count": null,
      "metadata": {
        "id": "ft4Mo-m15UhA"
      },
      "outputs": [],
      "source": [
        "## Write your code here"
      ]
    },
    {
      "cell_type": "markdown",
      "metadata": {
        "id": "3uDsbKhb5UhA"
      },
      "source": [
        "<!--\n",
        "## Change Log\n",
        "\n",
        "|Date (YYYY-MM-DD)|Version|Changed By|Change Description|\n",
        "|-|-|-|-|\n",
        "|2024-11-05|1.2|Madhusudhan Moole|Updated lab|\n",
        "|2024-09-24|1.1|Madhusudhan Moole|Updated lab|\n",
        "|2024-09-23|1.0|Raghul Ramesh|Created lab|\n",
        "\n",
        "--!>\n"
      ]
    },
    {
      "cell_type": "markdown",
      "metadata": {
        "id": "6QS-Tt7v5UhA"
      },
      "source": [
        "Copyright © IBM Corporation. All rights reserved.\n"
      ]
    }
  ],
  "metadata": {
    "kernelspec": {
      "display_name": "Python 3 (ipykernel)",
      "language": "python",
      "name": "python3"
    },
    "language_info": {
      "codemirror_mode": {
        "name": "ipython",
        "version": 3
      },
      "file_extension": ".py",
      "mimetype": "text/x-python",
      "name": "python",
      "nbconvert_exporter": "python",
      "pygments_lexer": "ipython3",
      "version": "3.12.8"
    },
    "prev_pub_hash": "2116052544ce403759eef2159eb3d21f1d38e895d652bcaffa36a5791482361d",
    "colab": {
      "provenance": [],
      "include_colab_link": true
    }
  },
  "nbformat": 4,
  "nbformat_minor": 0
}